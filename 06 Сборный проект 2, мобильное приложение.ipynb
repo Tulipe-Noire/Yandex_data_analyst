{
 "cells": [
  {
   "cell_type": "markdown",
   "metadata": {},
   "source": [
    "# Сборный проект - 2"
   ]
  },
  {
   "cell_type": "markdown",
   "metadata": {},
   "source": [
    "**Описание проекта**\n",
    "\n",
    "Вы работаете в стартапе, который продаёт продукты питания. Нужно разобраться, как ведут себя пользователи вашего мобильного приложения.\n",
    "\n",
    "Изучите воронку продаж. Узнайте, как пользователи доходят до покупки. Сколько пользователей доходит до покупки, а сколько — «застревает» на предыдущих шагах? На каких именно?\n",
    "\n",
    "После этого исследуйте результаты A/A/B-эксперимента. Дизайнеры захотели поменять шрифты во всём приложении, а менеджеры испугались, что пользователям будет непривычно. Договорились принять решение по результатам A/A/B-теста. Пользователей разбили на 3 группы: 2 контрольные со старыми шрифтами и одну экспериментальную — с новыми. Выясните, какой шрифт лучше.\n",
    "\n",
    "Создание двух групп A вместо одной имеет определённые преимущества. Если две контрольные группы окажутся равны, вы можете быть уверены в точности проведенного тестирования. Если же между значениями A и A будут существенные различия, это поможет обнаружить факторы, которые привели к искажению результатов. Сравнение контрольных групп также помогает понять, сколько времени и данных потребуется для дальнейших тестов.\n",
    "\n",
    "В случае общей аналитики и A/A/B-эксперимента работайте с одними и теми же данными. В реальных проектах всегда идут эксперименты. Аналитики исследуют качество работы приложения по общим данным, не учитывая принадлежность пользователей к экспериментам.\n",
    "\n",
    "**Описание данных**\n",
    "\n",
    "Каждая запись в логе — это действие пользователя, или событие. \n",
    "* EventName — название события;\n",
    "* DeviceIDHash — уникальный идентификатор пользователя;\n",
    "* EventTimestamp — время события;\n",
    "* ExpId — номер эксперимента: 246 и 247 — контрольные группы, а 248 — экспериментальная.\n",
    "\n",
    "**Шаг 1. Откройте файл с данными и изучите общую информацию**\n",
    "\n",
    "Путь к файлу: /datasets/logs_exp.csv.\n",
    "\n",
    "**Шаг 2. Подготовьте данные**\n",
    "* Замените названия столбцов на удобные для вас;\n",
    "* Проверьте пропуски и типы данных. Откорректируйте, если нужно;\n",
    "* Добавьте столбец даты и времени, а также отдельный столбец дат;\n",
    "\n",
    "**Шаг 3. Изучите и проверьте данные**\n",
    "* Сколько всего событий в логе?\n",
    "* Сколько всего пользователей в логе?\n",
    "* Сколько в среднем событий приходится на пользователя?\n",
    "* Данными за какой период вы располагаете? Найдите максимальную и минимальную дату. Постройте гистограмму по дате и времени. Можно ли быть уверенным, что у вас одинаково полные данные за весь период? Технически в логи новых дней по некоторым пользователям могут «доезжать» события из прошлого — это может «перекашивать данные». Определите, с какого момента данные полные и отбросьте более старые. Данными за какой период времени вы располагаете на самом деле?\n",
    "* Много ли событий и пользователей вы потеряли, отбросив старые данные?\n",
    "* Проверьте, что у вас есть пользователи из всех трёх экспериментальных групп.\n",
    "\n",
    "**Шаг 4. Изучите воронку событий**\n",
    "* Посмотрите, какие события есть в логах, как часто они встречаются. Отсортируйте события по частоте.\n",
    "* Посчитайте, сколько пользователей совершали каждое из этих событий. Отсортируйте события по числу пользователей. Посчитайте долю пользователей, которые хоть раз совершали событие.\n",
    "* Предположите, в каком порядке происходят события. Все ли они выстраиваются в последовательную цепочку? Их не нужно учитывать при расчёте воронки.\n",
    "* По воронке событий посчитайте, какая доля пользователей проходит на следующий шаг воронки (от числа пользователей на предыдущем). То есть для последовательности событий A → B → C посчитайте отношение числа пользователей с событием B к количеству пользователей с событием A, а также отношение числа пользователей с событием C к количеству пользователей с событием B.\n",
    "* На каком шаге теряете больше всего пользователей?\n",
    "* Какая доля пользователей доходит от первого события до оплаты?\n",
    "\n",
    "**Шаг 5. Изучите результаты эксперимента**\n",
    "* Сколько пользователей в каждой экспериментальной группе?\n",
    "* Есть 2 контрольные группы для А/А-эксперимента, чтобы проверить корректность всех механизмов и расчётов. Проверьте, находят ли статистические критерии разницу между выборками 246 и 247.\n",
    "* Выберите самое популярное событие. Посчитайте число пользователей, совершивших это событие в каждой из контрольных групп. Посчитайте долю пользователей, совершивших это событие. Проверьте, будет ли отличие между группами статистически достоверным. Проделайте то же самое для всех других событий (удобно обернуть проверку в отдельную функцию). Можно ли сказать, что разбиение на группы работает корректно?\n",
    "* Аналогично поступите с группой с изменённым шрифтом. Сравните результаты с каждой из контрольных групп в отдельности по каждому событию. Сравните результаты с объединённой контрольной группой. Какие выводы из эксперимента можно сделать?\n",
    "* Какой уровень значимости вы выбрали при проверке статистических гипотез выше? Посчитайте, сколько проверок статистических гипотез вы сделали. При уровне значимости 0.1 каждый десятый раз можно получать ложный результат. Какой уровень значимости стоит применить? Если вы хотите изменить его, проделайте предыдущие пункты и проверьте свои выводы."
   ]
  },
  {
   "cell_type": "markdown",
   "metadata": {},
   "source": [
    "Импортируем **библиотеки**"
   ]
  },
  {
   "cell_type": "code",
   "execution_count": 1,
   "metadata": {},
   "outputs": [],
   "source": [
    "import pandas as pd\n",
    "import matplotlib.pyplot as plt \n",
    "import seaborn as sns\n",
    "import numpy as np\n",
    "import math\n",
    "import scipy.stats as stats\n",
    "from scipy import stats as st\n",
    "from datetime import datetime, timedelta\n",
    "%matplotlib inline"
   ]
  },
  {
   "cell_type": "markdown",
   "metadata": {},
   "source": [
    "Настраиваем **вывод данных**"
   ]
  },
  {
   "cell_type": "code",
   "execution_count": 2,
   "metadata": {},
   "outputs": [],
   "source": [
    "pd.set_option('display.max_columns', None)\n",
    "pd.set_option('display.max_rows', None)\n",
    "pd.set_option('display.max_colwidth', None)\n",
    "pd.options.display.float_format = '{:,.2f}'.format\n",
    "sns.set(rc={'figure.figsize':(15,7)})"
   ]
  },
  {
   "cell_type": "markdown",
   "metadata": {},
   "source": [
    "## Откроем файл с данными и изучим общую информацию"
   ]
  },
  {
   "cell_type": "code",
   "execution_count": 3,
   "metadata": {},
   "outputs": [],
   "source": [
    "logs_exp = pd.read_csv('https://code.s3.yandex.net/datasets//logs_exp.csv', sep='\\t')"
   ]
  },
  {
   "cell_type": "markdown",
   "metadata": {},
   "source": [
    "Первый взгляд на **датасет**"
   ]
  },
  {
   "cell_type": "code",
   "execution_count": 4,
   "metadata": {},
   "outputs": [
    {
     "data": {
      "text/html": [
       "<div>\n",
       "<style scoped>\n",
       "    .dataframe tbody tr th:only-of-type {\n",
       "        vertical-align: middle;\n",
       "    }\n",
       "\n",
       "    .dataframe tbody tr th {\n",
       "        vertical-align: top;\n",
       "    }\n",
       "\n",
       "    .dataframe thead th {\n",
       "        text-align: right;\n",
       "    }\n",
       "</style>\n",
       "<table border=\"1\" class=\"dataframe\">\n",
       "  <thead>\n",
       "    <tr style=\"text-align: right;\">\n",
       "      <th></th>\n",
       "      <th>EventName</th>\n",
       "      <th>DeviceIDHash</th>\n",
       "      <th>EventTimestamp</th>\n",
       "      <th>ExpId</th>\n",
       "    </tr>\n",
       "  </thead>\n",
       "  <tbody>\n",
       "    <tr>\n",
       "      <th>0</th>\n",
       "      <td>MainScreenAppear</td>\n",
       "      <td>4575588528974610257</td>\n",
       "      <td>1564029816</td>\n",
       "      <td>246</td>\n",
       "    </tr>\n",
       "    <tr>\n",
       "      <th>1</th>\n",
       "      <td>MainScreenAppear</td>\n",
       "      <td>7416695313311560658</td>\n",
       "      <td>1564053102</td>\n",
       "      <td>246</td>\n",
       "    </tr>\n",
       "    <tr>\n",
       "      <th>2</th>\n",
       "      <td>PaymentScreenSuccessful</td>\n",
       "      <td>3518123091307005509</td>\n",
       "      <td>1564054127</td>\n",
       "      <td>248</td>\n",
       "    </tr>\n",
       "    <tr>\n",
       "      <th>3</th>\n",
       "      <td>CartScreenAppear</td>\n",
       "      <td>3518123091307005509</td>\n",
       "      <td>1564054127</td>\n",
       "      <td>248</td>\n",
       "    </tr>\n",
       "    <tr>\n",
       "      <th>4</th>\n",
       "      <td>PaymentScreenSuccessful</td>\n",
       "      <td>6217807653094995999</td>\n",
       "      <td>1564055322</td>\n",
       "      <td>248</td>\n",
       "    </tr>\n",
       "    <tr>\n",
       "      <th>5</th>\n",
       "      <td>CartScreenAppear</td>\n",
       "      <td>6217807653094995999</td>\n",
       "      <td>1564055323</td>\n",
       "      <td>248</td>\n",
       "    </tr>\n",
       "    <tr>\n",
       "      <th>6</th>\n",
       "      <td>OffersScreenAppear</td>\n",
       "      <td>8351860793733343758</td>\n",
       "      <td>1564066242</td>\n",
       "      <td>246</td>\n",
       "    </tr>\n",
       "    <tr>\n",
       "      <th>7</th>\n",
       "      <td>MainScreenAppear</td>\n",
       "      <td>5682100281902512875</td>\n",
       "      <td>1564085677</td>\n",
       "      <td>246</td>\n",
       "    </tr>\n",
       "    <tr>\n",
       "      <th>8</th>\n",
       "      <td>MainScreenAppear</td>\n",
       "      <td>1850981295691852772</td>\n",
       "      <td>1564086702</td>\n",
       "      <td>247</td>\n",
       "    </tr>\n",
       "    <tr>\n",
       "      <th>9</th>\n",
       "      <td>MainScreenAppear</td>\n",
       "      <td>5407636962369102641</td>\n",
       "      <td>1564112112</td>\n",
       "      <td>246</td>\n",
       "    </tr>\n",
       "  </tbody>\n",
       "</table>\n",
       "</div>"
      ],
      "text/plain": [
       "                 EventName         DeviceIDHash  EventTimestamp  ExpId\n",
       "0         MainScreenAppear  4575588528974610257      1564029816    246\n",
       "1         MainScreenAppear  7416695313311560658      1564053102    246\n",
       "2  PaymentScreenSuccessful  3518123091307005509      1564054127    248\n",
       "3         CartScreenAppear  3518123091307005509      1564054127    248\n",
       "4  PaymentScreenSuccessful  6217807653094995999      1564055322    248\n",
       "5         CartScreenAppear  6217807653094995999      1564055323    248\n",
       "6       OffersScreenAppear  8351860793733343758      1564066242    246\n",
       "7         MainScreenAppear  5682100281902512875      1564085677    246\n",
       "8         MainScreenAppear  1850981295691852772      1564086702    247\n",
       "9         MainScreenAppear  5407636962369102641      1564112112    246"
      ]
     },
     "metadata": {},
     "output_type": "display_data"
    }
   ],
   "source": [
    "display(logs_exp.head(10))"
   ]
  },
  {
   "cell_type": "markdown",
   "metadata": {},
   "source": [
    "Изучим основые **характеристики**"
   ]
  },
  {
   "cell_type": "code",
   "execution_count": 5,
   "metadata": {},
   "outputs": [
    {
     "name": "stdout",
     "output_type": "stream",
     "text": [
      "<class 'pandas.core.frame.DataFrame'>\n",
      "RangeIndex: 244126 entries, 0 to 244125\n",
      "Data columns (total 4 columns):\n",
      " #   Column          Non-Null Count   Dtype \n",
      "---  ------          --------------   ----- \n",
      " 0   EventName       244126 non-null  object\n",
      " 1   DeviceIDHash    244126 non-null  int64 \n",
      " 2   EventTimestamp  244126 non-null  int64 \n",
      " 3   ExpId           244126 non-null  int64 \n",
      "dtypes: int64(3), object(1)\n",
      "memory usage: 7.5+ MB\n"
     ]
    },
    {
     "data": {
      "text/plain": [
       "None"
      ]
     },
     "metadata": {},
     "output_type": "display_data"
    },
    {
     "name": "stdout",
     "output_type": "stream",
     "text": [
      "Название : EventName\n",
      "Пропуски : 0\n",
      "Значения : ['MainScreenAppear' 'PaymentScreenSuccessful' 'CartScreenAppear'\n",
      " 'OffersScreenAppear' 'Tutorial']\n",
      "\n",
      "Название : DeviceIDHash\n",
      "Пропуски : 0\n",
      "Значения : [4575588528974610257 7416695313311560658 3518123091307005509 ...\n",
      " 6660805781687343085 7823752606740475984 3454683894921357834]\n",
      "\n",
      "Название : EventTimestamp\n",
      "Пропуски : 0\n",
      "Значения : [1564029816 1564053102 1564054127 ... 1565212483 1565212498 1565212517]\n",
      "\n",
      "Название : ExpId\n",
      "Пропуски : 0\n",
      "Значения : [246 248 247]\n",
      "\n",
      "Количество дубликатов:  413\n"
     ]
    }
   ],
   "source": [
    "# общая информация\n",
    "display(logs_exp.info())\n",
    "\n",
    "# разберем отдельно каждый столбец\n",
    "for column in logs_exp.columns:\n",
    "        print('Название :', column)\n",
    "        print('Пропуски :', logs_exp[column].isna().sum())\n",
    "        print('Значения :', logs_exp[column].unique())                                 \n",
    "        print()\n",
    "        \n",
    "# посмотрим дубликаты\n",
    "print('Количество дубликатов: ', logs_exp.duplicated().sum())"
   ]
  },
  {
   "cell_type": "markdown",
   "metadata": {},
   "source": [
    "**Первые выводы**\n",
    "\n",
    "* Пропусков по столбцам нет\n",
    "* Дубликатов 413\n",
    "* Наименования нужно привести к snake_case\n",
    "* EventTimestamp тип данных не верный"
   ]
  },
  {
   "cell_type": "markdown",
   "metadata": {},
   "source": [
    "## Подготовим данные"
   ]
  },
  {
   "cell_type": "markdown",
   "metadata": {},
   "source": [
    "Создадим **рабочее зеркало**, чтобы всегда иметь возможность обратиться к оригиналу"
   ]
  },
  {
   "cell_type": "code",
   "execution_count": 6,
   "metadata": {},
   "outputs": [],
   "source": [
    "df = logs_exp.copy()"
   ]
  },
  {
   "cell_type": "markdown",
   "metadata": {},
   "source": [
    "**Переименуем** столбцы"
   ]
  },
  {
   "cell_type": "code",
   "execution_count": 7,
   "metadata": {},
   "outputs": [],
   "source": [
    "df = df.rename(columns={\"EventName\": \"event_name\",\n",
    "                        \"DeviceIDHash\": \"user_id\",\n",
    "                        \"EventTimestamp\": \"event_timestamp\",\n",
    "                        \"ExpId\": \"group_id\"})"
   ]
  },
  {
   "cell_type": "markdown",
   "metadata": {},
   "source": [
    "Рассмотрим процентное **отношение дубликатов**"
   ]
  },
  {
   "cell_type": "code",
   "execution_count": 8,
   "metadata": {},
   "outputs": [
    {
     "name": "stdout",
     "output_type": "stream",
     "text": [
      "0.17%\n"
     ]
    }
   ],
   "source": [
    "print(f'{df.duplicated().sum() / df.shape[0]:.2%}')"
   ]
  },
  {
   "cell_type": "markdown",
   "metadata": {},
   "source": [
    "Количество дубликатов в датасете **0,17%** от общего количества строк - менее 5ти процентов, можем смело **дропать**"
   ]
  },
  {
   "cell_type": "code",
   "execution_count": 9,
   "metadata": {},
   "outputs": [],
   "source": [
    "df = df.drop_duplicates().reset_index(drop=True)"
   ]
  },
  {
   "cell_type": "markdown",
   "metadata": {},
   "source": [
    "**Добавим** два новых столбца"
   ]
  },
  {
   "cell_type": "code",
   "execution_count": 10,
   "metadata": {},
   "outputs": [],
   "source": [
    "# добавим столбец даты и времени\n",
    "df['timestamp'] = pd.to_datetime(df.event_timestamp, unit='s')\n",
    "\n",
    "# добавим столбец с датой\n",
    "df['date'] = df.timestamp.dt.date"
   ]
  },
  {
   "cell_type": "markdown",
   "metadata": {},
   "source": [
    "Из описания данных мы знаем, что **group_id** — номер эксперимента:\n",
    "* 246 и 247 — контрольные группы\n",
    "* 248 — экспериментальная\n",
    "\n",
    "заменим на **А1**, **А2** и **В** для удобства восприятия"
   ]
  },
  {
   "cell_type": "code",
   "execution_count": 11,
   "metadata": {},
   "outputs": [],
   "source": [
    "df['group_id'].replace(to_replace= (246,247,248), value = ('A1', 'A2', 'B'), inplace=True )"
   ]
  },
  {
   "cell_type": "markdown",
   "metadata": {},
   "source": [
    "Что **получилось** и с чем в итоге будем работать"
   ]
  },
  {
   "cell_type": "code",
   "execution_count": 12,
   "metadata": {},
   "outputs": [
    {
     "data": {
      "text/html": [
       "<div>\n",
       "<style scoped>\n",
       "    .dataframe tbody tr th:only-of-type {\n",
       "        vertical-align: middle;\n",
       "    }\n",
       "\n",
       "    .dataframe tbody tr th {\n",
       "        vertical-align: top;\n",
       "    }\n",
       "\n",
       "    .dataframe thead th {\n",
       "        text-align: right;\n",
       "    }\n",
       "</style>\n",
       "<table border=\"1\" class=\"dataframe\">\n",
       "  <thead>\n",
       "    <tr style=\"text-align: right;\">\n",
       "      <th></th>\n",
       "      <th>event_name</th>\n",
       "      <th>user_id</th>\n",
       "      <th>event_timestamp</th>\n",
       "      <th>group_id</th>\n",
       "      <th>timestamp</th>\n",
       "      <th>date</th>\n",
       "    </tr>\n",
       "  </thead>\n",
       "  <tbody>\n",
       "    <tr>\n",
       "      <th>0</th>\n",
       "      <td>MainScreenAppear</td>\n",
       "      <td>4575588528974610257</td>\n",
       "      <td>1564029816</td>\n",
       "      <td>A1</td>\n",
       "      <td>2019-07-25 04:43:36</td>\n",
       "      <td>2019-07-25</td>\n",
       "    </tr>\n",
       "    <tr>\n",
       "      <th>1</th>\n",
       "      <td>MainScreenAppear</td>\n",
       "      <td>7416695313311560658</td>\n",
       "      <td>1564053102</td>\n",
       "      <td>A1</td>\n",
       "      <td>2019-07-25 11:11:42</td>\n",
       "      <td>2019-07-25</td>\n",
       "    </tr>\n",
       "    <tr>\n",
       "      <th>2</th>\n",
       "      <td>PaymentScreenSuccessful</td>\n",
       "      <td>3518123091307005509</td>\n",
       "      <td>1564054127</td>\n",
       "      <td>B</td>\n",
       "      <td>2019-07-25 11:28:47</td>\n",
       "      <td>2019-07-25</td>\n",
       "    </tr>\n",
       "    <tr>\n",
       "      <th>3</th>\n",
       "      <td>CartScreenAppear</td>\n",
       "      <td>3518123091307005509</td>\n",
       "      <td>1564054127</td>\n",
       "      <td>B</td>\n",
       "      <td>2019-07-25 11:28:47</td>\n",
       "      <td>2019-07-25</td>\n",
       "    </tr>\n",
       "    <tr>\n",
       "      <th>4</th>\n",
       "      <td>PaymentScreenSuccessful</td>\n",
       "      <td>6217807653094995999</td>\n",
       "      <td>1564055322</td>\n",
       "      <td>B</td>\n",
       "      <td>2019-07-25 11:48:42</td>\n",
       "      <td>2019-07-25</td>\n",
       "    </tr>\n",
       "  </tbody>\n",
       "</table>\n",
       "</div>"
      ],
      "text/plain": [
       "                event_name              user_id  event_timestamp group_id  \\\n",
       "0         MainScreenAppear  4575588528974610257       1564029816       A1   \n",
       "1         MainScreenAppear  7416695313311560658       1564053102       A1   \n",
       "2  PaymentScreenSuccessful  3518123091307005509       1564054127        B   \n",
       "3         CartScreenAppear  3518123091307005509       1564054127        B   \n",
       "4  PaymentScreenSuccessful  6217807653094995999       1564055322        B   \n",
       "\n",
       "            timestamp        date  \n",
       "0 2019-07-25 04:43:36  2019-07-25  \n",
       "1 2019-07-25 11:11:42  2019-07-25  \n",
       "2 2019-07-25 11:28:47  2019-07-25  \n",
       "3 2019-07-25 11:28:47  2019-07-25  \n",
       "4 2019-07-25 11:48:42  2019-07-25  "
      ]
     },
     "metadata": {},
     "output_type": "display_data"
    },
    {
     "name": "stdout",
     "output_type": "stream",
     "text": [
      "<class 'pandas.core.frame.DataFrame'>\n",
      "RangeIndex: 243713 entries, 0 to 243712\n",
      "Data columns (total 6 columns):\n",
      " #   Column           Non-Null Count   Dtype         \n",
      "---  ------           --------------   -----         \n",
      " 0   event_name       243713 non-null  object        \n",
      " 1   user_id          243713 non-null  int64         \n",
      " 2   event_timestamp  243713 non-null  int64         \n",
      " 3   group_id         243713 non-null  object        \n",
      " 4   timestamp        243713 non-null  datetime64[ns]\n",
      " 5   date             243713 non-null  object        \n",
      "dtypes: datetime64[ns](1), int64(2), object(3)\n",
      "memory usage: 11.2+ MB\n"
     ]
    },
    {
     "data": {
      "text/plain": [
       "None"
      ]
     },
     "metadata": {},
     "output_type": "display_data"
    }
   ],
   "source": [
    "display(df.head())\n",
    "display(df.info())"
   ]
  },
  {
   "cell_type": "markdown",
   "metadata": {},
   "source": [
    "## Изучим и проверим данные"
   ]
  },
  {
   "cell_type": "markdown",
   "metadata": {},
   "source": [
    "**Количество логов и пользователей**"
   ]
  },
  {
   "cell_type": "code",
   "execution_count": 13,
   "metadata": {},
   "outputs": [
    {
     "name": "stdout",
     "output_type": "stream",
     "text": [
      "Всего событий в логе             : 243713\n",
      "Уникальных видов событий         : 5\n",
      "Всего пользователей в логе       : 7551\n",
      "Событий на пользователя, среднее : 32\n"
     ]
    }
   ],
   "source": [
    "print('Всего событий в логе             :', df['event_name'].count())\n",
    "print('Уникальных видов событий         :', df['event_name'].nunique())\n",
    "print('Всего пользователей в логе       :', df['user_id'].nunique())\n",
    "print('Событий на пользователя, среднее :', round(df.shape[0] / df['user_id'].nunique()))"
   ]
  },
  {
   "cell_type": "markdown",
   "metadata": {},
   "source": [
    "**Период**"
   ]
  },
  {
   "cell_type": "code",
   "execution_count": 14,
   "metadata": {},
   "outputs": [
    {
     "name": "stdout",
     "output_type": "stream",
     "text": [
      "Начало исследования    : 2019-07-25 04:43:36\n",
      "Окончание исследования : 2019-08-07 21:15:17\n",
      "Продолжительность      : 13 days 16:31:41\n"
     ]
    }
   ],
   "source": [
    "print('Начало исследования    :', df.timestamp.min())\n",
    "print('Окончание исследования :', df.timestamp.max())\n",
    "print('Продолжительность      :', df.timestamp.max() - df.timestamp.min())"
   ]
  },
  {
   "cell_type": "code",
   "execution_count": 15,
   "metadata": {},
   "outputs": [
    {
     "data": {
      "image/png": "[encoded data removed]",
      "text/plain": [
       "<Figure size 1080x504 with 1 Axes>"
      ]
     },
     "metadata": {},
     "output_type": "display_data"
    },
    {
     "data": {
      "image/png": "[encoded data removed]",
      "text/plain": [
       "<Figure size 1080x504 with 1 Axes>"
      ]
     },
     "metadata": {},
     "output_type": "display_data"
    },
    {
     "data": {
      "image/png": "[encoded data removed]",
      "text/plain": [
       "<Figure size 1080x504 with 1 Axes>"
      ]
     },
     "metadata": {},
     "output_type": "display_data"
    }
   ],
   "source": [
    "# гистограммы по дате и времени\n",
    "\n",
    "df['timestamp'].hist(bins=329, xrot=15, alpha=0.6)\n",
    "plt.title('Распределение логов по дате и времени', fontsize=15)\n",
    "plt.ylabel('Количество логов', fontsize=15)\n",
    "plt.xticks(rotation=30)\n",
    "plt.show()\n",
    "\n",
    "df['date'].hist(bins=14, xrot=15, alpha=0.6)\n",
    "plt.title('Распределение логов по дате', fontsize=15)\n",
    "plt.ylabel('Количество логов', fontsize=15)\n",
    "plt.xticks(rotation=30)\n",
    "plt.show()\n",
    "\n",
    "df['timestamp'].dt.hour.hist(bins=24, alpha=0.6)\n",
    "plt.title('Распределение логов по времени', fontsize=15)\n",
    "plt.ylabel('Количество логов', fontsize=15)\n",
    "plt.xticks(range(0, 24))\n",
    "plt.show()"
   ]
  },
  {
   "cell_type": "markdown",
   "metadata": {},
   "source": [
    "В имеющихся данных информация за две недели - **с 25 июля по 7 августа 2019 года**.\n",
    "\n",
    "Гистограмма распределения логов по дате показывает, что основная часть событий приходится на вторую неделю.\n",
    "\n",
    "Основная активность пользователей происходит в дневное время.\n",
    "\n",
    "1 августа происходит резкий скачок количества событий - с 2х тысяч до 36ти: **будем считать данные первой недели устаревшими** и отфильтруем их."
   ]
  },
  {
   "cell_type": "markdown",
   "metadata": {},
   "source": [
    "**Очистка данных**"
   ]
  },
  {
   "cell_type": "code",
   "execution_count": 16,
   "metadata": {},
   "outputs": [],
   "source": [
    "# берем в расчет данные начиная с 01 08 2019\n",
    "data = df.query('date >= datetime(2019, 8, 1).date()')"
   ]
  },
  {
   "cell_type": "code",
   "execution_count": 17,
   "metadata": {},
   "outputs": [
    {
     "name": "stdout",
     "output_type": "stream",
     "text": [
      "Группировка до фильтрации\n"
     ]
    },
    {
     "data": {
      "text/html": [
       "<div>\n",
       "<style scoped>\n",
       "    .dataframe tbody tr th:only-of-type {\n",
       "        vertical-align: middle;\n",
       "    }\n",
       "\n",
       "    .dataframe tbody tr th {\n",
       "        vertical-align: top;\n",
       "    }\n",
       "\n",
       "    .dataframe thead th {\n",
       "        text-align: right;\n",
       "    }\n",
       "</style>\n",
       "<table border=\"1\" class=\"dataframe\">\n",
       "  <thead>\n",
       "    <tr style=\"text-align: right;\">\n",
       "      <th></th>\n",
       "      <th>group_id</th>\n",
       "      <th>user_id</th>\n",
       "    </tr>\n",
       "  </thead>\n",
       "  <tbody>\n",
       "    <tr>\n",
       "      <th>0</th>\n",
       "      <td>A1</td>\n",
       "      <td>2489</td>\n",
       "    </tr>\n",
       "    <tr>\n",
       "      <th>1</th>\n",
       "      <td>A2</td>\n",
       "      <td>2520</td>\n",
       "    </tr>\n",
       "    <tr>\n",
       "      <th>2</th>\n",
       "      <td>B</td>\n",
       "      <td>2542</td>\n",
       "    </tr>\n",
       "  </tbody>\n",
       "</table>\n",
       "</div>"
      ],
      "text/plain": [
       "  group_id  user_id\n",
       "0       A1     2489\n",
       "1       A2     2520\n",
       "2        B     2542"
      ]
     },
     "metadata": {},
     "output_type": "display_data"
    },
    {
     "name": "stdout",
     "output_type": "stream",
     "text": [
      "Группировка после фильтрации\n"
     ]
    },
    {
     "data": {
      "text/html": [
       "<div>\n",
       "<style scoped>\n",
       "    .dataframe tbody tr th:only-of-type {\n",
       "        vertical-align: middle;\n",
       "    }\n",
       "\n",
       "    .dataframe tbody tr th {\n",
       "        vertical-align: top;\n",
       "    }\n",
       "\n",
       "    .dataframe thead th {\n",
       "        text-align: right;\n",
       "    }\n",
       "</style>\n",
       "<table border=\"1\" class=\"dataframe\">\n",
       "  <thead>\n",
       "    <tr style=\"text-align: right;\">\n",
       "      <th></th>\n",
       "      <th>group_id</th>\n",
       "      <th>user_id</th>\n",
       "    </tr>\n",
       "  </thead>\n",
       "  <tbody>\n",
       "    <tr>\n",
       "      <th>0</th>\n",
       "      <td>A1</td>\n",
       "      <td>2484</td>\n",
       "    </tr>\n",
       "    <tr>\n",
       "      <th>1</th>\n",
       "      <td>A2</td>\n",
       "      <td>2513</td>\n",
       "    </tr>\n",
       "    <tr>\n",
       "      <th>2</th>\n",
       "      <td>B</td>\n",
       "      <td>2537</td>\n",
       "    </tr>\n",
       "  </tbody>\n",
       "</table>\n",
       "</div>"
      ],
      "text/plain": [
       "  group_id  user_id\n",
       "0       A1     2484\n",
       "1       A2     2513\n",
       "2        B     2537"
      ]
     },
     "metadata": {},
     "output_type": "display_data"
    }
   ],
   "source": [
    "print('Группировка до фильтрации')\n",
    "display(df.groupby('group_id').agg({'user_id':'nunique'}).reset_index())\n",
    "\n",
    "print('Группировка после фильтрации')\n",
    "display(data.groupby('group_id').agg({'user_id':'nunique'}).reset_index())"
   ]
  },
  {
   "cell_type": "code",
   "execution_count": 18,
   "metadata": {},
   "outputs": [
    {
     "name": "stdout",
     "output_type": "stream",
     "text": [
      "Количество пользователей до очистки : 7551\n",
      "Количество пользователей после      : 7534\n",
      "Очищено данных                      : 1.16%\n",
      "Очищено пользователей               : 0.23%\n"
     ]
    }
   ],
   "source": [
    "print(f'Количество пользователей до очистки : {len(df.user_id.unique())}')\n",
    "print(f'Количество пользователей после      : {len(data.user_id.unique())}')\n",
    "print(f'Очищено данных                      : {(1 - (len(data) / len(df))) :.2%}')\n",
    "print(f'Очищено пользователей               : {(1 - (len(data.user_id.unique()) / len(df.user_id.unique()))) :.2%}')"
   ]
  },
  {
   "cell_type": "markdown",
   "metadata": {},
   "source": [
    "Первая неделя исследования захватила лишь 1,16% от общего количества данных: мы отфильтровали\n",
    "* А1 - 5 человек\n",
    "* А2 - 7 человек\n",
    "*  В  - 5 человек\n",
    "\n",
    "Процент сохраненных данных: **98,84%**\n",
    "\n",
    "Процент сохраненных пользователей: **99,77%**"
   ]
  },
  {
   "cell_type": "markdown",
   "metadata": {},
   "source": [
    "## Изучим воронку событий"
   ]
  },
  {
   "cell_type": "markdown",
   "metadata": {},
   "source": [
    "**События**"
   ]
  },
  {
   "cell_type": "code",
   "execution_count": 19,
   "metadata": {},
   "outputs": [
    {
     "data": {
      "text/plain": [
       "MainScreenAppear           117328\n",
       "OffersScreenAppear          46333\n",
       "CartScreenAppear            42303\n",
       "PaymentScreenSuccessful     33918\n",
       "Tutorial                     1005\n",
       "Name: event_name, dtype: int64"
      ]
     },
     "metadata": {},
     "output_type": "display_data"
    }
   ],
   "source": [
    "display(data['event_name'].value_counts())"
   ]
  },
  {
   "cell_type": "markdown",
   "metadata": {},
   "source": [
    "Всего встречается 5 видов событий:\n",
    "* **MainScreenAppear** - появление главного экрана\n",
    "* **OffersScreenAppear** - появление экрана предложений\n",
    "* **CartScreenAppear** - появление экрана корзины\n",
    "* **PaymentScreenSuccessful** - появление экрана успешной оплаты\n",
    "* **Tutorial** - руководство\n",
    "\n",
    "Первые четыре события образуют **последовательную цепочку движения** пользователя по приложению\n",
    "\n",
    "Для того, чтобы посмотреть урок (Tutorial: как совершить то или иное действие в приложении) не обязательно что-то покупать: обычно обучение проходят новые пользователи, и чаще всего этот шаг можно пропустить.\n",
    "    \n",
    "Поэтому шаг **Tutorial из дальнейшей цепочки убираем** и воронку событий представляем такой:\n",
    "\n",
    "1. Главный экран\n",
    "2. Каталог предложений\n",
    "3. Корзина\n",
    "4. Экран с подтверждением успешной оплаты"
   ]
  },
  {
   "cell_type": "markdown",
   "metadata": {},
   "source": [
    "**Пользователи**"
   ]
  },
  {
   "cell_type": "markdown",
   "metadata": {},
   "source": [
    "Убираем из events событие Tutorial"
   ]
  },
  {
   "cell_type": "code",
   "execution_count": 20,
   "metadata": {},
   "outputs": [
    {
     "data": {
      "text/html": [
       "<div>\n",
       "<style scoped>\n",
       "    .dataframe tbody tr th:only-of-type {\n",
       "        vertical-align: middle;\n",
       "    }\n",
       "\n",
       "    .dataframe tbody tr th {\n",
       "        vertical-align: top;\n",
       "    }\n",
       "\n",
       "    .dataframe thead th {\n",
       "        text-align: right;\n",
       "    }\n",
       "</style>\n",
       "<table border=\"1\" class=\"dataframe\">\n",
       "  <thead>\n",
       "    <tr style=\"text-align: right;\">\n",
       "      <th></th>\n",
       "      <th>event_name</th>\n",
       "      <th>event_users</th>\n",
       "      <th>rate, %</th>\n",
       "      <th>filter, %</th>\n",
       "      <th>%</th>\n",
       "    </tr>\n",
       "  </thead>\n",
       "  <tbody>\n",
       "    <tr>\n",
       "      <th>0</th>\n",
       "      <td>MainScreenAppear</td>\n",
       "      <td>7419</td>\n",
       "      <td>98.47</td>\n",
       "      <td>NaN</td>\n",
       "      <td>100.00</td>\n",
       "    </tr>\n",
       "    <tr>\n",
       "      <th>1</th>\n",
       "      <td>OffersScreenAppear</td>\n",
       "      <td>4593</td>\n",
       "      <td>60.96</td>\n",
       "      <td>38.09</td>\n",
       "      <td>61.91</td>\n",
       "    </tr>\n",
       "    <tr>\n",
       "      <th>2</th>\n",
       "      <td>CartScreenAppear</td>\n",
       "      <td>3734</td>\n",
       "      <td>49.56</td>\n",
       "      <td>18.70</td>\n",
       "      <td>50.33</td>\n",
       "    </tr>\n",
       "    <tr>\n",
       "      <th>3</th>\n",
       "      <td>PaymentScreenSuccessful</td>\n",
       "      <td>3539</td>\n",
       "      <td>46.97</td>\n",
       "      <td>5.22</td>\n",
       "      <td>47.70</td>\n",
       "    </tr>\n",
       "  </tbody>\n",
       "</table>\n",
       "</div>"
      ],
      "text/plain": [
       "                event_name  event_users  rate, %  filter, %      %\n",
       "0         MainScreenAppear         7419    98.47        NaN 100.00\n",
       "1       OffersScreenAppear         4593    60.96      38.09  61.91\n",
       "2         CartScreenAppear         3734    49.56      18.70  50.33\n",
       "3  PaymentScreenSuccessful         3539    46.97       5.22  47.70"
      ]
     },
     "metadata": {},
     "output_type": "display_data"
    }
   ],
   "source": [
    "# сгруппируем таблицу по событиям\n",
    "events = data[data['event_name'] != 'Tutorial']\n",
    "\n",
    "events = events.groupby('event_name').agg({'user_id':'nunique'})\\\n",
    "             .sort_values(by='user_id', ascending=False)\n",
    "\n",
    "events.columns = ['event_users']\n",
    "\n",
    "events = events.reset_index()\n",
    "\n",
    "# узнаем процент совершивших действие\n",
    "events['rate, %'] = events['event_users'] / data['user_id'].nunique() * 100\n",
    "\n",
    "# узнаем долю пользователей от предыдущего шага\n",
    "events['filter, %'] = (1- events['event_users'] / events['event_users'].shift(1)) * 100\n",
    "\n",
    "# узнаем долю пользователей от первого шага - СЛОНА ТО Я НЕ ПРИМЕТИЛ\n",
    "events['%'] = events['event_users'] / events['event_users'][0] * 100\n",
    "\n",
    "display(events)"
   ]
  },
  {
   "cell_type": "markdown",
   "metadata": {},
   "source": [
    "* 7534 уникальных пользователя\n",
    "* 7419 побывало на первом шаге воронки\n",
    "* 3539 дошли до оплаты\n",
    "\n",
    "**47,7% пользователей доходит от первого события до оплаты**"
   ]
  },
  {
   "cell_type": "markdown",
   "metadata": {},
   "source": [
    "Все события выстраиваются в цепочку действий, кроме руководства пользователя (Tutorial).\n",
    "    \n",
    "Для того, чтобы посмотреть урок (как совершить то или иное действие в приложении) не обязательно что-то покупать: обычно обучение проходят новые пользователи, и чаще всего этот шаг можно пропустить.\n",
    "    \n",
    "Поэтому шаг Tutorial из дальнейшей цепочки убираем и воронку событий представляем такой:\n",
    "\n",
    "1. Главный экран\n",
    "2. Каталог предложений\n",
    "3. Корзина\n",
    "4. Экран с подтверждением успешной оплаты"
   ]
  },
  {
   "cell_type": "markdown",
   "metadata": {},
   "source": [
    "**Воронка**"
   ]
  },
  {
   "cell_type": "code",
   "execution_count": 21,
   "metadata": {},
   "outputs": [
    {
     "data": {
      "image/png": "[encoded data removed]",
      "text/plain": [
       "<Figure size 1080x504 with 1 Axes>"
      ]
     },
     "metadata": {},
     "output_type": "display_data"
    }
   ],
   "source": [
    "sns.barplot(data=events, x='event_users', y='event_name', orient='h')\n",
    "plt.title('Количество пользователей, которые совершали события', fontsize=15)\n",
    "plt.xlabel('Количество пользователей', fontsize=15)\n",
    "plt.ylabel('События', fontsize=15)\n",
    "plt.show()"
   ]
  },
  {
   "cell_type": "markdown",
   "metadata": {},
   "source": [
    "Благодаря визуализации мы можем увидеть **воронку** событий:\n",
    "1. MainScreenAppear\n",
    "2. OffersScreenAppear\n",
    "3. CartScreenAppear\n",
    "4. PaymentScreenSuccessful"
   ]
  },
  {
   "cell_type": "markdown",
   "metadata": {},
   "source": [
    "Первый шаг воронки не проходит 1,53% пользователей - получается, на главную страницу заходить не обязательно.\n",
    "\n",
    "Самый большой скачок - между главной страницей и страницей предложений - почти 40% пользователей туда не приходят. На следующих шагах отсеивается всего 19% и 5% пользователей соответветственно.\n",
    "\n",
    "Всего до успешной оплаты доходят:\n",
    "* 46,97% от всех уникальных пользователей приложения\n",
    "* 47,70% от пользователей, совершивших первое событие"
   ]
  },
  {
   "cell_type": "code",
   "execution_count": 22,
   "metadata": {},
   "outputs": [
    {
     "data": {
      "text/html": [
       "<div>\n",
       "<style scoped>\n",
       "    .dataframe tbody tr th:only-of-type {\n",
       "        vertical-align: middle;\n",
       "    }\n",
       "\n",
       "    .dataframe tbody tr th {\n",
       "        vertical-align: top;\n",
       "    }\n",
       "\n",
       "    .dataframe thead th {\n",
       "        text-align: right;\n",
       "    }\n",
       "</style>\n",
       "<table border=\"1\" class=\"dataframe\">\n",
       "  <thead>\n",
       "    <tr style=\"text-align: right;\">\n",
       "      <th></th>\n",
       "      <th>event</th>\n",
       "      <th>users</th>\n",
       "      <th>%</th>\n",
       "    </tr>\n",
       "  </thead>\n",
       "  <tbody>\n",
       "    <tr>\n",
       "      <th>0</th>\n",
       "      <td>MainScreenAppear</td>\n",
       "      <td>7419</td>\n",
       "      <td>100.00</td>\n",
       "    </tr>\n",
       "    <tr>\n",
       "      <th>1</th>\n",
       "      <td>OffersScreenAppear</td>\n",
       "      <td>4201</td>\n",
       "      <td>56.62</td>\n",
       "    </tr>\n",
       "    <tr>\n",
       "      <th>2</th>\n",
       "      <td>CartScreenAppear</td>\n",
       "      <td>1767</td>\n",
       "      <td>23.82</td>\n",
       "    </tr>\n",
       "    <tr>\n",
       "      <th>3</th>\n",
       "      <td>PaymentScreenSuccessful</td>\n",
       "      <td>454</td>\n",
       "      <td>6.12</td>\n",
       "    </tr>\n",
       "  </tbody>\n",
       "</table>\n",
       "</div>"
      ],
      "text/plain": [
       "                     event  users      %\n",
       "0         MainScreenAppear   7419 100.00\n",
       "1       OffersScreenAppear   4201  56.62\n",
       "2         CartScreenAppear   1767  23.82\n",
       "3  PaymentScreenSuccessful    454   6.12"
      ]
     },
     "metadata": {},
     "output_type": "display_data"
    }
   ],
   "source": [
    "# сфомируем сводную таблицу по пользователям и событиям\n",
    "users = data.query('event_name != \"Tutorial\"').pivot_table(\n",
    "        index=['user_id'], columns='event_name', values='timestamp', aggfunc='min').reset_index()\n",
    "\n",
    "# создадим маску событий на главный экран, заказ, корзину и оплату\n",
    "step_1 = (~users['MainScreenAppear'].isna())\n",
    "step_2 = step_1 & (users['OffersScreenAppear'] > users['MainScreenAppear'])\n",
    "step_3 = step_2 & (users['CartScreenAppear'] > users['OffersScreenAppear'])\n",
    "step_4 = step_3 & (users['PaymentScreenSuccessful'] > users['CartScreenAppear'])\n",
    "\n",
    "# создадим датафрейм по созданным ранее маскам\n",
    "start_end = pd.DataFrame(columns = ['event', 'users'], data = [\n",
    "    ['MainScreenAppear', users[step_1].shape[0]],\n",
    "    ['OffersScreenAppear', users[step_2].shape[0]],\n",
    "    ['CartScreenAppear', users[step_3].shape[0]],\n",
    "    ['PaymentScreenSuccessful', users[step_4].shape[0]]\n",
    "])\n",
    "\n",
    "start_end['%'] = start_end['users'] / start_end['users'][0] * 100\n",
    "\n",
    "display(start_end)"
   ]
  },
  {
   "cell_type": "markdown",
   "metadata": {},
   "source": [
    "## Изучим результаты эксперимента"
   ]
  },
  {
   "cell_type": "markdown",
   "metadata": {},
   "source": [
    "**Пользователи в каждой группе**"
   ]
  },
  {
   "cell_type": "code",
   "execution_count": 23,
   "metadata": {},
   "outputs": [
    {
     "data": {
      "text/html": [
       "<div>\n",
       "<style scoped>\n",
       "    .dataframe tbody tr th:only-of-type {\n",
       "        vertical-align: middle;\n",
       "    }\n",
       "\n",
       "    .dataframe tbody tr th {\n",
       "        vertical-align: top;\n",
       "    }\n",
       "\n",
       "    .dataframe thead th {\n",
       "        text-align: right;\n",
       "    }\n",
       "</style>\n",
       "<table border=\"1\" class=\"dataframe\">\n",
       "  <thead>\n",
       "    <tr style=\"text-align: right;\">\n",
       "      <th></th>\n",
       "      <th>group_id</th>\n",
       "      <th>user_id</th>\n",
       "    </tr>\n",
       "  </thead>\n",
       "  <tbody>\n",
       "    <tr>\n",
       "      <th>0</th>\n",
       "      <td>A1</td>\n",
       "      <td>2484</td>\n",
       "    </tr>\n",
       "    <tr>\n",
       "      <th>1</th>\n",
       "      <td>A2</td>\n",
       "      <td>2513</td>\n",
       "    </tr>\n",
       "    <tr>\n",
       "      <th>2</th>\n",
       "      <td>B</td>\n",
       "      <td>2537</td>\n",
       "    </tr>\n",
       "  </tbody>\n",
       "</table>\n",
       "</div>"
      ],
      "text/plain": [
       "  group_id  user_id\n",
       "0       A1     2484\n",
       "1       A2     2513\n",
       "2        B     2537"
      ]
     },
     "metadata": {},
     "output_type": "display_data"
    }
   ],
   "source": [
    "# для анализа используем вторую неделю исследований\n",
    "display(data.groupby('group_id').agg({'user_id':'nunique'}).reset_index())"
   ]
  },
  {
   "cell_type": "markdown",
   "metadata": {},
   "source": [
    "**Критерии успешного A/A-теста:**\n",
    "* Количество пользователей в различных группах различается не более, чем на 1%;\n",
    "* Для всех групп фиксируют и отправляют в системы аналитики данные об одном и том же;\n",
    "* Различие ключевых метрик по группам не превышает 1% и не имеет статистической значимости;\n",
    "* Попавший в одну из групп посетитель остаётся в этой группе до конца теста. Если пользователь видит разные версии исследуемой страницы в ходе одного исследования, неизвестно, какая именно повлияла на его решения. Значит, и результаты такого теста нельзя интерпретировать однозначно."
   ]
  },
  {
   "cell_type": "code",
   "execution_count": 24,
   "metadata": {
    "scrolled": false
   },
   "outputs": [
    {
     "data": {
      "text/plain": [
       "0"
      ]
     },
     "metadata": {},
     "output_type": "display_data"
    }
   ],
   "source": [
    "# проверим пользователей на одновременное нахождение в нескольких группах\n",
    "display(len(data.groupby('user_id')['group_id'].nunique().reset_index().query('group_id > 1')))"
   ]
  },
  {
   "cell_type": "code",
   "execution_count": 25,
   "metadata": {
    "scrolled": false
   },
   "outputs": [
    {
     "data": {
      "text/html": [
       "<div>\n",
       "<style scoped>\n",
       "    .dataframe tbody tr th:only-of-type {\n",
       "        vertical-align: middle;\n",
       "    }\n",
       "\n",
       "    .dataframe tbody tr th {\n",
       "        vertical-align: top;\n",
       "    }\n",
       "\n",
       "    .dataframe thead th {\n",
       "        text-align: right;\n",
       "    }\n",
       "</style>\n",
       "<table border=\"1\" class=\"dataframe\">\n",
       "  <thead>\n",
       "    <tr style=\"text-align: right;\">\n",
       "      <th></th>\n",
       "      <th>event_name</th>\n",
       "      <th>group_id</th>\n",
       "      <th>total_users</th>\n",
       "    </tr>\n",
       "  </thead>\n",
       "  <tbody>\n",
       "    <tr>\n",
       "      <th>5</th>\n",
       "      <td>MainScreenAppear</td>\n",
       "      <td>B</td>\n",
       "      <td>2493</td>\n",
       "    </tr>\n",
       "    <tr>\n",
       "      <th>8</th>\n",
       "      <td>OffersScreenAppear</td>\n",
       "      <td>B</td>\n",
       "      <td>1531</td>\n",
       "    </tr>\n",
       "    <tr>\n",
       "      <th>2</th>\n",
       "      <td>CartScreenAppear</td>\n",
       "      <td>B</td>\n",
       "      <td>1230</td>\n",
       "    </tr>\n",
       "    <tr>\n",
       "      <th>11</th>\n",
       "      <td>PaymentScreenSuccessful</td>\n",
       "      <td>B</td>\n",
       "      <td>1181</td>\n",
       "    </tr>\n",
       "    <tr>\n",
       "      <th>4</th>\n",
       "      <td>MainScreenAppear</td>\n",
       "      <td>A2</td>\n",
       "      <td>2476</td>\n",
       "    </tr>\n",
       "    <tr>\n",
       "      <th>7</th>\n",
       "      <td>OffersScreenAppear</td>\n",
       "      <td>A2</td>\n",
       "      <td>1520</td>\n",
       "    </tr>\n",
       "    <tr>\n",
       "      <th>1</th>\n",
       "      <td>CartScreenAppear</td>\n",
       "      <td>A2</td>\n",
       "      <td>1238</td>\n",
       "    </tr>\n",
       "    <tr>\n",
       "      <th>10</th>\n",
       "      <td>PaymentScreenSuccessful</td>\n",
       "      <td>A2</td>\n",
       "      <td>1158</td>\n",
       "    </tr>\n",
       "    <tr>\n",
       "      <th>3</th>\n",
       "      <td>MainScreenAppear</td>\n",
       "      <td>A1</td>\n",
       "      <td>2450</td>\n",
       "    </tr>\n",
       "    <tr>\n",
       "      <th>6</th>\n",
       "      <td>OffersScreenAppear</td>\n",
       "      <td>A1</td>\n",
       "      <td>1542</td>\n",
       "    </tr>\n",
       "    <tr>\n",
       "      <th>0</th>\n",
       "      <td>CartScreenAppear</td>\n",
       "      <td>A1</td>\n",
       "      <td>1266</td>\n",
       "    </tr>\n",
       "    <tr>\n",
       "      <th>9</th>\n",
       "      <td>PaymentScreenSuccessful</td>\n",
       "      <td>A1</td>\n",
       "      <td>1200</td>\n",
       "    </tr>\n",
       "  </tbody>\n",
       "</table>\n",
       "</div>"
      ],
      "text/plain": [
       "                 event_name group_id  total_users\n",
       "5          MainScreenAppear        B         2493\n",
       "8        OffersScreenAppear        B         1531\n",
       "2          CartScreenAppear        B         1230\n",
       "11  PaymentScreenSuccessful        B         1181\n",
       "4          MainScreenAppear       A2         2476\n",
       "7        OffersScreenAppear       A2         1520\n",
       "1          CartScreenAppear       A2         1238\n",
       "10  PaymentScreenSuccessful       A2         1158\n",
       "3          MainScreenAppear       A1         2450\n",
       "6        OffersScreenAppear       A1         1542\n",
       "0          CartScreenAppear       A1         1266\n",
       "9   PaymentScreenSuccessful       A1         1200"
      ]
     },
     "metadata": {},
     "output_type": "display_data"
    }
   ],
   "source": [
    "test = (data.\n",
    "          groupby(['event_name', 'group_id']).\n",
    "          agg({'user_id': 'nunique'}).\n",
    "          reset_index().\n",
    "          rename(columns={'user_id' : 'total_users'}).\n",
    "          sort_values(by=['group_id','total_users'], ascending=False))\n",
    "\n",
    "# исключим Tutorial\n",
    "test = test[test['event_name'] != 'Tutorial']\n",
    "display(test)"
   ]
  },
  {
   "cell_type": "code",
   "execution_count": 26,
   "metadata": {},
   "outputs": [],
   "source": [
    "# Входные параметры:\n",
    "# - df1, df2 - группы\n",
    "# - event    - событие\n",
    "# - alpha    - критический уровень статистической значимости\n",
    "# - n        - поправка Боннферони\n",
    "\n",
    "# !!! формула универсальна для разных значений alpha и n в случае корректировки!!!\n",
    "\n",
    "def aab_test(df1, df2, event, alpha, n):\n",
    "    # критический уровень статистической значимости c поправкой Бонферрони\n",
    "    bonferroni_alpha = alpha / n\n",
    " \n",
    "    # число пользователей в группе 1 и группе 2:\n",
    "    n_users = np.array([df1['user_id'].nunique(), \n",
    "                        df2['user_id'].nunique()])\n",
    "\n",
    "    # число пользователей, совершивших событие в группе 1 и группе 2\n",
    "    success = np.array([df1[df1['event_name'] == event]['user_id'].nunique(), \n",
    "                        df2[df2['event_name'] == event]['user_id'].nunique()])\n",
    "\n",
    "    # пропорции успехов в группах:\n",
    "    p1 = success[0]/n_users[0]\n",
    "    p2 = success[1]/n_users[1]\n",
    "    \n",
    "    # пропорция успехов в комбинированном датасете:\n",
    "    p_combined = (success[0] + success[1]) / (n_users[0] + n_users[1])\n",
    "\n",
    "    # разница пропорций в датасетах\n",
    "    difference = p1 - p2 \n",
    "\n",
    "    # считаем статистику в ст.отклонениях стандартного нормального распределения\n",
    "    z_value = difference /  np.sqrt(p_combined * (1 - p_combined) * (1/n_users[0] + 1/n_users[1]))\n",
    "\n",
    "    # задаем стандартное нормальное распределение (среднее 0, ст.отклонение 1)\n",
    "    distr = st.norm(0, 1)  \n",
    "\n",
    "    p_value = (1 - distr.cdf(abs(z_value))) * 2   #тест двусторонний, удваиваем результат\n",
    "    \n",
    "    print('Событие   :', event)\n",
    "    print('p-значение: ', p_value)\n",
    "\n",
    "    if p_value < bonferroni_alpha:\n",
    "        print('Отвергаем нулевую гипотезу: между долями есть разница')\n",
    "    else:\n",
    "        print('Не получилось отвергнуть нулевую гипотезу: нет оснований считать доли разными')"
   ]
  },
  {
   "cell_type": "markdown",
   "metadata": {},
   "source": [
    "Нам нужно сопоставить доли по каждому событию между:\n",
    "\n",
    "* контрольными группами А1 и А2\n",
    "* каждой из контрольной группы к экспериментальной: А1-В и А2-В\n",
    "* объединенной контрольной группой и экспериментальной А=А1+А2 и В\n",
    "\n",
    "У нас 4 вида событий для каждой из 3х групп исследования: поправку Бонферрони мы вводим 4 чтобы застраховать себя от ложного результата\n",
    "\n",
    "**n = 4**\n",
    "\n",
    "При уровне значимости 0.1 каждый десятый раз можно получать ложный результат: назначим уровень 0.05\n",
    "\n",
    "**alpha = 0.05**"
   ]
  },
  {
   "cell_type": "markdown",
   "metadata": {},
   "source": [
    "**Введем основную и альтернативные гипотезы**\n",
    "\n",
    "* **Н0** - доли уникальных посетителей этапа воронки одинаковы\n",
    "* **Н1** - доли уникальных посетителей этапа воронки отличаются"
   ]
  },
  {
   "cell_type": "code",
   "execution_count": 27,
   "metadata": {},
   "outputs": [],
   "source": [
    "# разобьем пользователей по группам\n",
    "A1 = data[data['group_id'] == 'A1']\n",
    "A2 = data[data['group_id'] == 'A2']\n",
    "A = data[data['group_id'] != 'B']\n",
    "B = data[data['group_id'] == 'B']"
   ]
  },
  {
   "cell_type": "code",
   "execution_count": 28,
   "metadata": {},
   "outputs": [
    {
     "name": "stdout",
     "output_type": "stream",
     "text": [
      "Событие   : MainScreenAppear\n",
      "p-значение:  0.7570597232046099\n",
      "Не получилось отвергнуть нулевую гипотезу: нет оснований считать доли разными\n",
      "\n",
      "Событие   : OffersScreenAppear\n",
      "p-значение:  0.2480954578522181\n",
      "Не получилось отвергнуть нулевую гипотезу: нет оснований считать доли разными\n",
      "\n",
      "Событие   : CartScreenAppear\n",
      "p-значение:  0.22883372237997213\n",
      "Не получилось отвергнуть нулевую гипотезу: нет оснований считать доли разными\n",
      "\n",
      "Событие   : PaymentScreenSuccessful\n",
      "p-значение:  0.11456679313141849\n",
      "Не получилось отвергнуть нулевую гипотезу: нет оснований считать доли разными\n",
      "\n"
     ]
    }
   ],
   "source": [
    "# проверим статистически значимую разницу между А1 и А2\n",
    "for event in test['event_name'].unique():\n",
    "    aab_test(A1, A2, event, 0.05, 4)\n",
    "    print()"
   ]
  },
  {
   "cell_type": "markdown",
   "metadata": {},
   "source": [
    "**доли А1 и А2 равны**"
   ]
  },
  {
   "cell_type": "markdown",
   "metadata": {},
   "source": [
    "Главная цель А/А-теста — показать, можно ли доверять результатам эксперимента, который будет запущен в тех же условиях, но уже с разными вариантами шрифта: среди А1 и А2 победителя выявить не удалось, значит, **можем запускать А/B-тест**"
   ]
  },
  {
   "cell_type": "code",
   "execution_count": 29,
   "metadata": {},
   "outputs": [
    {
     "name": "stdout",
     "output_type": "stream",
     "text": [
      "Событие   : MainScreenAppear\n",
      "p-значение:  0.2949721933554552\n",
      "Не получилось отвергнуть нулевую гипотезу: нет оснований считать доли разными\n",
      "\n",
      "Событие   : OffersScreenAppear\n",
      "p-значение:  0.20836205402738917\n",
      "Не получилось отвергнуть нулевую гипотезу: нет оснований считать доли разными\n",
      "\n",
      "Событие   : CartScreenAppear\n",
      "p-значение:  0.07842923237520116\n",
      "Не получилось отвергнуть нулевую гипотезу: нет оснований считать доли разными\n",
      "\n",
      "Событие   : PaymentScreenSuccessful\n",
      "p-значение:  0.2122553275697796\n",
      "Не получилось отвергнуть нулевую гипотезу: нет оснований считать доли разными\n",
      "\n"
     ]
    }
   ],
   "source": [
    "# проверим статистически значимую разницу между А1 и В\n",
    "for event in test['event_name'].unique():\n",
    "    aab_test(A1, B, event, 0.05, 4)\n",
    "    print()"
   ]
  },
  {
   "cell_type": "markdown",
   "metadata": {},
   "source": [
    "**доли А1 и В равны**"
   ]
  },
  {
   "cell_type": "code",
   "execution_count": 30,
   "metadata": {},
   "outputs": [
    {
     "name": "stdout",
     "output_type": "stream",
     "text": [
      "Событие   : MainScreenAppear\n",
      "p-значение:  0.4587053616621515\n",
      "Не получилось отвергнуть нулевую гипотезу: нет оснований считать доли разными\n",
      "\n",
      "Событие   : OffersScreenAppear\n",
      "p-значение:  0.9197817830592261\n",
      "Не получилось отвергнуть нулевую гипотезу: нет оснований считать доли разными\n",
      "\n",
      "Событие   : CartScreenAppear\n",
      "p-значение:  0.5786197879539783\n",
      "Не получилось отвергнуть нулевую гипотезу: нет оснований считать доли разными\n",
      "\n",
      "Событие   : PaymentScreenSuccessful\n",
      "p-значение:  0.7373415053803964\n",
      "Не получилось отвергнуть нулевую гипотезу: нет оснований считать доли разными\n",
      "\n"
     ]
    }
   ],
   "source": [
    "# проверим статистически значимую разницу между А2 и В\n",
    "for event in test['event_name'].unique():\n",
    "    aab_test(A2, B, event, 0.05, 4)\n",
    "    print()"
   ]
  },
  {
   "cell_type": "markdown",
   "metadata": {},
   "source": [
    "**доли А2 и В равны**"
   ]
  },
  {
   "cell_type": "code",
   "execution_count": 31,
   "metadata": {},
   "outputs": [
    {
     "name": "stdout",
     "output_type": "stream",
     "text": [
      "Событие   : MainScreenAppear\n",
      "p-значение:  0.29424526837179577\n",
      "Не получилось отвергнуть нулевую гипотезу: нет оснований считать доли разными\n",
      "\n",
      "Событие   : OffersScreenAppear\n",
      "p-значение:  0.43425549655188256\n",
      "Не получилось отвергнуть нулевую гипотезу: нет оснований считать доли разными\n",
      "\n",
      "Событие   : CartScreenAppear\n",
      "p-значение:  0.18175875284404386\n",
      "Не получилось отвергнуть нулевую гипотезу: нет оснований считать доли разными\n",
      "\n",
      "Событие   : PaymentScreenSuccessful\n",
      "p-значение:  0.6004294282308704\n",
      "Не получилось отвергнуть нулевую гипотезу: нет оснований считать доли разными\n",
      "\n"
     ]
    }
   ],
   "source": [
    "# проверим статистически значимую разницу между А и В\n",
    "for event in test['event_name'].unique():\n",
    "    aab_test(A, B, event, 0.05, 4)\n",
    "    print()"
   ]
  },
  {
   "cell_type": "markdown",
   "metadata": {},
   "source": [
    "**доли А и В равны**"
   ]
  },
  {
   "cell_type": "markdown",
   "metadata": {},
   "source": [
    "## Вывод"
   ]
  },
  {
   "cell_type": "markdown",
   "metadata": {},
   "source": [
    "**Шаг 1: Откройте файл с данными и изучите общую информацию**\n",
    "\n",
    "Прочитав /datasets/logs_exp.csv мы узнали:\n",
    "* пропусков по столбцам нет\n",
    "* дубликатов 413\n",
    "* наименования нужно привести к snake_case\n",
    "* EventTimestamp тип данных не верный\n",
    "\n",
    "Данные нуждались в предобработке\n",
    "\n",
    "**Шаг 2: Подготовьте данные**\n",
    "\n",
    "На данном шаге мы провели работы:\n",
    "* создали рабочее зеркало\n",
    "* переименовали столбцы\n",
    "* удалили дубликаты\n",
    "* добавили два новых столбца\n",
    "* переименовали группы\n",
    "\n",
    "**Шаг 3: Изучите и проверьте данные**\n",
    "\n",
    "* Всего событий в логе             : 243713\n",
    "* Уникальных видов событий         : 5\n",
    "* Всего пользователей в логе       : 7551\n",
    "* Событий на пользователя, среднее : 32\n",
    "* Начало исследования              : 2019-07-25 04:43:36\n",
    "* Окончание исследования           : 2019-08-07 21:15:17\n",
    "* Продолжительность                : 13 days 16:31:41\n",
    "* гистограмма распределения логов по дате показывает, что основная часть событий приходится на вторую неделю\n",
    "* мы провели очистку, взяв за анализ 2ую неделю эксперимента, и сохранив 98,84% от первоначальных данных\n",
    "\n",
    "**Шаг 4: Изучите воронку событий**\n",
    "\n",
    "* Всего встречается 5 видов событий:\n",
    "1. MainScreenAppear        - появление главного экрана        - 117328\n",
    "2. OffersScreenAppear      - появление экрана предложений     - 46333\n",
    "3. CartScreenAppear        - появление экрана корзины         - 42303\n",
    "4. PaymentScreenSuccessful - появление экрана успешной оплаты - 33918\n",
    "5. Tutorial                - руководство                      - 1005\n",
    "* Составили процент отсева пользователей на каждом событии:\n",
    "1. MainScreenAppear        - 7419 - 98.47%\n",
    "2. OffersScreenAppear      - 4593 - 60.96%\n",
    "3. CartScreenAppear        - 3734 - 49.56%\n",
    "4. PaymentScreenSuccessful - 3539 - 46.97%\n",
    "5. Tutorial                - 840  - 11.15%\n",
    "* Первые четыре события образуют последовательную цепочку движения пользователя по приложению\n",
    "* Первый шаг воронки не проходит 1,53% пользователей\n",
    "* Самый большой скачок - между главной страницей и страницей предложений - почти 40% пользователей туда не приходят. На следующих шагах отсеивается всего 19% и 5% пользователей соответветственно\n",
    "* Всего до успешной оплаты доходят 46,97% от всех уникальных пользователей приложения и 47,7% от совершивших первое событие\n",
    "* От первого события до оплаты доходит лишь 6,12% пользователей\n",
    "\n",
    "**Шаг 5: Изучите результаты эксперимента**\n",
    "\n",
    "Мы выдвинули гипотезу о равенстве долей разных групп на каждом из этапов воронки, сравнив\n",
    "* А1 и А2: не получилось отвергнуть нулевую гипотезу (нет оснований считать доли разными)\n",
    "\n",
    "Тест не нашел статистически значимых различий между группами А1 и А2, что позволило нам в дальнейшем рассматривать результаты А/В-тестирования\n",
    "\n",
    "* А1 и В: не получилось отвергнуть нулевую гипотезу (нет оснований считать доли разными)\n",
    "* А2 и В: не получилось отвергнуть нулевую гипотезу (нет оснований считать доли разными)\n",
    "* А и В: не получилось отвергнуть нулевую гипотезу (нет оснований считать доли разными)\n",
    "\n",
    "**Вывод: дизайнерское решение поменять шрифты во всём приложении не играют большой роли для пользователей**"
   ]
  }
 ],
 "metadata": {
  "ExecuteTimeLog": [
   {
    "duration": 1348,
    "start_time": "2023-02-25T16:45:07.932Z"
   },
   {
    "duration": 4,
    "start_time": "2023-02-25T16:45:10.994Z"
   },
   {
    "duration": 665,
    "start_time": "2023-02-25T16:50:08.919Z"
   },
   {
    "duration": 4,
    "start_time": "2023-02-25T16:51:11.399Z"
   },
   {
    "duration": 9271,
    "start_time": "2023-02-25T16:51:36.269Z"
   },
   {
    "duration": 1208,
    "start_time": "2023-02-25T16:57:04.676Z"
   },
   {
    "duration": 4,
    "start_time": "2023-02-25T16:57:05.886Z"
   },
   {
    "duration": 307,
    "start_time": "2023-02-25T16:57:05.892Z"
   },
   {
    "duration": 12,
    "start_time": "2023-02-25T16:57:06.889Z"
   },
   {
    "duration": 181,
    "start_time": "2023-02-25T16:58:04.929Z"
   },
   {
    "duration": 8,
    "start_time": "2023-02-25T16:58:07.945Z"
   },
   {
    "duration": 10,
    "start_time": "2023-02-25T16:59:10.529Z"
   },
   {
    "duration": 123,
    "start_time": "2023-02-25T17:01:46.433Z"
   },
   {
    "duration": 96,
    "start_time": "2023-02-25T17:02:24.391Z"
   },
   {
    "duration": 119,
    "start_time": "2023-02-25T17:02:32.720Z"
   },
   {
    "duration": 129,
    "start_time": "2023-02-25T17:02:53.409Z"
   },
   {
    "duration": 124,
    "start_time": "2023-02-25T17:03:02.345Z"
   },
   {
    "duration": 114,
    "start_time": "2023-02-25T17:03:09.280Z"
   },
   {
    "duration": 132,
    "start_time": "2023-02-25T17:03:24.313Z"
   },
   {
    "duration": 114,
    "start_time": "2023-02-25T17:38:26.068Z"
   },
   {
    "duration": 115,
    "start_time": "2023-02-25T17:44:13.879Z"
   },
   {
    "duration": 118,
    "start_time": "2023-02-25T17:44:20.886Z"
   },
   {
    "duration": 112,
    "start_time": "2023-02-25T17:45:14.606Z"
   },
   {
    "duration": 121,
    "start_time": "2023-02-25T17:45:35.167Z"
   },
   {
    "duration": 173,
    "start_time": "2023-02-25T17:45:58.334Z"
   },
   {
    "duration": 119,
    "start_time": "2023-02-25T17:47:02.151Z"
   },
   {
    "duration": 6,
    "start_time": "2023-02-25T17:49:26.531Z"
   },
   {
    "duration": 21,
    "start_time": "2023-02-25T17:49:38.691Z"
   },
   {
    "duration": 6,
    "start_time": "2023-02-25T17:50:16.049Z"
   },
   {
    "duration": 64,
    "start_time": "2023-02-25T17:58:03.376Z"
   },
   {
    "duration": 59,
    "start_time": "2023-02-25T17:58:11.966Z"
   },
   {
    "duration": 4,
    "start_time": "2023-02-25T18:01:54.208Z"
   },
   {
    "duration": 164,
    "start_time": "2023-02-25T18:01:59.130Z"
   },
   {
    "duration": 4,
    "start_time": "2023-02-25T18:02:35.849Z"
   },
   {
    "duration": 62,
    "start_time": "2023-02-25T18:02:46.212Z"
   },
   {
    "duration": 73,
    "start_time": "2023-02-25T18:02:57.585Z"
   },
   {
    "duration": 64,
    "start_time": "2023-02-25T18:05:05.569Z"
   },
   {
    "duration": 67,
    "start_time": "2023-02-25T18:05:29.919Z"
   },
   {
    "duration": 23,
    "start_time": "2023-02-25T18:05:36.479Z"
   },
   {
    "duration": 5,
    "start_time": "2023-02-25T18:07:18.513Z"
   },
   {
    "duration": 70,
    "start_time": "2023-02-25T18:07:43.243Z"
   },
   {
    "duration": 8,
    "start_time": "2023-02-25T18:09:41.424Z"
   },
   {
    "duration": 21,
    "start_time": "2023-02-25T18:09:50.082Z"
   },
   {
    "duration": 22,
    "start_time": "2023-02-25T18:09:54.866Z"
   },
   {
    "duration": 7,
    "start_time": "2023-02-25T18:10:02.338Z"
   },
   {
    "duration": 22,
    "start_time": "2023-02-25T18:10:09.363Z"
   },
   {
    "duration": 1173,
    "start_time": "2023-02-25T18:10:18.614Z"
   },
   {
    "duration": 4,
    "start_time": "2023-02-25T18:10:19.789Z"
   },
   {
    "duration": 183,
    "start_time": "2023-02-25T18:10:19.795Z"
   },
   {
    "duration": 12,
    "start_time": "2023-02-25T18:10:19.980Z"
   },
   {
    "duration": 158,
    "start_time": "2023-02-25T18:10:19.993Z"
   },
   {
    "duration": 7,
    "start_time": "2023-02-25T18:10:20.153Z"
   },
   {
    "duration": 3,
    "start_time": "2023-02-25T18:10:20.162Z"
   },
   {
    "duration": 81,
    "start_time": "2023-02-25T18:10:20.166Z"
   },
   {
    "duration": 70,
    "start_time": "2023-02-25T18:10:20.249Z"
   },
   {
    "duration": 36,
    "start_time": "2023-02-25T18:10:20.321Z"
   },
   {
    "duration": 87,
    "start_time": "2023-02-25T18:12:03.443Z"
   },
   {
    "duration": 38,
    "start_time": "2023-02-25T18:12:14.083Z"
   },
   {
    "duration": 1462,
    "start_time": "2023-02-25T18:13:59.142Z"
   },
   {
    "duration": 85,
    "start_time": "2023-02-25T18:14:18.831Z"
   },
   {
    "duration": 49,
    "start_time": "2023-02-25T18:14:21.144Z"
   },
   {
    "duration": 1202,
    "start_time": "2023-02-25T18:14:58.379Z"
   },
   {
    "duration": 4,
    "start_time": "2023-02-25T18:14:59.583Z"
   },
   {
    "duration": 180,
    "start_time": "2023-02-25T18:14:59.589Z"
   },
   {
    "duration": 12,
    "start_time": "2023-02-25T18:14:59.772Z"
   },
   {
    "duration": 155,
    "start_time": "2023-02-25T18:14:59.785Z"
   },
   {
    "duration": 8,
    "start_time": "2023-02-25T18:14:59.945Z"
   },
   {
    "duration": 69,
    "start_time": "2023-02-25T18:14:59.955Z"
   },
   {
    "duration": 73,
    "start_time": "2023-02-25T18:15:00.044Z"
   },
   {
    "duration": 110,
    "start_time": "2023-02-25T18:15:00.119Z"
   },
   {
    "duration": 48,
    "start_time": "2023-02-25T18:15:00.232Z"
   },
   {
    "duration": 88,
    "start_time": "2023-02-25T18:16:19.458Z"
   },
   {
    "duration": 38,
    "start_time": "2023-02-25T18:16:21.632Z"
   },
   {
    "duration": 38,
    "start_time": "2023-02-25T18:16:25.207Z"
   },
   {
    "duration": 1210,
    "start_time": "2023-02-25T18:16:31.354Z"
   },
   {
    "duration": 4,
    "start_time": "2023-02-25T18:16:32.566Z"
   },
   {
    "duration": 179,
    "start_time": "2023-02-25T18:16:32.571Z"
   },
   {
    "duration": 11,
    "start_time": "2023-02-25T18:16:32.752Z"
   },
   {
    "duration": 143,
    "start_time": "2023-02-25T18:16:32.765Z"
   },
   {
    "duration": 7,
    "start_time": "2023-02-25T18:16:32.910Z"
   },
   {
    "duration": 81,
    "start_time": "2023-02-25T18:16:32.919Z"
   },
   {
    "duration": 79,
    "start_time": "2023-02-25T18:16:33.002Z"
   },
   {
    "duration": 99,
    "start_time": "2023-02-25T18:16:33.083Z"
   },
   {
    "duration": 38,
    "start_time": "2023-02-25T18:16:33.185Z"
   },
   {
    "duration": 124,
    "start_time": "2023-02-25T18:22:15.736Z"
   },
   {
    "duration": 1196,
    "start_time": "2023-02-25T18:22:27.204Z"
   },
   {
    "duration": 4,
    "start_time": "2023-02-25T18:22:28.402Z"
   },
   {
    "duration": 178,
    "start_time": "2023-02-25T18:22:28.408Z"
   },
   {
    "duration": 14,
    "start_time": "2023-02-25T18:22:28.589Z"
   },
   {
    "duration": 161,
    "start_time": "2023-02-25T18:22:28.604Z"
   },
   {
    "duration": 8,
    "start_time": "2023-02-25T18:22:28.766Z"
   },
   {
    "duration": 82,
    "start_time": "2023-02-25T18:22:28.776Z"
   },
   {
    "duration": 77,
    "start_time": "2023-02-25T18:22:28.860Z"
   },
   {
    "duration": 126,
    "start_time": "2023-02-25T18:22:28.938Z"
   },
   {
    "duration": 0,
    "start_time": "2023-02-25T18:22:29.066Z"
   },
   {
    "duration": 78,
    "start_time": "2023-02-25T18:23:01.098Z"
   },
   {
    "duration": 39,
    "start_time": "2023-02-25T18:23:03.799Z"
   },
   {
    "duration": 12,
    "start_time": "2023-02-25T18:27:31.535Z"
   },
   {
    "duration": 14,
    "start_time": "2023-02-25T18:27:38.383Z"
   },
   {
    "duration": 1239,
    "start_time": "2023-02-25T18:27:49.838Z"
   },
   {
    "duration": 5,
    "start_time": "2023-02-25T18:27:51.079Z"
   },
   {
    "duration": 181,
    "start_time": "2023-02-25T18:27:51.085Z"
   },
   {
    "duration": 11,
    "start_time": "2023-02-25T18:27:51.268Z"
   },
   {
    "duration": 170,
    "start_time": "2023-02-25T18:27:51.281Z"
   },
   {
    "duration": 10,
    "start_time": "2023-02-25T18:27:51.453Z"
   },
   {
    "duration": 83,
    "start_time": "2023-02-25T18:27:51.467Z"
   },
   {
    "duration": 72,
    "start_time": "2023-02-25T18:27:51.552Z"
   },
   {
    "duration": 90,
    "start_time": "2023-02-25T18:27:51.625Z"
   },
   {
    "duration": 47,
    "start_time": "2023-02-25T18:27:51.718Z"
   },
   {
    "duration": 46,
    "start_time": "2023-02-25T18:27:51.767Z"
   },
   {
    "duration": 116,
    "start_time": "2023-02-25T18:29:49.778Z"
   },
   {
    "duration": 88,
    "start_time": "2023-02-25T18:30:12.031Z"
   },
   {
    "duration": 1236,
    "start_time": "2023-02-25T18:30:24.549Z"
   },
   {
    "duration": 6,
    "start_time": "2023-02-25T18:30:25.787Z"
   },
   {
    "duration": 181,
    "start_time": "2023-02-25T18:30:25.795Z"
   },
   {
    "duration": 12,
    "start_time": "2023-02-25T18:30:25.978Z"
   },
   {
    "duration": 163,
    "start_time": "2023-02-25T18:30:25.992Z"
   },
   {
    "duration": 7,
    "start_time": "2023-02-25T18:30:26.157Z"
   },
   {
    "duration": 80,
    "start_time": "2023-02-25T18:30:26.166Z"
   },
   {
    "duration": 72,
    "start_time": "2023-02-25T18:30:26.248Z"
   },
   {
    "duration": 89,
    "start_time": "2023-02-25T18:30:26.323Z"
   },
   {
    "duration": 54,
    "start_time": "2023-02-25T18:30:26.414Z"
   },
   {
    "duration": 59,
    "start_time": "2023-02-25T18:30:26.470Z"
   },
   {
    "duration": 43,
    "start_time": "2023-02-25T18:32:35.527Z"
   },
   {
    "duration": 107,
    "start_time": "2023-02-25T18:38:52.383Z"
   },
   {
    "duration": 48,
    "start_time": "2023-02-25T18:39:03.207Z"
   },
   {
    "duration": 1196,
    "start_time": "2023-02-25T18:39:18.788Z"
   },
   {
    "duration": 4,
    "start_time": "2023-02-25T18:39:19.986Z"
   },
   {
    "duration": 173,
    "start_time": "2023-02-25T18:39:19.992Z"
   },
   {
    "duration": 11,
    "start_time": "2023-02-25T18:39:20.167Z"
   },
   {
    "duration": 149,
    "start_time": "2023-02-25T18:39:20.180Z"
   },
   {
    "duration": 17,
    "start_time": "2023-02-25T18:39:20.331Z"
   },
   {
    "duration": 72,
    "start_time": "2023-02-25T18:39:20.350Z"
   },
   {
    "duration": 101,
    "start_time": "2023-02-25T18:39:20.424Z"
   },
   {
    "duration": 92,
    "start_time": "2023-02-25T18:39:20.528Z"
   },
   {
    "duration": 46,
    "start_time": "2023-02-25T18:39:20.622Z"
   },
   {
    "duration": 144,
    "start_time": "2023-02-25T18:39:20.669Z"
   },
   {
    "duration": 44,
    "start_time": "2023-02-25T18:40:32.673Z"
   },
   {
    "duration": 44,
    "start_time": "2023-02-25T18:40:37.737Z"
   },
   {
    "duration": 40,
    "start_time": "2023-02-25T18:41:59.516Z"
   },
   {
    "duration": 19,
    "start_time": "2023-02-25T18:50:54.591Z"
   },
   {
    "duration": 49,
    "start_time": "2023-02-25T18:51:20.864Z"
   },
   {
    "duration": 1200,
    "start_time": "2023-02-25T18:51:37.014Z"
   },
   {
    "duration": 4,
    "start_time": "2023-02-25T18:51:38.216Z"
   },
   {
    "duration": 180,
    "start_time": "2023-02-25T18:51:38.222Z"
   },
   {
    "duration": 11,
    "start_time": "2023-02-25T18:51:38.404Z"
   },
   {
    "duration": 163,
    "start_time": "2023-02-25T18:51:38.416Z"
   },
   {
    "duration": 9,
    "start_time": "2023-02-25T18:51:38.581Z"
   },
   {
    "duration": 93,
    "start_time": "2023-02-25T18:51:38.592Z"
   },
   {
    "duration": 79,
    "start_time": "2023-02-25T18:51:38.687Z"
   },
   {
    "duration": 81,
    "start_time": "2023-02-25T18:51:38.768Z"
   },
   {
    "duration": 16,
    "start_time": "2023-02-25T18:51:38.851Z"
   },
   {
    "duration": 49,
    "start_time": "2023-02-25T18:51:38.868Z"
   },
   {
    "duration": 58,
    "start_time": "2023-02-25T18:51:38.944Z"
   },
   {
    "duration": 1200,
    "start_time": "2023-02-25T18:53:18.871Z"
   },
   {
    "duration": 3,
    "start_time": "2023-02-25T18:53:20.073Z"
   },
   {
    "duration": 179,
    "start_time": "2023-02-25T18:53:20.078Z"
   },
   {
    "duration": 12,
    "start_time": "2023-02-25T18:53:20.259Z"
   },
   {
    "duration": 162,
    "start_time": "2023-02-25T18:53:20.273Z"
   },
   {
    "duration": 15,
    "start_time": "2023-02-25T18:53:20.437Z"
   },
   {
    "duration": 92,
    "start_time": "2023-02-25T18:53:20.455Z"
   },
   {
    "duration": 82,
    "start_time": "2023-02-25T18:53:20.549Z"
   },
   {
    "duration": 84,
    "start_time": "2023-02-25T18:53:20.632Z"
   },
   {
    "duration": 28,
    "start_time": "2023-02-25T18:53:20.719Z"
   },
   {
    "duration": 50,
    "start_time": "2023-02-25T18:53:20.749Z"
   },
   {
    "duration": 1298,
    "start_time": "2023-02-25T18:55:31.904Z"
   },
   {
    "duration": 5,
    "start_time": "2023-02-25T18:55:33.205Z"
   },
   {
    "duration": 204,
    "start_time": "2023-02-25T18:55:33.211Z"
   },
   {
    "duration": 13,
    "start_time": "2023-02-25T18:55:33.417Z"
   },
   {
    "duration": 162,
    "start_time": "2023-02-25T18:55:33.432Z"
   },
   {
    "duration": 8,
    "start_time": "2023-02-25T18:55:33.596Z"
   },
   {
    "duration": 82,
    "start_time": "2023-02-25T18:55:33.606Z"
   },
   {
    "duration": 72,
    "start_time": "2023-02-25T18:55:33.690Z"
   },
   {
    "duration": 81,
    "start_time": "2023-02-25T18:55:33.764Z"
   },
   {
    "duration": 16,
    "start_time": "2023-02-25T18:55:33.847Z"
   },
   {
    "duration": 53,
    "start_time": "2023-02-25T18:55:33.865Z"
   },
   {
    "duration": 1264,
    "start_time": "2023-02-25T20:25:02.867Z"
   },
   {
    "duration": 4,
    "start_time": "2023-02-25T20:25:04.133Z"
   },
   {
    "duration": 208,
    "start_time": "2023-02-25T20:25:04.139Z"
   },
   {
    "duration": 14,
    "start_time": "2023-02-25T20:25:04.349Z"
   },
   {
    "duration": 160,
    "start_time": "2023-02-25T20:25:04.365Z"
   },
   {
    "duration": 7,
    "start_time": "2023-02-25T20:25:04.527Z"
   },
   {
    "duration": 66,
    "start_time": "2023-02-25T20:25:04.545Z"
   },
   {
    "duration": 80,
    "start_time": "2023-02-25T20:25:04.613Z"
   },
   {
    "duration": 85,
    "start_time": "2023-02-25T20:25:04.695Z"
   },
   {
    "duration": 15,
    "start_time": "2023-02-25T20:25:04.782Z"
   },
   {
    "duration": 60,
    "start_time": "2023-02-25T20:25:04.799Z"
   },
   {
    "duration": 1145,
    "start_time": "2023-02-25T20:30:21.804Z"
   },
   {
    "duration": 4,
    "start_time": "2023-02-25T20:30:22.951Z"
   },
   {
    "duration": 177,
    "start_time": "2023-02-25T20:30:22.956Z"
   },
   {
    "duration": 14,
    "start_time": "2023-02-25T20:30:23.135Z"
   },
   {
    "duration": 151,
    "start_time": "2023-02-25T20:30:23.152Z"
   },
   {
    "duration": 9,
    "start_time": "2023-02-25T20:30:23.305Z"
   },
   {
    "duration": 71,
    "start_time": "2023-02-25T20:30:23.315Z"
   },
   {
    "duration": 77,
    "start_time": "2023-02-25T20:30:23.388Z"
   },
   {
    "duration": 83,
    "start_time": "2023-02-25T20:30:23.467Z"
   },
   {
    "duration": 16,
    "start_time": "2023-02-25T20:30:23.552Z"
   },
   {
    "duration": 51,
    "start_time": "2023-02-25T20:30:23.569Z"
   },
   {
    "duration": 1162,
    "start_time": "2023-02-25T20:33:11.936Z"
   },
   {
    "duration": 12,
    "start_time": "2023-02-25T20:33:23.273Z"
   },
   {
    "duration": 1226,
    "start_time": "2023-02-25T20:37:44.469Z"
   },
   {
    "duration": 4,
    "start_time": "2023-02-25T20:37:45.697Z"
   },
   {
    "duration": 184,
    "start_time": "2023-02-25T20:37:45.703Z"
   },
   {
    "duration": 13,
    "start_time": "2023-02-25T20:37:45.888Z"
   },
   {
    "duration": 153,
    "start_time": "2023-02-25T20:37:45.903Z"
   },
   {
    "duration": 3,
    "start_time": "2023-02-25T20:37:46.058Z"
   },
   {
    "duration": 12,
    "start_time": "2023-02-25T20:37:46.063Z"
   },
   {
    "duration": 79,
    "start_time": "2023-02-25T20:37:46.077Z"
   },
   {
    "duration": 76,
    "start_time": "2023-02-25T20:37:46.158Z"
   },
   {
    "duration": 83,
    "start_time": "2023-02-25T20:37:46.236Z"
   },
   {
    "duration": 30,
    "start_time": "2023-02-25T20:37:46.321Z"
   },
   {
    "duration": 49,
    "start_time": "2023-02-25T20:37:46.352Z"
   },
   {
    "duration": 15,
    "start_time": "2023-02-25T20:37:46.403Z"
   },
   {
    "duration": 1254,
    "start_time": "2023-02-25T20:37:46.444Z"
   },
   {
    "duration": 0,
    "start_time": "2023-02-25T20:37:47.700Z"
   },
   {
    "duration": 0,
    "start_time": "2023-02-25T20:37:47.701Z"
   },
   {
    "duration": 1240,
    "start_time": "2023-02-25T20:38:55.951Z"
   },
   {
    "duration": 3,
    "start_time": "2023-02-25T20:38:57.193Z"
   },
   {
    "duration": 172,
    "start_time": "2023-02-25T20:38:57.198Z"
   },
   {
    "duration": 12,
    "start_time": "2023-02-25T20:38:57.372Z"
   },
   {
    "duration": 146,
    "start_time": "2023-02-25T20:38:57.385Z"
   },
   {
    "duration": 3,
    "start_time": "2023-02-25T20:38:57.533Z"
   },
   {
    "duration": 13,
    "start_time": "2023-02-25T20:38:57.537Z"
   },
   {
    "duration": 62,
    "start_time": "2023-02-25T20:38:57.551Z"
   },
   {
    "duration": 100,
    "start_time": "2023-02-25T20:38:57.614Z"
   },
   {
    "duration": 89,
    "start_time": "2023-02-25T20:38:57.716Z"
   },
   {
    "duration": 19,
    "start_time": "2023-02-25T20:38:57.808Z"
   },
   {
    "duration": 66,
    "start_time": "2023-02-25T20:38:57.829Z"
   },
   {
    "duration": 13,
    "start_time": "2023-02-25T20:38:57.896Z"
   },
   {
    "duration": 117,
    "start_time": "2023-02-25T20:38:57.911Z"
   },
   {
    "duration": 0,
    "start_time": "2023-02-25T20:38:58.030Z"
   },
   {
    "duration": 0,
    "start_time": "2023-02-25T20:38:58.031Z"
   },
   {
    "duration": 1081,
    "start_time": "2023-02-25T20:39:05.036Z"
   },
   {
    "duration": 35,
    "start_time": "2023-02-25T20:39:13.421Z"
   },
   {
    "duration": 9,
    "start_time": "2023-02-25T20:39:20.772Z"
   },
   {
    "duration": 9,
    "start_time": "2023-02-25T20:39:33.869Z"
   },
   {
    "duration": 80,
    "start_time": "2023-02-25T20:39:48.365Z"
   },
   {
    "duration": 7,
    "start_time": "2023-02-25T20:39:52.109Z"
   },
   {
    "duration": 8,
    "start_time": "2023-02-25T20:40:05.773Z"
   },
   {
    "duration": 45,
    "start_time": "2023-02-25T20:45:44.680Z"
   },
   {
    "duration": 45,
    "start_time": "2023-02-25T20:46:29.520Z"
   },
   {
    "duration": 1180,
    "start_time": "2023-02-25T20:46:55.776Z"
   },
   {
    "duration": 4,
    "start_time": "2023-02-25T20:46:56.958Z"
   },
   {
    "duration": 181,
    "start_time": "2023-02-25T20:46:56.964Z"
   },
   {
    "duration": 11,
    "start_time": "2023-02-25T20:46:57.147Z"
   },
   {
    "duration": 146,
    "start_time": "2023-02-25T20:46:57.160Z"
   },
   {
    "duration": 3,
    "start_time": "2023-02-25T20:46:57.307Z"
   },
   {
    "duration": 13,
    "start_time": "2023-02-25T20:46:57.311Z"
   },
   {
    "duration": 75,
    "start_time": "2023-02-25T20:46:57.325Z"
   },
   {
    "duration": 96,
    "start_time": "2023-02-25T20:46:57.402Z"
   },
   {
    "duration": 79,
    "start_time": "2023-02-25T20:46:57.501Z"
   },
   {
    "duration": 18,
    "start_time": "2023-02-25T20:46:57.582Z"
   },
   {
    "duration": 63,
    "start_time": "2023-02-25T20:46:57.602Z"
   },
   {
    "duration": 50,
    "start_time": "2023-02-25T20:46:57.666Z"
   },
   {
    "duration": 102,
    "start_time": "2023-02-25T21:02:08.616Z"
   },
   {
    "duration": 6,
    "start_time": "2023-02-25T21:02:54.611Z"
   },
   {
    "duration": 8,
    "start_time": "2023-02-25T21:03:54.427Z"
   },
   {
    "duration": 8,
    "start_time": "2023-02-25T21:05:14.964Z"
   },
   {
    "duration": 822,
    "start_time": "2023-02-25T21:07:49.589Z"
   },
   {
    "duration": 687,
    "start_time": "2023-02-25T21:09:12.850Z"
   },
   {
    "duration": 803,
    "start_time": "2023-02-25T21:10:00.899Z"
   },
   {
    "duration": 721,
    "start_time": "2023-02-25T21:12:32.464Z"
   },
   {
    "duration": 692,
    "start_time": "2023-02-25T21:14:11.547Z"
   },
   {
    "duration": 764,
    "start_time": "2023-02-25T21:14:40.273Z"
   },
   {
    "duration": 1462,
    "start_time": "2023-02-25T21:15:10.459Z"
   },
   {
    "duration": 1428,
    "start_time": "2023-02-25T21:15:28.348Z"
   },
   {
    "duration": 1526,
    "start_time": "2023-02-25T21:15:49.956Z"
   },
   {
    "duration": 741,
    "start_time": "2023-02-25T21:16:22.868Z"
   },
   {
    "duration": 12,
    "start_time": "2023-02-25T21:20:39.618Z"
   },
   {
    "duration": 114785,
    "start_time": "2023-02-25T21:21:44.170Z"
   },
   {
    "duration": 0,
    "start_time": "2023-02-25T21:23:38.960Z"
   },
   {
    "duration": 5121,
    "start_time": "2023-02-25T21:23:45.676Z"
   },
   {
    "duration": 1193,
    "start_time": "2023-02-25T21:25:00.992Z"
   },
   {
    "duration": 4,
    "start_time": "2023-02-25T21:25:02.187Z"
   },
   {
    "duration": 170,
    "start_time": "2023-02-25T21:25:02.194Z"
   },
   {
    "duration": 11,
    "start_time": "2023-02-25T21:25:02.367Z"
   },
   {
    "duration": 148,
    "start_time": "2023-02-25T21:25:02.379Z"
   },
   {
    "duration": 3,
    "start_time": "2023-02-25T21:25:02.529Z"
   },
   {
    "duration": 15,
    "start_time": "2023-02-25T21:25:02.534Z"
   },
   {
    "duration": 66,
    "start_time": "2023-02-25T21:25:02.551Z"
   },
   {
    "duration": 97,
    "start_time": "2023-02-25T21:25:02.619Z"
   },
   {
    "duration": 87,
    "start_time": "2023-02-25T21:25:02.718Z"
   },
   {
    "duration": 20,
    "start_time": "2023-02-25T21:25:02.807Z"
   },
   {
    "duration": 57,
    "start_time": "2023-02-25T21:25:02.829Z"
   },
   {
    "duration": 73,
    "start_time": "2023-02-25T21:25:02.888Z"
   },
   {
    "duration": 10,
    "start_time": "2023-02-25T21:25:02.962Z"
   },
   {
    "duration": 941,
    "start_time": "2023-02-25T21:25:02.973Z"
   },
   {
    "duration": 502,
    "start_time": "2023-02-25T21:26:16.526Z"
   },
   {
    "duration": 1331,
    "start_time": "2023-02-25T21:27:22.048Z"
   },
   {
    "duration": 1216,
    "start_time": "2023-02-25T21:27:40.552Z"
   },
   {
    "duration": 1224,
    "start_time": "2023-02-25T21:27:51.407Z"
   },
   {
    "duration": 150,
    "start_time": "2023-02-25T22:10:31.620Z"
   },
   {
    "duration": 138,
    "start_time": "2023-02-25T22:11:00.041Z"
   },
   {
    "duration": 108,
    "start_time": "2023-02-25T22:13:00.360Z"
   },
   {
    "duration": 100,
    "start_time": "2023-02-25T22:13:15.727Z"
   },
   {
    "duration": 1253,
    "start_time": "2023-02-25T22:13:30.349Z"
   },
   {
    "duration": 4,
    "start_time": "2023-02-25T22:13:31.604Z"
   },
   {
    "duration": 185,
    "start_time": "2023-02-25T22:13:31.609Z"
   },
   {
    "duration": 11,
    "start_time": "2023-02-25T22:13:31.796Z"
   },
   {
    "duration": 147,
    "start_time": "2023-02-25T22:13:31.809Z"
   },
   {
    "duration": 3,
    "start_time": "2023-02-25T22:13:31.958Z"
   },
   {
    "duration": 35,
    "start_time": "2023-02-25T22:13:31.962Z"
   },
   {
    "duration": 79,
    "start_time": "2023-02-25T22:13:31.999Z"
   },
   {
    "duration": 88,
    "start_time": "2023-02-25T22:13:32.080Z"
   },
   {
    "duration": 90,
    "start_time": "2023-02-25T22:13:32.170Z"
   },
   {
    "duration": 19,
    "start_time": "2023-02-25T22:13:32.262Z"
   },
   {
    "duration": 47,
    "start_time": "2023-02-25T22:13:32.283Z"
   },
   {
    "duration": 53,
    "start_time": "2023-02-25T22:13:32.346Z"
   },
   {
    "duration": 8,
    "start_time": "2023-02-25T22:13:32.401Z"
   },
   {
    "duration": 1325,
    "start_time": "2023-02-25T22:13:32.411Z"
   },
   {
    "duration": 137,
    "start_time": "2023-02-25T22:13:33.738Z"
   },
   {
    "duration": 129,
    "start_time": "2023-02-25T22:16:03.092Z"
   },
   {
    "duration": 111,
    "start_time": "2023-02-25T22:18:25.480Z"
   },
   {
    "duration": 48,
    "start_time": "2023-02-25T22:18:34.577Z"
   },
   {
    "duration": 89,
    "start_time": "2023-02-25T22:19:42.650Z"
   },
   {
    "duration": 63,
    "start_time": "2023-02-25T22:20:39.267Z"
   },
   {
    "duration": 70,
    "start_time": "2023-02-25T22:20:52.268Z"
   },
   {
    "duration": 30,
    "start_time": "2023-02-25T22:21:11.995Z"
   },
   {
    "duration": 9,
    "start_time": "2023-02-25T22:23:58.831Z"
   },
   {
    "duration": 8,
    "start_time": "2023-02-25T22:24:28.951Z"
   },
   {
    "duration": 9,
    "start_time": "2023-02-25T22:24:59.575Z"
   },
   {
    "duration": 14,
    "start_time": "2023-02-25T22:25:24.384Z"
   },
   {
    "duration": 12,
    "start_time": "2023-02-25T22:25:30.361Z"
   },
   {
    "duration": 7,
    "start_time": "2023-02-25T22:27:24.449Z"
   },
   {
    "duration": 9,
    "start_time": "2023-02-25T22:28:33.201Z"
   },
   {
    "duration": 8,
    "start_time": "2023-02-25T22:29:32.945Z"
   },
   {
    "duration": 5,
    "start_time": "2023-02-25T22:38:11.649Z"
   },
   {
    "duration": 4,
    "start_time": "2023-02-25T22:39:17.762Z"
   },
   {
    "duration": 3,
    "start_time": "2023-02-25T22:39:35.899Z"
   },
   {
    "duration": 8,
    "start_time": "2023-02-25T22:40:43.486Z"
   },
   {
    "duration": 1279,
    "start_time": "2023-02-25T22:42:29.620Z"
   },
   {
    "duration": 4,
    "start_time": "2023-02-25T22:42:30.901Z"
   },
   {
    "duration": 218,
    "start_time": "2023-02-25T22:42:30.907Z"
   },
   {
    "duration": 12,
    "start_time": "2023-02-25T22:42:31.127Z"
   },
   {
    "duration": 166,
    "start_time": "2023-02-25T22:42:31.141Z"
   },
   {
    "duration": 2,
    "start_time": "2023-02-25T22:42:31.309Z"
   },
   {
    "duration": 32,
    "start_time": "2023-02-25T22:42:31.313Z"
   },
   {
    "duration": 81,
    "start_time": "2023-02-25T22:42:31.347Z"
   },
   {
    "duration": 84,
    "start_time": "2023-02-25T22:42:31.430Z"
   },
   {
    "duration": 89,
    "start_time": "2023-02-25T22:42:31.518Z"
   },
   {
    "duration": 19,
    "start_time": "2023-02-25T22:42:31.609Z"
   },
   {
    "duration": 55,
    "start_time": "2023-02-25T22:42:31.630Z"
   },
   {
    "duration": 73,
    "start_time": "2023-02-25T22:42:31.687Z"
   },
   {
    "duration": 8,
    "start_time": "2023-02-25T22:42:31.762Z"
   },
   {
    "duration": 1391,
    "start_time": "2023-02-25T22:42:31.771Z"
   },
   {
    "duration": 49,
    "start_time": "2023-02-25T22:42:33.164Z"
   },
   {
    "duration": 107,
    "start_time": "2023-02-25T22:42:33.215Z"
   },
   {
    "duration": 26,
    "start_time": "2023-02-25T22:42:33.323Z"
   },
   {
    "duration": 1190,
    "start_time": "2023-02-25T22:47:17.364Z"
   },
   {
    "duration": 3,
    "start_time": "2023-02-25T22:47:18.556Z"
   },
   {
    "duration": 178,
    "start_time": "2023-02-25T22:47:18.561Z"
   },
   {
    "duration": 13,
    "start_time": "2023-02-25T22:47:18.742Z"
   },
   {
    "duration": 149,
    "start_time": "2023-02-25T22:47:18.757Z"
   },
   {
    "duration": 3,
    "start_time": "2023-02-25T22:47:18.908Z"
   },
   {
    "duration": 11,
    "start_time": "2023-02-25T22:47:18.912Z"
   },
   {
    "duration": 75,
    "start_time": "2023-02-25T22:47:18.924Z"
   },
   {
    "duration": 92,
    "start_time": "2023-02-25T22:47:19.001Z"
   },
   {
    "duration": 91,
    "start_time": "2023-02-25T22:47:19.095Z"
   },
   {
    "duration": 21,
    "start_time": "2023-02-25T22:47:19.187Z"
   },
   {
    "duration": 61,
    "start_time": "2023-02-25T22:47:19.209Z"
   },
   {
    "duration": 49,
    "start_time": "2023-02-25T22:47:19.272Z"
   },
   {
    "duration": 25,
    "start_time": "2023-02-25T22:47:19.323Z"
   },
   {
    "duration": 1437,
    "start_time": "2023-02-25T22:47:19.349Z"
   },
   {
    "duration": 48,
    "start_time": "2023-02-25T22:47:20.787Z"
   },
   {
    "duration": 105,
    "start_time": "2023-02-25T22:47:20.844Z"
   },
   {
    "duration": 7,
    "start_time": "2023-02-25T22:47:20.951Z"
   },
   {
    "duration": 26,
    "start_time": "2023-02-25T22:47:20.960Z"
   },
   {
    "duration": 24,
    "start_time": "2023-02-25T22:47:37.542Z"
   },
   {
    "duration": 60,
    "start_time": "2023-02-25T23:01:41.554Z"
   },
   {
    "duration": 72,
    "start_time": "2023-02-25T23:02:03.444Z"
   },
   {
    "duration": 59,
    "start_time": "2023-02-25T23:02:07.355Z"
   },
   {
    "duration": 168,
    "start_time": "2023-02-25T23:09:46.381Z"
   },
   {
    "duration": 75,
    "start_time": "2023-02-25T23:10:04.512Z"
   },
   {
    "duration": 74,
    "start_time": "2023-02-25T23:10:16.433Z"
   },
   {
    "duration": 70,
    "start_time": "2023-02-25T23:10:21.173Z"
   },
   {
    "duration": 71,
    "start_time": "2023-02-25T23:10:27.193Z"
   },
   {
    "duration": 4,
    "start_time": "2023-02-25T23:10:51.093Z"
   },
   {
    "duration": 5,
    "start_time": "2023-02-25T23:11:04.656Z"
   },
   {
    "duration": 72,
    "start_time": "2023-02-25T23:11:08.894Z"
   },
   {
    "duration": 136,
    "start_time": "2023-02-25T23:11:51.833Z"
   },
   {
    "duration": 77,
    "start_time": "2023-02-25T23:12:01.504Z"
   },
   {
    "duration": 74,
    "start_time": "2023-02-25T23:12:08.729Z"
   },
   {
    "duration": 11,
    "start_time": "2023-02-25T23:14:33.729Z"
   },
   {
    "duration": 164,
    "start_time": "2023-02-25T23:14:41.786Z"
   },
   {
    "duration": 4,
    "start_time": "2023-02-25T23:15:10.820Z"
   },
   {
    "duration": 179,
    "start_time": "2023-02-25T23:15:16.146Z"
   },
   {
    "duration": 17,
    "start_time": "2023-02-25T23:16:14.483Z"
   },
   {
    "duration": 196,
    "start_time": "2023-02-25T23:16:47.228Z"
   },
   {
    "duration": 1364,
    "start_time": "2023-02-25T23:18:01.707Z"
   },
   {
    "duration": 6,
    "start_time": "2023-02-25T23:18:14.947Z"
   },
   {
    "duration": 1435,
    "start_time": "2023-02-25T23:18:19.835Z"
   },
   {
    "duration": 216,
    "start_time": "2023-02-25T23:22:44.291Z"
   },
   {
    "duration": 70,
    "start_time": "2023-02-25T23:48:01.492Z"
   },
   {
    "duration": 62,
    "start_time": "2023-02-25T23:48:10.251Z"
   },
   {
    "duration": 63,
    "start_time": "2023-02-25T23:52:16.257Z"
   },
   {
    "duration": 74,
    "start_time": "2023-02-25T23:52:30.063Z"
   },
   {
    "duration": 63,
    "start_time": "2023-02-25T23:56:09.196Z"
   },
   {
    "duration": 86,
    "start_time": "2023-02-25T23:56:30.412Z"
   },
   {
    "duration": 60,
    "start_time": "2023-02-25T23:56:41.063Z"
   },
   {
    "duration": 61,
    "start_time": "2023-02-25T23:58:44.382Z"
   },
   {
    "duration": 73,
    "start_time": "2023-02-25T23:59:01.029Z"
   },
   {
    "duration": 72,
    "start_time": "2023-02-26T00:01:02.077Z"
   },
   {
    "duration": 67,
    "start_time": "2023-02-26T00:01:49.912Z"
   },
   {
    "duration": 1147,
    "start_time": "2023-02-26T00:03:31.926Z"
   },
   {
    "duration": 5,
    "start_time": "2023-02-26T00:03:33.074Z"
   },
   {
    "duration": 183,
    "start_time": "2023-02-26T00:03:33.081Z"
   },
   {
    "duration": 11,
    "start_time": "2023-02-26T00:03:33.266Z"
   },
   {
    "duration": 148,
    "start_time": "2023-02-26T00:03:33.279Z"
   },
   {
    "duration": 3,
    "start_time": "2023-02-26T00:03:33.429Z"
   },
   {
    "duration": 19,
    "start_time": "2023-02-26T00:03:33.433Z"
   },
   {
    "duration": 79,
    "start_time": "2023-02-26T00:03:33.453Z"
   },
   {
    "duration": 77,
    "start_time": "2023-02-26T00:03:33.533Z"
   },
   {
    "duration": 85,
    "start_time": "2023-02-26T00:03:33.611Z"
   },
   {
    "duration": 20,
    "start_time": "2023-02-26T00:03:33.698Z"
   },
   {
    "duration": 62,
    "start_time": "2023-02-26T00:03:33.720Z"
   },
   {
    "duration": 61,
    "start_time": "2023-02-26T00:03:33.784Z"
   },
   {
    "duration": 8,
    "start_time": "2023-02-26T00:03:33.847Z"
   },
   {
    "duration": 1355,
    "start_time": "2023-02-26T00:03:33.856Z"
   },
   {
    "duration": 47,
    "start_time": "2023-02-26T00:03:35.212Z"
   },
   {
    "duration": 106,
    "start_time": "2023-02-26T00:03:35.261Z"
   },
   {
    "duration": 9,
    "start_time": "2023-02-26T00:03:35.369Z"
   },
   {
    "duration": 26,
    "start_time": "2023-02-26T00:03:35.380Z"
   },
   {
    "duration": 93,
    "start_time": "2023-02-26T00:03:35.408Z"
   },
   {
    "duration": 210,
    "start_time": "2023-02-26T00:03:35.503Z"
   },
   {
    "duration": 49,
    "start_time": "2023-02-26T00:06:19.965Z"
   },
   {
    "duration": 45,
    "start_time": "2023-02-26T00:12:24.185Z"
   },
   {
    "duration": 127,
    "start_time": "2023-02-26T01:03:25.968Z"
   },
   {
    "duration": 201,
    "start_time": "2023-02-26T01:03:52.735Z"
   },
   {
    "duration": 121,
    "start_time": "2023-02-26T01:05:12.177Z"
   },
   {
    "duration": 122,
    "start_time": "2023-02-26T01:05:34.650Z"
   },
   {
    "duration": 108,
    "start_time": "2023-02-26T01:06:36.099Z"
   },
   {
    "duration": 114,
    "start_time": "2023-02-26T01:08:43.893Z"
   },
   {
    "duration": 94,
    "start_time": "2023-02-26T01:08:59.627Z"
   },
   {
    "duration": 1267,
    "start_time": "2023-02-26T07:28:38.737Z"
   },
   {
    "duration": 8,
    "start_time": "2023-02-26T07:28:40.008Z"
   },
   {
    "duration": 759,
    "start_time": "2023-02-26T07:28:40.018Z"
   },
   {
    "duration": 11,
    "start_time": "2023-02-26T07:28:40.780Z"
   },
   {
    "duration": 132,
    "start_time": "2023-02-26T07:28:40.792Z"
   },
   {
    "duration": 2,
    "start_time": "2023-02-26T07:28:40.926Z"
   },
   {
    "duration": 11,
    "start_time": "2023-02-26T07:28:40.929Z"
   },
   {
    "duration": 74,
    "start_time": "2023-02-26T07:28:40.942Z"
   },
   {
    "duration": 73,
    "start_time": "2023-02-26T07:28:41.018Z"
   },
   {
    "duration": 87,
    "start_time": "2023-02-26T07:28:41.093Z"
   },
   {
    "duration": 35,
    "start_time": "2023-02-26T07:28:41.182Z"
   },
   {
    "duration": 46,
    "start_time": "2023-02-26T07:28:41.219Z"
   },
   {
    "duration": 61,
    "start_time": "2023-02-26T07:28:41.267Z"
   },
   {
    "duration": 7,
    "start_time": "2023-02-26T07:28:41.330Z"
   },
   {
    "duration": 1347,
    "start_time": "2023-02-26T07:28:41.339Z"
   },
   {
    "duration": 50,
    "start_time": "2023-02-26T07:28:42.688Z"
   },
   {
    "duration": 109,
    "start_time": "2023-02-26T07:28:42.740Z"
   },
   {
    "duration": 8,
    "start_time": "2023-02-26T07:28:42.850Z"
   },
   {
    "duration": 21,
    "start_time": "2023-02-26T07:28:42.859Z"
   },
   {
    "duration": 79,
    "start_time": "2023-02-26T07:28:42.882Z"
   },
   {
    "duration": 227,
    "start_time": "2023-02-26T07:28:42.963Z"
   },
   {
    "duration": 53,
    "start_time": "2023-02-26T07:28:43.192Z"
   },
   {
    "duration": 120,
    "start_time": "2023-02-26T07:28:43.247Z"
   },
   {
    "duration": 62,
    "start_time": "2023-02-26T07:28:43.368Z"
   },
   {
    "duration": 89,
    "start_time": "2023-02-26T07:28:56.203Z"
   },
   {
    "duration": 85,
    "start_time": "2023-02-26T07:31:05.146Z"
   },
   {
    "duration": 1121,
    "start_time": "2023-02-26T07:31:20.370Z"
   },
   {
    "duration": 3,
    "start_time": "2023-02-26T07:31:21.493Z"
   },
   {
    "duration": 142,
    "start_time": "2023-02-26T07:31:21.498Z"
   },
   {
    "duration": 11,
    "start_time": "2023-02-26T07:31:21.641Z"
   },
   {
    "duration": 129,
    "start_time": "2023-02-26T07:31:21.654Z"
   },
   {
    "duration": 3,
    "start_time": "2023-02-26T07:31:21.784Z"
   },
   {
    "duration": 17,
    "start_time": "2023-02-26T07:31:21.788Z"
   },
   {
    "duration": 58,
    "start_time": "2023-02-26T07:31:21.807Z"
   },
   {
    "duration": 86,
    "start_time": "2023-02-26T07:31:21.867Z"
   },
   {
    "duration": 85,
    "start_time": "2023-02-26T07:31:21.955Z"
   },
   {
    "duration": 18,
    "start_time": "2023-02-26T07:31:22.042Z"
   },
   {
    "duration": 55,
    "start_time": "2023-02-26T07:31:22.062Z"
   },
   {
    "duration": 45,
    "start_time": "2023-02-26T07:31:22.118Z"
   },
   {
    "duration": 7,
    "start_time": "2023-02-26T07:31:22.166Z"
   },
   {
    "duration": 1341,
    "start_time": "2023-02-26T07:31:22.175Z"
   },
   {
    "duration": 36,
    "start_time": "2023-02-26T07:31:23.518Z"
   },
   {
    "duration": 102,
    "start_time": "2023-02-26T07:31:23.556Z"
   },
   {
    "duration": 8,
    "start_time": "2023-02-26T07:31:23.659Z"
   },
   {
    "duration": 38,
    "start_time": "2023-02-26T07:31:23.668Z"
   },
   {
    "duration": 61,
    "start_time": "2023-02-26T07:31:23.707Z"
   },
   {
    "duration": 204,
    "start_time": "2023-02-26T07:31:23.770Z"
   },
   {
    "duration": 54,
    "start_time": "2023-02-26T07:31:23.976Z"
   },
   {
    "duration": 141,
    "start_time": "2023-02-26T07:31:24.032Z"
   },
   {
    "duration": 116,
    "start_time": "2023-02-26T07:31:24.175Z"
   },
   {
    "duration": 100,
    "start_time": "2023-02-26T07:33:48.008Z"
   },
   {
    "duration": 60,
    "start_time": "2023-02-26T08:07:14.815Z"
   },
   {
    "duration": 68,
    "start_time": "2023-02-26T08:11:22.960Z"
   },
   {
    "duration": 64,
    "start_time": "2023-02-26T08:13:07.027Z"
   },
   {
    "duration": 64,
    "start_time": "2023-02-26T08:13:31.656Z"
   },
   {
    "duration": 62,
    "start_time": "2023-02-26T08:17:16.079Z"
   },
   {
    "duration": 97,
    "start_time": "2023-02-26T08:22:18.412Z"
   },
   {
    "duration": 93,
    "start_time": "2023-02-26T08:32:27.383Z"
   },
   {
    "duration": 102,
    "start_time": "2023-02-26T08:40:30.812Z"
   },
   {
    "duration": 6,
    "start_time": "2023-02-26T08:49:03.958Z"
   },
   {
    "duration": 6,
    "start_time": "2023-02-26T08:49:25.485Z"
   },
   {
    "duration": 39,
    "start_time": "2023-02-26T08:50:12.007Z"
   },
   {
    "duration": 100,
    "start_time": "2023-02-26T08:51:53.218Z"
   },
   {
    "duration": 8,
    "start_time": "2023-02-26T08:56:30.102Z"
   },
   {
    "duration": 89,
    "start_time": "2023-02-26T09:02:26.230Z"
   },
   {
    "duration": 106,
    "start_time": "2023-02-26T09:04:15.021Z"
   },
   {
    "duration": 32,
    "start_time": "2023-02-26T09:04:31.147Z"
   },
   {
    "duration": 28,
    "start_time": "2023-02-26T09:05:21.039Z"
   },
   {
    "duration": 83,
    "start_time": "2023-02-26T09:06:28.038Z"
   },
   {
    "duration": 65,
    "start_time": "2023-02-26T09:06:38.633Z"
   },
   {
    "duration": 17,
    "start_time": "2023-02-26T09:07:11.161Z"
   },
   {
    "duration": 45,
    "start_time": "2023-02-26T09:08:46.625Z"
   },
   {
    "duration": 121,
    "start_time": "2023-02-26T09:08:59.431Z"
   },
   {
    "duration": 56,
    "start_time": "2023-02-26T09:10:03.152Z"
   },
   {
    "duration": 98,
    "start_time": "2023-02-26T09:10:23.022Z"
   },
   {
    "duration": 1152,
    "start_time": "2023-02-26T09:10:57.940Z"
   },
   {
    "duration": 4,
    "start_time": "2023-02-26T09:10:59.094Z"
   },
   {
    "duration": 176,
    "start_time": "2023-02-26T09:10:59.102Z"
   },
   {
    "duration": 12,
    "start_time": "2023-02-26T09:10:59.279Z"
   },
   {
    "duration": 134,
    "start_time": "2023-02-26T09:10:59.302Z"
   },
   {
    "duration": 3,
    "start_time": "2023-02-26T09:10:59.438Z"
   },
   {
    "duration": 10,
    "start_time": "2023-02-26T09:10:59.442Z"
   },
   {
    "duration": 72,
    "start_time": "2023-02-26T09:10:59.454Z"
   },
   {
    "duration": 86,
    "start_time": "2023-02-26T09:10:59.528Z"
   },
   {
    "duration": 67,
    "start_time": "2023-02-26T09:10:59.616Z"
   },
   {
    "duration": 29,
    "start_time": "2023-02-26T09:10:59.685Z"
   },
   {
    "duration": 41,
    "start_time": "2023-02-26T09:10:59.716Z"
   },
   {
    "duration": 60,
    "start_time": "2023-02-26T09:10:59.759Z"
   },
   {
    "duration": 8,
    "start_time": "2023-02-26T09:10:59.821Z"
   },
   {
    "duration": 1329,
    "start_time": "2023-02-26T09:10:59.830Z"
   },
   {
    "duration": 50,
    "start_time": "2023-02-26T09:11:01.161Z"
   },
   {
    "duration": 107,
    "start_time": "2023-02-26T09:11:01.213Z"
   },
   {
    "duration": 7,
    "start_time": "2023-02-26T09:11:01.322Z"
   },
   {
    "duration": 26,
    "start_time": "2023-02-26T09:11:01.331Z"
   },
   {
    "duration": 78,
    "start_time": "2023-02-26T09:11:01.359Z"
   },
   {
    "duration": 211,
    "start_time": "2023-02-26T09:11:01.438Z"
   },
   {
    "duration": 54,
    "start_time": "2023-02-26T09:11:01.650Z"
   },
   {
    "duration": 86,
    "start_time": "2023-02-26T09:11:01.706Z"
   },
   {
    "duration": 56,
    "start_time": "2023-02-26T09:11:01.794Z"
   },
   {
    "duration": 7,
    "start_time": "2023-02-26T09:19:15.162Z"
   },
   {
    "duration": 96,
    "start_time": "2023-02-26T09:19:40.224Z"
   },
   {
    "duration": 10,
    "start_time": "2023-02-26T09:20:22.311Z"
   },
   {
    "duration": 8,
    "start_time": "2023-02-26T09:24:24.661Z"
   },
   {
    "duration": 8,
    "start_time": "2023-02-26T09:24:28.797Z"
   },
   {
    "duration": 9,
    "start_time": "2023-02-26T09:24:37.660Z"
   },
   {
    "duration": 27,
    "start_time": "2023-02-26T09:24:53.381Z"
   },
   {
    "duration": 6,
    "start_time": "2023-02-26T09:25:20.917Z"
   },
   {
    "duration": 51,
    "start_time": "2023-02-26T09:25:24.212Z"
   },
   {
    "duration": 739,
    "start_time": "2023-02-26T10:06:45.227Z"
   },
   {
    "duration": 1127,
    "start_time": "2023-02-26T10:07:27.689Z"
   },
   {
    "duration": 4,
    "start_time": "2023-02-26T10:07:28.818Z"
   },
   {
    "duration": 152,
    "start_time": "2023-02-26T10:07:28.825Z"
   },
   {
    "duration": 11,
    "start_time": "2023-02-26T10:07:28.979Z"
   },
   {
    "duration": 136,
    "start_time": "2023-02-26T10:07:28.992Z"
   },
   {
    "duration": 2,
    "start_time": "2023-02-26T10:07:29.130Z"
   },
   {
    "duration": 18,
    "start_time": "2023-02-26T10:07:29.133Z"
   },
   {
    "duration": 79,
    "start_time": "2023-02-26T10:07:29.153Z"
   },
   {
    "duration": 76,
    "start_time": "2023-02-26T10:07:29.234Z"
   },
   {
    "duration": 71,
    "start_time": "2023-02-26T10:07:29.313Z"
   },
   {
    "duration": 30,
    "start_time": "2023-02-26T10:07:29.385Z"
   },
   {
    "duration": 41,
    "start_time": "2023-02-26T10:07:29.416Z"
   },
   {
    "duration": 73,
    "start_time": "2023-02-26T10:07:29.459Z"
   },
   {
    "duration": 8,
    "start_time": "2023-02-26T10:07:29.534Z"
   },
   {
    "duration": 1374,
    "start_time": "2023-02-26T10:07:29.543Z"
   },
   {
    "duration": 39,
    "start_time": "2023-02-26T10:07:30.918Z"
   },
   {
    "duration": 107,
    "start_time": "2023-02-26T10:07:30.959Z"
   },
   {
    "duration": 8,
    "start_time": "2023-02-26T10:07:31.067Z"
   },
   {
    "duration": 37,
    "start_time": "2023-02-26T10:07:31.076Z"
   },
   {
    "duration": 78,
    "start_time": "2023-02-26T10:07:31.114Z"
   },
   {
    "duration": 228,
    "start_time": "2023-02-26T10:07:31.193Z"
   },
   {
    "duration": 45,
    "start_time": "2023-02-26T10:07:31.422Z"
   },
   {
    "duration": 59,
    "start_time": "2023-02-26T10:07:31.469Z"
   },
   {
    "duration": 981,
    "start_time": "2023-02-26T10:07:31.530Z"
   },
   {
    "duration": 84,
    "start_time": "2023-02-26T10:09:07.833Z"
   },
   {
    "duration": 98,
    "start_time": "2023-02-26T10:11:41.023Z"
   },
   {
    "duration": 96,
    "start_time": "2023-02-26T10:12:10.823Z"
   },
   {
    "duration": 91,
    "start_time": "2023-02-26T10:12:41.869Z"
   },
   {
    "duration": 8,
    "start_time": "2023-02-26T10:15:33.770Z"
   },
   {
    "duration": 207,
    "start_time": "2023-02-26T10:16:33.546Z"
   },
   {
    "duration": 210,
    "start_time": "2023-02-26T10:16:50.882Z"
   },
   {
    "duration": 226,
    "start_time": "2023-02-26T10:25:59.064Z"
   },
   {
    "duration": 74,
    "start_time": "2023-02-26T10:32:01.703Z"
   },
   {
    "duration": 85,
    "start_time": "2023-02-26T10:32:17.600Z"
   },
   {
    "duration": 6,
    "start_time": "2023-02-26T10:34:22.648Z"
   },
   {
    "duration": 72,
    "start_time": "2023-02-26T10:34:29.254Z"
   },
   {
    "duration": 72,
    "start_time": "2023-02-26T10:35:19.391Z"
   },
   {
    "duration": 80,
    "start_time": "2023-02-26T10:35:43.851Z"
   },
   {
    "duration": 94,
    "start_time": "2023-02-26T10:39:27.282Z"
   },
   {
    "duration": 7,
    "start_time": "2023-02-26T10:44:02.192Z"
   },
   {
    "duration": 7,
    "start_time": "2023-02-26T10:44:17.250Z"
   },
   {
    "duration": 10,
    "start_time": "2023-02-26T10:44:34.455Z"
   },
   {
    "duration": 6,
    "start_time": "2023-02-26T10:44:49.414Z"
   },
   {
    "duration": 83,
    "start_time": "2023-02-26T10:44:53.409Z"
   },
   {
    "duration": 74,
    "start_time": "2023-02-26T10:44:55.374Z"
   },
   {
    "duration": 89,
    "start_time": "2023-02-26T10:45:00.565Z"
   },
   {
    "duration": 6,
    "start_time": "2023-02-26T10:47:14.653Z"
   },
   {
    "duration": 114,
    "start_time": "2023-02-26T10:48:20.789Z"
   },
   {
    "duration": 1095,
    "start_time": "2023-02-26T10:49:35.726Z"
   },
   {
    "duration": 4,
    "start_time": "2023-02-26T10:49:36.823Z"
   },
   {
    "duration": 162,
    "start_time": "2023-02-26T10:49:36.831Z"
   },
   {
    "duration": 16,
    "start_time": "2023-02-26T10:49:36.995Z"
   },
   {
    "duration": 146,
    "start_time": "2023-02-26T10:49:37.013Z"
   },
   {
    "duration": 3,
    "start_time": "2023-02-26T10:49:37.161Z"
   },
   {
    "duration": 10,
    "start_time": "2023-02-26T10:49:37.166Z"
   },
   {
    "duration": 84,
    "start_time": "2023-02-26T10:49:37.178Z"
   },
   {
    "duration": 91,
    "start_time": "2023-02-26T10:49:37.266Z"
   },
   {
    "duration": 85,
    "start_time": "2023-02-26T10:49:37.359Z"
   },
   {
    "duration": 17,
    "start_time": "2023-02-26T10:49:37.446Z"
   },
   {
    "duration": 58,
    "start_time": "2023-02-26T10:49:37.465Z"
   },
   {
    "duration": 44,
    "start_time": "2023-02-26T10:49:37.524Z"
   },
   {
    "duration": 8,
    "start_time": "2023-02-26T10:49:37.570Z"
   },
   {
    "duration": 1329,
    "start_time": "2023-02-26T10:49:37.580Z"
   },
   {
    "duration": 36,
    "start_time": "2023-02-26T10:49:38.911Z"
   },
   {
    "duration": 110,
    "start_time": "2023-02-26T10:49:38.949Z"
   },
   {
    "duration": 7,
    "start_time": "2023-02-26T10:49:39.061Z"
   },
   {
    "duration": 36,
    "start_time": "2023-02-26T10:49:39.070Z"
   },
   {
    "duration": 67,
    "start_time": "2023-02-26T10:49:39.108Z"
   },
   {
    "duration": 219,
    "start_time": "2023-02-26T10:49:39.177Z"
   },
   {
    "duration": 46,
    "start_time": "2023-02-26T10:49:39.398Z"
   },
   {
    "duration": 59,
    "start_time": "2023-02-26T10:49:39.445Z"
   },
   {
    "duration": 78,
    "start_time": "2023-02-26T10:49:39.506Z"
   },
   {
    "duration": 21,
    "start_time": "2023-02-26T10:49:39.586Z"
   },
   {
    "duration": 82,
    "start_time": "2023-02-26T10:49:39.609Z"
   },
   {
    "duration": 71,
    "start_time": "2023-02-26T10:49:39.694Z"
   },
   {
    "duration": 81,
    "start_time": "2023-02-26T10:49:39.767Z"
   },
   {
    "duration": 84,
    "start_time": "2023-02-26T10:49:39.850Z"
   },
   {
    "duration": 113,
    "start_time": "2023-02-26T10:49:39.935Z"
   },
   {
    "duration": 1124,
    "start_time": "2023-02-26T11:13:46.002Z"
   },
   {
    "duration": 4,
    "start_time": "2023-02-26T11:13:47.128Z"
   },
   {
    "duration": 177,
    "start_time": "2023-02-26T11:13:47.133Z"
   },
   {
    "duration": 12,
    "start_time": "2023-02-26T11:13:47.312Z"
   },
   {
    "duration": 146,
    "start_time": "2023-02-26T11:13:47.325Z"
   },
   {
    "duration": 3,
    "start_time": "2023-02-26T11:13:47.473Z"
   },
   {
    "duration": 10,
    "start_time": "2023-02-26T11:13:47.478Z"
   },
   {
    "duration": 76,
    "start_time": "2023-02-26T11:13:47.490Z"
   },
   {
    "duration": 85,
    "start_time": "2023-02-26T11:13:47.568Z"
   },
   {
    "duration": 79,
    "start_time": "2023-02-26T11:13:47.656Z"
   },
   {
    "duration": 19,
    "start_time": "2023-02-26T11:13:47.737Z"
   },
   {
    "duration": 57,
    "start_time": "2023-02-26T11:13:47.757Z"
   },
   {
    "duration": 48,
    "start_time": "2023-02-26T11:13:47.815Z"
   },
   {
    "duration": 7,
    "start_time": "2023-02-26T11:13:47.865Z"
   },
   {
    "duration": 1358,
    "start_time": "2023-02-26T11:13:47.874Z"
   },
   {
    "duration": 38,
    "start_time": "2023-02-26T11:13:49.234Z"
   },
   {
    "duration": 107,
    "start_time": "2023-02-26T11:13:49.274Z"
   },
   {
    "duration": 21,
    "start_time": "2023-02-26T11:13:49.383Z"
   },
   {
    "duration": 21,
    "start_time": "2023-02-26T11:13:49.405Z"
   },
   {
    "duration": 77,
    "start_time": "2023-02-26T11:13:49.427Z"
   },
   {
    "duration": 214,
    "start_time": "2023-02-26T11:13:49.506Z"
   },
   {
    "duration": 44,
    "start_time": "2023-02-26T11:13:49.721Z"
   },
   {
    "duration": 63,
    "start_time": "2023-02-26T11:13:49.767Z"
   },
   {
    "duration": 83,
    "start_time": "2023-02-26T11:13:49.832Z"
   },
   {
    "duration": 8,
    "start_time": "2023-02-26T11:13:49.916Z"
   },
   {
    "duration": 90,
    "start_time": "2023-02-26T11:13:49.925Z"
   },
   {
    "duration": 70,
    "start_time": "2023-02-26T11:13:50.017Z"
   },
   {
    "duration": 88,
    "start_time": "2023-02-26T11:13:50.090Z"
   },
   {
    "duration": 84,
    "start_time": "2023-02-26T11:13:50.180Z"
   },
   {
    "duration": 112,
    "start_time": "2023-02-26T11:13:50.266Z"
   },
   {
    "duration": 1189,
    "start_time": "2023-02-26T11:21:38.729Z"
   },
   {
    "duration": 4,
    "start_time": "2023-02-26T11:21:39.921Z"
   },
   {
    "duration": 188,
    "start_time": "2023-02-26T11:21:39.928Z"
   },
   {
    "duration": 13,
    "start_time": "2023-02-26T11:21:40.118Z"
   },
   {
    "duration": 145,
    "start_time": "2023-02-26T11:21:40.133Z"
   },
   {
    "duration": 3,
    "start_time": "2023-02-26T11:21:40.280Z"
   },
   {
    "duration": 21,
    "start_time": "2023-02-26T11:21:40.285Z"
   },
   {
    "duration": 63,
    "start_time": "2023-02-26T11:21:40.308Z"
   },
   {
    "duration": 86,
    "start_time": "2023-02-26T11:21:40.373Z"
   },
   {
    "duration": 85,
    "start_time": "2023-02-26T11:21:40.461Z"
   },
   {
    "duration": 17,
    "start_time": "2023-02-26T11:21:40.548Z"
   },
   {
    "duration": 58,
    "start_time": "2023-02-26T11:21:40.567Z"
   },
   {
    "duration": 49,
    "start_time": "2023-02-26T11:21:40.627Z"
   },
   {
    "duration": 28,
    "start_time": "2023-02-26T11:21:40.678Z"
   },
   {
    "duration": 1357,
    "start_time": "2023-02-26T11:21:40.709Z"
   },
   {
    "duration": 51,
    "start_time": "2023-02-26T11:21:42.069Z"
   },
   {
    "duration": 97,
    "start_time": "2023-02-26T11:21:42.122Z"
   },
   {
    "duration": 7,
    "start_time": "2023-02-26T11:21:42.221Z"
   },
   {
    "duration": 21,
    "start_time": "2023-02-26T11:21:42.229Z"
   },
   {
    "duration": 81,
    "start_time": "2023-02-26T11:21:42.252Z"
   },
   {
    "duration": 232,
    "start_time": "2023-02-26T11:21:42.335Z"
   },
   {
    "duration": 57,
    "start_time": "2023-02-26T11:21:42.569Z"
   },
   {
    "duration": 51,
    "start_time": "2023-02-26T11:21:42.628Z"
   },
   {
    "duration": 91,
    "start_time": "2023-02-26T11:21:42.680Z"
   },
   {
    "duration": 7,
    "start_time": "2023-02-26T11:21:42.773Z"
   },
   {
    "duration": 92,
    "start_time": "2023-02-26T11:21:42.781Z"
   },
   {
    "duration": 84,
    "start_time": "2023-02-26T11:21:42.875Z"
   },
   {
    "duration": 90,
    "start_time": "2023-02-26T11:21:42.963Z"
   },
   {
    "duration": 77,
    "start_time": "2023-02-26T11:21:43.055Z"
   },
   {
    "duration": 114,
    "start_time": "2023-02-26T11:21:43.134Z"
   },
   {
    "duration": 1100,
    "start_time": "2023-02-26T11:23:36.237Z"
   },
   {
    "duration": 4,
    "start_time": "2023-02-26T11:23:37.339Z"
   },
   {
    "duration": 159,
    "start_time": "2023-02-26T11:23:37.344Z"
   },
   {
    "duration": 12,
    "start_time": "2023-02-26T11:23:37.505Z"
   },
   {
    "duration": 144,
    "start_time": "2023-02-26T11:23:37.519Z"
   },
   {
    "duration": 2,
    "start_time": "2023-02-26T11:23:37.665Z"
   },
   {
    "duration": 11,
    "start_time": "2023-02-26T11:23:37.669Z"
   },
   {
    "duration": 75,
    "start_time": "2023-02-26T11:23:37.682Z"
   },
   {
    "duration": 90,
    "start_time": "2023-02-26T11:23:37.759Z"
   },
   {
    "duration": 80,
    "start_time": "2023-02-26T11:23:37.852Z"
   },
   {
    "duration": 18,
    "start_time": "2023-02-26T11:23:37.934Z"
   },
   {
    "duration": 55,
    "start_time": "2023-02-26T11:23:37.954Z"
   },
   {
    "duration": 43,
    "start_time": "2023-02-26T11:23:38.011Z"
   },
   {
    "duration": 8,
    "start_time": "2023-02-26T11:23:38.056Z"
   },
   {
    "duration": 1325,
    "start_time": "2023-02-26T11:23:38.066Z"
   },
   {
    "duration": 44,
    "start_time": "2023-02-26T11:23:39.393Z"
   },
   {
    "duration": 104,
    "start_time": "2023-02-26T11:23:39.439Z"
   },
   {
    "duration": 7,
    "start_time": "2023-02-26T11:23:39.545Z"
   },
   {
    "duration": 19,
    "start_time": "2023-02-26T11:23:39.554Z"
   },
   {
    "duration": 77,
    "start_time": "2023-02-26T11:23:39.575Z"
   },
   {
    "duration": 205,
    "start_time": "2023-02-26T11:23:39.654Z"
   },
   {
    "duration": 54,
    "start_time": "2023-02-26T11:23:39.861Z"
   },
   {
    "duration": 47,
    "start_time": "2023-02-26T11:23:39.917Z"
   },
   {
    "duration": 90,
    "start_time": "2023-02-26T11:23:39.966Z"
   },
   {
    "duration": 6,
    "start_time": "2023-02-26T11:23:40.058Z"
   },
   {
    "duration": 92,
    "start_time": "2023-02-26T11:23:40.066Z"
   },
   {
    "duration": 76,
    "start_time": "2023-02-26T11:23:40.160Z"
   },
   {
    "duration": 81,
    "start_time": "2023-02-26T11:23:40.239Z"
   },
   {
    "duration": 82,
    "start_time": "2023-02-26T11:23:40.321Z"
   },
   {
    "duration": 114,
    "start_time": "2023-02-26T11:23:40.405Z"
   },
   {
    "duration": 1135,
    "start_time": "2023-02-26T11:24:55.289Z"
   },
   {
    "duration": 3,
    "start_time": "2023-02-26T11:24:56.426Z"
   },
   {
    "duration": 159,
    "start_time": "2023-02-26T11:24:56.431Z"
   },
   {
    "duration": 16,
    "start_time": "2023-02-26T11:24:56.592Z"
   },
   {
    "duration": 147,
    "start_time": "2023-02-26T11:24:56.610Z"
   },
   {
    "duration": 3,
    "start_time": "2023-02-26T11:24:56.759Z"
   },
   {
    "duration": 12,
    "start_time": "2023-02-26T11:24:56.764Z"
   },
   {
    "duration": 76,
    "start_time": "2023-02-26T11:24:56.778Z"
   },
   {
    "duration": 89,
    "start_time": "2023-02-26T11:24:56.856Z"
   },
   {
    "duration": 85,
    "start_time": "2023-02-26T11:24:56.949Z"
   },
   {
    "duration": 20,
    "start_time": "2023-02-26T11:24:57.036Z"
   },
   {
    "duration": 58,
    "start_time": "2023-02-26T11:24:57.058Z"
   },
   {
    "duration": 46,
    "start_time": "2023-02-26T11:24:57.119Z"
   },
   {
    "duration": 9,
    "start_time": "2023-02-26T11:24:57.167Z"
   },
   {
    "duration": 1371,
    "start_time": "2023-02-26T11:24:57.178Z"
   },
   {
    "duration": 40,
    "start_time": "2023-02-26T11:24:58.551Z"
   },
   {
    "duration": 110,
    "start_time": "2023-02-26T11:24:58.604Z"
   },
   {
    "duration": 7,
    "start_time": "2023-02-26T11:24:58.716Z"
   },
   {
    "duration": 21,
    "start_time": "2023-02-26T11:24:58.725Z"
   },
   {
    "duration": 80,
    "start_time": "2023-02-26T11:24:58.747Z"
   },
   {
    "duration": 213,
    "start_time": "2023-02-26T11:24:58.828Z"
   },
   {
    "duration": 43,
    "start_time": "2023-02-26T11:24:59.043Z"
   },
   {
    "duration": 69,
    "start_time": "2023-02-26T11:24:59.087Z"
   },
   {
    "duration": 95,
    "start_time": "2023-02-26T11:24:59.158Z"
   },
   {
    "duration": 6,
    "start_time": "2023-02-26T11:24:59.255Z"
   },
   {
    "duration": 83,
    "start_time": "2023-02-26T11:24:59.263Z"
   },
   {
    "duration": 80,
    "start_time": "2023-02-26T11:24:59.348Z"
   },
   {
    "duration": 88,
    "start_time": "2023-02-26T11:24:59.432Z"
   },
   {
    "duration": 90,
    "start_time": "2023-02-26T11:24:59.522Z"
   },
   {
    "duration": 115,
    "start_time": "2023-02-26T11:24:59.614Z"
   },
   {
    "duration": 1475,
    "start_time": "2023-02-27T07:48:07.110Z"
   },
   {
    "duration": 5,
    "start_time": "2023-02-27T07:48:08.587Z"
   },
   {
    "duration": 806,
    "start_time": "2023-02-27T07:48:08.594Z"
   },
   {
    "duration": 13,
    "start_time": "2023-02-27T07:48:09.402Z"
   },
   {
    "duration": 142,
    "start_time": "2023-02-27T07:48:09.416Z"
   },
   {
    "duration": 3,
    "start_time": "2023-02-27T07:48:09.560Z"
   },
   {
    "duration": 12,
    "start_time": "2023-02-27T07:48:09.565Z"
   },
   {
    "duration": 73,
    "start_time": "2023-02-27T07:48:09.579Z"
   },
   {
    "duration": 87,
    "start_time": "2023-02-27T07:48:09.655Z"
   },
   {
    "duration": 79,
    "start_time": "2023-02-27T07:48:09.745Z"
   },
   {
    "duration": 31,
    "start_time": "2023-02-27T07:48:09.826Z"
   },
   {
    "duration": 49,
    "start_time": "2023-02-27T07:48:09.858Z"
   },
   {
    "duration": 89,
    "start_time": "2023-02-27T07:48:09.909Z"
   },
   {
    "duration": 8,
    "start_time": "2023-02-27T07:48:09.999Z"
   },
   {
    "duration": 1392,
    "start_time": "2023-02-27T07:48:10.008Z"
   },
   {
    "duration": 47,
    "start_time": "2023-02-27T07:48:11.402Z"
   },
   {
    "duration": 105,
    "start_time": "2023-02-27T07:48:11.450Z"
   },
   {
    "duration": 9,
    "start_time": "2023-02-27T07:48:11.556Z"
   },
   {
    "duration": 24,
    "start_time": "2023-02-27T07:48:11.567Z"
   },
   {
    "duration": 92,
    "start_time": "2023-02-27T07:48:11.593Z"
   },
   {
    "duration": 218,
    "start_time": "2023-02-27T07:48:11.686Z"
   },
   {
    "duration": 63,
    "start_time": "2023-02-27T07:48:11.906Z"
   },
   {
    "duration": 53,
    "start_time": "2023-02-27T07:48:11.971Z"
   },
   {
    "duration": 93,
    "start_time": "2023-02-27T07:48:12.025Z"
   },
   {
    "duration": 6,
    "start_time": "2023-02-27T07:48:12.120Z"
   },
   {
    "duration": 105,
    "start_time": "2023-02-27T07:48:12.140Z"
   },
   {
    "duration": 75,
    "start_time": "2023-02-27T07:48:12.247Z"
   },
   {
    "duration": 85,
    "start_time": "2023-02-27T07:48:12.339Z"
   },
   {
    "duration": 132,
    "start_time": "2023-02-27T07:48:12.426Z"
   },
   {
    "duration": 122,
    "start_time": "2023-02-27T07:48:12.561Z"
   },
   {
    "duration": 1412,
    "start_time": "2023-02-28T00:28:43.957Z"
   },
   {
    "duration": 4,
    "start_time": "2023-02-28T00:28:45.371Z"
   },
   {
    "duration": 545,
    "start_time": "2023-02-28T00:28:45.377Z"
   },
   {
    "duration": 12,
    "start_time": "2023-02-28T00:28:45.924Z"
   },
   {
    "duration": 143,
    "start_time": "2023-02-28T00:28:45.938Z"
   },
   {
    "duration": 2,
    "start_time": "2023-02-28T00:28:46.083Z"
   },
   {
    "duration": 11,
    "start_time": "2023-02-28T00:28:46.086Z"
   },
   {
    "duration": 84,
    "start_time": "2023-02-28T00:28:46.099Z"
   },
   {
    "duration": 90,
    "start_time": "2023-02-28T00:28:46.185Z"
   },
   {
    "duration": 93,
    "start_time": "2023-02-28T00:28:46.277Z"
   },
   {
    "duration": 20,
    "start_time": "2023-02-28T00:28:46.372Z"
   },
   {
    "duration": 67,
    "start_time": "2023-02-28T00:28:46.393Z"
   },
   {
    "duration": 53,
    "start_time": "2023-02-28T00:28:46.462Z"
   },
   {
    "duration": 7,
    "start_time": "2023-02-28T00:28:46.519Z"
   },
   {
    "duration": 1711,
    "start_time": "2023-02-28T00:28:46.528Z"
   },
   {
    "duration": 57,
    "start_time": "2023-02-28T00:28:48.241Z"
   },
   {
    "duration": 201,
    "start_time": "2023-02-28T00:28:48.301Z"
   },
   {
    "duration": 9,
    "start_time": "2023-02-28T00:28:48.504Z"
   },
   {
    "duration": 36,
    "start_time": "2023-02-28T00:28:48.514Z"
   },
   {
    "duration": 73,
    "start_time": "2023-02-28T00:28:48.552Z"
   },
   {
    "duration": 214,
    "start_time": "2023-02-28T00:28:48.627Z"
   },
   {
    "duration": 51,
    "start_time": "2023-02-28T00:28:48.843Z"
   },
   {
    "duration": 70,
    "start_time": "2023-02-28T00:28:48.896Z"
   },
   {
    "duration": 93,
    "start_time": "2023-02-28T00:28:48.968Z"
   },
   {
    "duration": 7,
    "start_time": "2023-02-28T00:28:49.062Z"
   },
   {
    "duration": 96,
    "start_time": "2023-02-28T00:28:49.070Z"
   },
   {
    "duration": 87,
    "start_time": "2023-02-28T00:28:49.168Z"
   },
   {
    "duration": 78,
    "start_time": "2023-02-28T00:28:49.256Z"
   },
   {
    "duration": 84,
    "start_time": "2023-02-28T00:28:49.336Z"
   },
   {
    "duration": 138,
    "start_time": "2023-02-28T00:28:49.422Z"
   },
   {
    "duration": 1237,
    "start_time": "2023-02-28T00:29:36.728Z"
   },
   {
    "duration": 3,
    "start_time": "2023-02-28T00:29:37.967Z"
   },
   {
    "duration": 188,
    "start_time": "2023-02-28T00:29:37.972Z"
   },
   {
    "duration": 11,
    "start_time": "2023-02-28T00:29:38.163Z"
   },
   {
    "duration": 146,
    "start_time": "2023-02-28T00:29:38.176Z"
   },
   {
    "duration": 118,
    "start_time": "2023-02-28T00:29:38.324Z"
   },
   {
    "duration": 0,
    "start_time": "2023-02-28T00:29:38.445Z"
   },
   {
    "duration": 0,
    "start_time": "2023-02-28T00:29:38.445Z"
   },
   {
    "duration": 0,
    "start_time": "2023-02-28T00:29:38.446Z"
   },
   {
    "duration": 0,
    "start_time": "2023-02-28T00:29:38.451Z"
   },
   {
    "duration": 0,
    "start_time": "2023-02-28T00:29:38.452Z"
   },
   {
    "duration": 0,
    "start_time": "2023-02-28T00:29:38.453Z"
   },
   {
    "duration": 0,
    "start_time": "2023-02-28T00:29:38.454Z"
   },
   {
    "duration": 0,
    "start_time": "2023-02-28T00:29:38.455Z"
   },
   {
    "duration": 0,
    "start_time": "2023-02-28T00:29:38.455Z"
   },
   {
    "duration": 0,
    "start_time": "2023-02-28T00:29:38.456Z"
   },
   {
    "duration": 0,
    "start_time": "2023-02-28T00:29:38.457Z"
   },
   {
    "duration": 0,
    "start_time": "2023-02-28T00:29:38.457Z"
   },
   {
    "duration": 0,
    "start_time": "2023-02-28T00:29:38.458Z"
   },
   {
    "duration": 0,
    "start_time": "2023-02-28T00:29:38.459Z"
   },
   {
    "duration": 0,
    "start_time": "2023-02-28T00:29:38.460Z"
   },
   {
    "duration": 0,
    "start_time": "2023-02-28T00:29:38.461Z"
   },
   {
    "duration": 0,
    "start_time": "2023-02-28T00:29:38.462Z"
   },
   {
    "duration": 0,
    "start_time": "2023-02-28T00:29:38.463Z"
   },
   {
    "duration": 0,
    "start_time": "2023-02-28T00:29:38.464Z"
   },
   {
    "duration": 0,
    "start_time": "2023-02-28T00:29:38.466Z"
   },
   {
    "duration": 0,
    "start_time": "2023-02-28T00:29:38.468Z"
   },
   {
    "duration": 0,
    "start_time": "2023-02-28T00:29:38.469Z"
   },
   {
    "duration": 0,
    "start_time": "2023-02-28T00:29:38.470Z"
   },
   {
    "duration": 0,
    "start_time": "2023-02-28T00:29:38.471Z"
   },
   {
    "duration": 6,
    "start_time": "2023-02-28T00:30:25.968Z"
   },
   {
    "duration": 1178,
    "start_time": "2023-02-28T00:30:35.370Z"
   },
   {
    "duration": 4,
    "start_time": "2023-02-28T00:30:36.550Z"
   },
   {
    "duration": 168,
    "start_time": "2023-02-28T00:30:36.556Z"
   },
   {
    "duration": 11,
    "start_time": "2023-02-28T00:30:36.727Z"
   },
   {
    "duration": 149,
    "start_time": "2023-02-28T00:30:36.739Z"
   },
   {
    "duration": 7,
    "start_time": "2023-02-28T00:30:36.890Z"
   },
   {
    "duration": 9,
    "start_time": "2023-02-28T00:30:36.899Z"
   },
   {
    "duration": 81,
    "start_time": "2023-02-28T00:30:36.910Z"
   },
   {
    "duration": 76,
    "start_time": "2023-02-28T00:30:36.993Z"
   },
   {
    "duration": 80,
    "start_time": "2023-02-28T00:30:37.072Z"
   },
   {
    "duration": 16,
    "start_time": "2023-02-28T00:30:37.154Z"
   },
   {
    "duration": 46,
    "start_time": "2023-02-28T00:30:37.172Z"
   },
   {
    "duration": 49,
    "start_time": "2023-02-28T00:30:37.245Z"
   },
   {
    "duration": 7,
    "start_time": "2023-02-28T00:30:37.296Z"
   },
   {
    "duration": 1826,
    "start_time": "2023-02-28T00:30:37.305Z"
   },
   {
    "duration": 57,
    "start_time": "2023-02-28T00:30:39.132Z"
   },
   {
    "duration": 193,
    "start_time": "2023-02-28T00:30:39.191Z"
   },
   {
    "duration": 8,
    "start_time": "2023-02-28T00:30:39.386Z"
   },
   {
    "duration": 54,
    "start_time": "2023-02-28T00:30:39.396Z"
   },
   {
    "duration": 79,
    "start_time": "2023-02-28T00:30:39.453Z"
   },
   {
    "duration": 204,
    "start_time": "2023-02-28T00:30:39.533Z"
   },
   {
    "duration": 53,
    "start_time": "2023-02-28T00:30:39.738Z"
   },
   {
    "duration": 67,
    "start_time": "2023-02-28T00:30:39.793Z"
   },
   {
    "duration": 89,
    "start_time": "2023-02-28T00:30:39.861Z"
   },
   {
    "duration": 8,
    "start_time": "2023-02-28T00:30:39.952Z"
   },
   {
    "duration": 101,
    "start_time": "2023-02-28T00:30:39.962Z"
   },
   {
    "duration": 92,
    "start_time": "2023-02-28T00:30:40.065Z"
   },
   {
    "duration": 77,
    "start_time": "2023-02-28T00:30:40.160Z"
   },
   {
    "duration": 80,
    "start_time": "2023-02-28T00:30:40.239Z"
   },
   {
    "duration": 167,
    "start_time": "2023-02-28T00:30:40.320Z"
   },
   {
    "duration": 148,
    "start_time": "2023-02-28T00:46:06.812Z"
   },
   {
    "duration": 105,
    "start_time": "2023-02-28T00:46:50.061Z"
   },
   {
    "duration": 13,
    "start_time": "2023-02-28T00:51:16.795Z"
   },
   {
    "duration": 104,
    "start_time": "2023-02-28T00:54:42.992Z"
   },
   {
    "duration": 1233,
    "start_time": "2023-02-28T00:54:51.021Z"
   },
   {
    "duration": 5,
    "start_time": "2023-02-28T00:54:52.256Z"
   },
   {
    "duration": 201,
    "start_time": "2023-02-28T00:54:52.263Z"
   },
   {
    "duration": 14,
    "start_time": "2023-02-28T00:54:52.467Z"
   },
   {
    "duration": 156,
    "start_time": "2023-02-28T00:54:52.483Z"
   },
   {
    "duration": 15,
    "start_time": "2023-02-28T00:54:52.641Z"
   },
   {
    "duration": 20,
    "start_time": "2023-02-28T00:54:52.662Z"
   },
   {
    "duration": 69,
    "start_time": "2023-02-28T00:54:52.684Z"
   },
   {
    "duration": 70,
    "start_time": "2023-02-28T00:54:52.758Z"
   },
   {
    "duration": 83,
    "start_time": "2023-02-28T00:54:52.831Z"
   },
   {
    "duration": 30,
    "start_time": "2023-02-28T00:54:52.916Z"
   },
   {
    "duration": 53,
    "start_time": "2023-02-28T00:54:52.949Z"
   },
   {
    "duration": 68,
    "start_time": "2023-02-28T00:54:53.004Z"
   },
   {
    "duration": 8,
    "start_time": "2023-02-28T00:54:53.073Z"
   },
   {
    "duration": 1798,
    "start_time": "2023-02-28T00:54:53.083Z"
   },
   {
    "duration": 45,
    "start_time": "2023-02-28T00:54:54.883Z"
   },
   {
    "duration": 205,
    "start_time": "2023-02-28T00:54:54.930Z"
   },
   {
    "duration": 25,
    "start_time": "2023-02-28T00:54:55.137Z"
   },
   {
    "duration": 25,
    "start_time": "2023-02-28T00:54:55.164Z"
   },
   {
    "duration": 86,
    "start_time": "2023-02-28T00:54:55.191Z"
   },
   {
    "duration": 230,
    "start_time": "2023-02-28T00:54:55.279Z"
   },
   {
    "duration": 59,
    "start_time": "2023-02-28T00:54:55.511Z"
   },
   {
    "duration": 49,
    "start_time": "2023-02-28T00:54:55.572Z"
   },
   {
    "duration": 98,
    "start_time": "2023-02-28T00:54:55.624Z"
   },
   {
    "duration": 6,
    "start_time": "2023-02-28T00:54:55.724Z"
   },
   {
    "duration": 92,
    "start_time": "2023-02-28T00:54:55.745Z"
   },
   {
    "duration": 89,
    "start_time": "2023-02-28T00:54:55.839Z"
   },
   {
    "duration": 93,
    "start_time": "2023-02-28T00:54:55.932Z"
   },
   {
    "duration": 98,
    "start_time": "2023-02-28T00:54:56.027Z"
   },
   {
    "duration": 145,
    "start_time": "2023-02-28T00:54:56.127Z"
   },
   {
    "duration": 176,
    "start_time": "2023-02-28T01:44:19.344Z"
   },
   {
    "duration": 61,
    "start_time": "2023-02-28T01:45:18.106Z"
   },
   {
    "duration": 62,
    "start_time": "2023-02-28T01:47:51.512Z"
   },
   {
    "duration": 70,
    "start_time": "2023-02-28T01:48:06.455Z"
   },
   {
    "duration": 78,
    "start_time": "2023-02-28T01:48:43.133Z"
   },
   {
    "duration": 372,
    "start_time": "2023-02-28T01:50:57.280Z"
   },
   {
    "duration": 66,
    "start_time": "2023-02-28T01:51:20.146Z"
   },
   {
    "duration": 63,
    "start_time": "2023-02-28T01:52:31.859Z"
   },
   {
    "duration": 8,
    "start_time": "2023-02-28T02:08:13.647Z"
   },
   {
    "duration": 8,
    "start_time": "2023-02-28T02:09:28.118Z"
   },
   {
    "duration": 9,
    "start_time": "2023-02-28T02:10:29.565Z"
   },
   {
    "duration": 6,
    "start_time": "2023-02-28T02:10:45.476Z"
   },
   {
    "duration": 6,
    "start_time": "2023-02-28T02:11:07.651Z"
   },
   {
    "duration": 6,
    "start_time": "2023-02-28T02:11:17.620Z"
   },
   {
    "duration": 1212,
    "start_time": "2023-02-28T02:11:33.241Z"
   },
   {
    "duration": 4,
    "start_time": "2023-02-28T02:11:34.455Z"
   },
   {
    "duration": 173,
    "start_time": "2023-02-28T02:11:34.460Z"
   },
   {
    "duration": 13,
    "start_time": "2023-02-28T02:11:34.635Z"
   },
   {
    "duration": 151,
    "start_time": "2023-02-28T02:11:34.649Z"
   },
   {
    "duration": 6,
    "start_time": "2023-02-28T02:11:34.801Z"
   },
   {
    "duration": 15,
    "start_time": "2023-02-28T02:11:34.809Z"
   },
   {
    "duration": 69,
    "start_time": "2023-02-28T02:11:34.826Z"
   },
   {
    "duration": 81,
    "start_time": "2023-02-28T02:11:34.897Z"
   },
   {
    "duration": 93,
    "start_time": "2023-02-28T02:11:34.981Z"
   },
   {
    "duration": 18,
    "start_time": "2023-02-28T02:11:35.076Z"
   },
   {
    "duration": 57,
    "start_time": "2023-02-28T02:11:35.095Z"
   },
   {
    "duration": 51,
    "start_time": "2023-02-28T02:11:35.154Z"
   },
   {
    "duration": 8,
    "start_time": "2023-02-28T02:11:35.206Z"
   },
   {
    "duration": 1666,
    "start_time": "2023-02-28T02:11:35.215Z"
   },
   {
    "duration": 42,
    "start_time": "2023-02-28T02:11:36.882Z"
   },
   {
    "duration": 188,
    "start_time": "2023-02-28T02:11:36.926Z"
   },
   {
    "duration": 12,
    "start_time": "2023-02-28T02:11:37.115Z"
   },
   {
    "duration": 24,
    "start_time": "2023-02-28T02:11:37.144Z"
   },
   {
    "duration": 77,
    "start_time": "2023-02-28T02:11:37.169Z"
   },
   {
    "duration": 219,
    "start_time": "2023-02-28T02:11:37.247Z"
   },
   {
    "duration": 16,
    "start_time": "2023-02-28T02:11:37.468Z"
   },
   {
    "duration": 60,
    "start_time": "2023-02-28T02:11:37.486Z"
   },
   {
    "duration": 50,
    "start_time": "2023-02-28T02:11:37.548Z"
   },
   {
    "duration": 90,
    "start_time": "2023-02-28T02:11:37.600Z"
   },
   {
    "duration": 6,
    "start_time": "2023-02-28T02:11:37.692Z"
   },
   {
    "duration": 93,
    "start_time": "2023-02-28T02:11:37.700Z"
   },
   {
    "duration": 90,
    "start_time": "2023-02-28T02:11:37.796Z"
   },
   {
    "duration": 88,
    "start_time": "2023-02-28T02:11:37.888Z"
   },
   {
    "duration": 85,
    "start_time": "2023-02-28T02:11:37.978Z"
   },
   {
    "duration": 122,
    "start_time": "2023-02-28T02:11:38.065Z"
   },
   {
    "duration": 49,
    "start_time": "2023-02-28T02:15:58.185Z"
   },
   {
    "duration": 1444,
    "start_time": "2023-02-28T02:17:58.072Z"
   },
   {
    "duration": 83,
    "start_time": "2023-02-28T02:21:02.814Z"
   },
   {
    "duration": 73,
    "start_time": "2023-02-28T02:22:49.619Z"
   },
   {
    "duration": 2367,
    "start_time": "2023-02-28T02:25:00.163Z"
   },
   {
    "duration": 81,
    "start_time": "2023-02-28T02:25:26.229Z"
   },
   {
    "duration": 82,
    "start_time": "2023-02-28T02:41:32.239Z"
   },
   {
    "duration": 71,
    "start_time": "2023-02-28T02:41:45.534Z"
   },
   {
    "duration": 85,
    "start_time": "2023-02-28T02:44:35.029Z"
   },
   {
    "duration": 1209,
    "start_time": "2023-02-28T02:44:41.517Z"
   },
   {
    "duration": 75,
    "start_time": "2023-02-28T02:44:57.468Z"
   },
   {
    "duration": 76,
    "start_time": "2023-02-28T02:45:03.212Z"
   },
   {
    "duration": 77,
    "start_time": "2023-02-28T02:45:08.659Z"
   },
   {
    "duration": 74,
    "start_time": "2023-02-28T02:45:32.444Z"
   },
   {
    "duration": 84,
    "start_time": "2023-02-28T02:45:41.723Z"
   },
   {
    "duration": 73,
    "start_time": "2023-02-28T02:45:49.904Z"
   },
   {
    "duration": 70,
    "start_time": "2023-02-28T02:46:31.771Z"
   },
   {
    "duration": 79,
    "start_time": "2023-02-28T02:46:35.740Z"
   },
   {
    "duration": 85,
    "start_time": "2023-02-28T02:46:53.372Z"
   },
   {
    "duration": 87,
    "start_time": "2023-02-28T02:47:22.218Z"
   },
   {
    "duration": 77,
    "start_time": "2023-02-28T02:47:36.657Z"
   },
   {
    "duration": 1154,
    "start_time": "2023-02-28T02:55:03.796Z"
   },
   {
    "duration": 3,
    "start_time": "2023-02-28T02:55:04.952Z"
   },
   {
    "duration": 176,
    "start_time": "2023-02-28T02:55:04.957Z"
   },
   {
    "duration": 13,
    "start_time": "2023-02-28T02:55:05.136Z"
   },
   {
    "duration": 148,
    "start_time": "2023-02-28T02:55:05.150Z"
   },
   {
    "duration": 6,
    "start_time": "2023-02-28T02:55:05.300Z"
   },
   {
    "duration": 9,
    "start_time": "2023-02-28T02:55:05.308Z"
   },
   {
    "duration": 75,
    "start_time": "2023-02-28T02:55:05.319Z"
   },
   {
    "duration": 85,
    "start_time": "2023-02-28T02:55:05.396Z"
   },
   {
    "duration": 76,
    "start_time": "2023-02-28T02:55:05.485Z"
   },
   {
    "duration": 18,
    "start_time": "2023-02-28T02:55:05.563Z"
   },
   {
    "duration": 65,
    "start_time": "2023-02-28T02:55:05.582Z"
   },
   {
    "duration": 50,
    "start_time": "2023-02-28T02:55:05.649Z"
   },
   {
    "duration": 8,
    "start_time": "2023-02-28T02:55:05.700Z"
   },
   {
    "duration": 1629,
    "start_time": "2023-02-28T02:55:05.710Z"
   },
   {
    "duration": 45,
    "start_time": "2023-02-28T02:55:07.341Z"
   },
   {
    "duration": 202,
    "start_time": "2023-02-28T02:55:07.388Z"
   },
   {
    "duration": 11,
    "start_time": "2023-02-28T02:55:07.591Z"
   },
   {
    "duration": 23,
    "start_time": "2023-02-28T02:55:07.604Z"
   },
   {
    "duration": 61,
    "start_time": "2023-02-28T02:55:07.645Z"
   },
   {
    "duration": 223,
    "start_time": "2023-02-28T02:55:07.707Z"
   },
   {
    "duration": 99,
    "start_time": "2023-02-28T02:55:07.932Z"
   },
   {
    "duration": 55,
    "start_time": "2023-02-28T02:55:08.033Z"
   },
   {
    "duration": 57,
    "start_time": "2023-02-28T02:55:08.090Z"
   },
   {
    "duration": 77,
    "start_time": "2023-02-28T02:55:08.149Z"
   },
   {
    "duration": 18,
    "start_time": "2023-02-28T02:55:08.227Z"
   },
   {
    "duration": 79,
    "start_time": "2023-02-28T02:55:08.247Z"
   },
   {
    "duration": 92,
    "start_time": "2023-02-28T02:55:08.330Z"
   },
   {
    "duration": 85,
    "start_time": "2023-02-28T02:55:08.424Z"
   },
   {
    "duration": 87,
    "start_time": "2023-02-28T02:55:08.511Z"
   },
   {
    "duration": 119,
    "start_time": "2023-02-28T02:55:08.599Z"
   },
   {
    "duration": 78,
    "start_time": "2023-02-28T02:57:37.935Z"
   },
   {
    "duration": 65,
    "start_time": "2023-02-28T02:57:47.177Z"
   },
   {
    "duration": 106,
    "start_time": "2023-02-28T03:03:52.356Z"
   },
   {
    "duration": 9,
    "start_time": "2023-02-28T03:04:39.303Z"
   },
   {
    "duration": 113,
    "start_time": "2023-02-28T03:04:55.702Z"
   },
   {
    "duration": 127,
    "start_time": "2023-02-28T03:06:22.026Z"
   },
   {
    "duration": 679,
    "start_time": "2023-02-28T03:13:28.933Z"
   },
   {
    "duration": 1201,
    "start_time": "2023-02-28T03:13:56.674Z"
   },
   {
    "duration": 4,
    "start_time": "2023-02-28T03:13:57.878Z"
   },
   {
    "duration": 183,
    "start_time": "2023-02-28T03:13:57.883Z"
   },
   {
    "duration": 12,
    "start_time": "2023-02-28T03:13:58.069Z"
   },
   {
    "duration": 150,
    "start_time": "2023-02-28T03:13:58.082Z"
   },
   {
    "duration": 11,
    "start_time": "2023-02-28T03:13:58.234Z"
   },
   {
    "duration": 15,
    "start_time": "2023-02-28T03:13:58.248Z"
   },
   {
    "duration": 80,
    "start_time": "2023-02-28T03:13:58.265Z"
   },
   {
    "duration": 67,
    "start_time": "2023-02-28T03:13:58.346Z"
   },
   {
    "duration": 89,
    "start_time": "2023-02-28T03:13:58.416Z"
   },
   {
    "duration": 18,
    "start_time": "2023-02-28T03:13:58.506Z"
   },
   {
    "duration": 55,
    "start_time": "2023-02-28T03:13:58.526Z"
   },
   {
    "duration": 64,
    "start_time": "2023-02-28T03:13:58.583Z"
   },
   {
    "duration": 8,
    "start_time": "2023-02-28T03:13:58.649Z"
   },
   {
    "duration": 1685,
    "start_time": "2023-02-28T03:13:58.659Z"
   },
   {
    "duration": 44,
    "start_time": "2023-02-28T03:14:00.346Z"
   },
   {
    "duration": 255,
    "start_time": "2023-02-28T03:14:00.392Z"
   },
   {
    "duration": 15,
    "start_time": "2023-02-28T03:14:00.649Z"
   },
   {
    "duration": 48,
    "start_time": "2023-02-28T03:14:00.666Z"
   },
   {
    "duration": 81,
    "start_time": "2023-02-28T03:14:00.716Z"
   },
   {
    "duration": 225,
    "start_time": "2023-02-28T03:14:00.799Z"
   },
   {
    "duration": 114,
    "start_time": "2023-02-28T03:14:01.026Z"
   },
   {
    "duration": 0,
    "start_time": "2023-02-28T03:14:01.144Z"
   },
   {
    "duration": 0,
    "start_time": "2023-02-28T03:14:01.146Z"
   },
   {
    "duration": 0,
    "start_time": "2023-02-28T03:14:01.148Z"
   },
   {
    "duration": 0,
    "start_time": "2023-02-28T03:14:01.150Z"
   },
   {
    "duration": 0,
    "start_time": "2023-02-28T03:14:01.152Z"
   },
   {
    "duration": 0,
    "start_time": "2023-02-28T03:14:01.153Z"
   },
   {
    "duration": 0,
    "start_time": "2023-02-28T03:14:01.155Z"
   },
   {
    "duration": 0,
    "start_time": "2023-02-28T03:14:01.156Z"
   },
   {
    "duration": 0,
    "start_time": "2023-02-28T03:14:01.158Z"
   },
   {
    "duration": 0,
    "start_time": "2023-02-28T03:14:01.160Z"
   },
   {
    "duration": 111,
    "start_time": "2023-02-28T03:17:20.498Z"
   },
   {
    "duration": 89,
    "start_time": "2023-02-28T03:17:32.324Z"
   },
   {
    "duration": 1188,
    "start_time": "2023-02-28T03:19:23.067Z"
   },
   {
    "duration": 5,
    "start_time": "2023-02-28T03:19:24.256Z"
   },
   {
    "duration": 176,
    "start_time": "2023-02-28T03:19:24.263Z"
   },
   {
    "duration": 13,
    "start_time": "2023-02-28T03:19:24.441Z"
   },
   {
    "duration": 151,
    "start_time": "2023-02-28T03:19:24.455Z"
   },
   {
    "duration": 6,
    "start_time": "2023-02-28T03:19:24.607Z"
   },
   {
    "duration": 13,
    "start_time": "2023-02-28T03:19:24.614Z"
   },
   {
    "duration": 71,
    "start_time": "2023-02-28T03:19:24.628Z"
   },
   {
    "duration": 83,
    "start_time": "2023-02-28T03:19:24.700Z"
   },
   {
    "duration": 82,
    "start_time": "2023-02-28T03:19:24.785Z"
   },
   {
    "duration": 17,
    "start_time": "2023-02-28T03:19:24.869Z"
   },
   {
    "duration": 66,
    "start_time": "2023-02-28T03:19:24.887Z"
   },
   {
    "duration": 57,
    "start_time": "2023-02-28T03:19:24.955Z"
   },
   {
    "duration": 36,
    "start_time": "2023-02-28T03:19:25.014Z"
   },
   {
    "duration": 1689,
    "start_time": "2023-02-28T03:19:25.052Z"
   },
   {
    "duration": 42,
    "start_time": "2023-02-28T03:19:26.745Z"
   },
   {
    "duration": 186,
    "start_time": "2023-02-28T03:19:26.789Z"
   },
   {
    "duration": 11,
    "start_time": "2023-02-28T03:19:26.977Z"
   },
   {
    "duration": 28,
    "start_time": "2023-02-28T03:19:26.990Z"
   },
   {
    "duration": 84,
    "start_time": "2023-02-28T03:19:27.020Z"
   },
   {
    "duration": 213,
    "start_time": "2023-02-28T03:19:27.106Z"
   },
   {
    "duration": 100,
    "start_time": "2023-02-28T03:19:27.321Z"
   },
   {
    "duration": 53,
    "start_time": "2023-02-28T03:19:27.422Z"
   },
   {
    "duration": 49,
    "start_time": "2023-02-28T03:19:27.477Z"
   },
   {
    "duration": 90,
    "start_time": "2023-02-28T03:19:27.528Z"
   },
   {
    "duration": 7,
    "start_time": "2023-02-28T03:19:27.620Z"
   },
   {
    "duration": 93,
    "start_time": "2023-02-28T03:19:27.629Z"
   },
   {
    "duration": 85,
    "start_time": "2023-02-28T03:19:27.725Z"
   },
   {
    "duration": 96,
    "start_time": "2023-02-28T03:19:27.812Z"
   },
   {
    "duration": 85,
    "start_time": "2023-02-28T03:19:27.910Z"
   },
   {
    "duration": 115,
    "start_time": "2023-02-28T03:19:27.997Z"
   },
   {
    "duration": 1209,
    "start_time": "2023-02-28T03:29:09.748Z"
   },
   {
    "duration": 5,
    "start_time": "2023-02-28T03:29:10.959Z"
   },
   {
    "duration": 170,
    "start_time": "2023-02-28T03:29:10.967Z"
   },
   {
    "duration": 12,
    "start_time": "2023-02-28T03:29:11.139Z"
   },
   {
    "duration": 144,
    "start_time": "2023-02-28T03:29:11.153Z"
   },
   {
    "duration": 6,
    "start_time": "2023-02-28T03:29:11.299Z"
   },
   {
    "duration": 9,
    "start_time": "2023-02-28T03:29:11.307Z"
   },
   {
    "duration": 78,
    "start_time": "2023-02-28T03:29:11.318Z"
   },
   {
    "duration": 80,
    "start_time": "2023-02-28T03:29:11.398Z"
   },
   {
    "duration": 88,
    "start_time": "2023-02-28T03:29:11.481Z"
   },
   {
    "duration": 17,
    "start_time": "2023-02-28T03:29:11.571Z"
   },
   {
    "duration": 62,
    "start_time": "2023-02-28T03:29:11.590Z"
   },
   {
    "duration": 50,
    "start_time": "2023-02-28T03:29:11.654Z"
   },
   {
    "duration": 9,
    "start_time": "2023-02-28T03:29:11.706Z"
   },
   {
    "duration": 1720,
    "start_time": "2023-02-28T03:29:11.717Z"
   },
   {
    "duration": 47,
    "start_time": "2023-02-28T03:29:13.439Z"
   },
   {
    "duration": 195,
    "start_time": "2023-02-28T03:29:13.487Z"
   },
   {
    "duration": 13,
    "start_time": "2023-02-28T03:29:13.684Z"
   },
   {
    "duration": 47,
    "start_time": "2023-02-28T03:29:13.699Z"
   },
   {
    "duration": 69,
    "start_time": "2023-02-28T03:29:13.748Z"
   },
   {
    "duration": 221,
    "start_time": "2023-02-28T03:29:13.819Z"
   },
   {
    "duration": 104,
    "start_time": "2023-02-28T03:29:14.042Z"
   },
   {
    "duration": 50,
    "start_time": "2023-02-28T03:29:14.148Z"
   },
   {
    "duration": 69,
    "start_time": "2023-02-28T03:29:14.200Z"
   },
   {
    "duration": 86,
    "start_time": "2023-02-28T03:29:14.271Z"
   },
   {
    "duration": 10,
    "start_time": "2023-02-28T03:29:14.360Z"
   },
   {
    "duration": 88,
    "start_time": "2023-02-28T03:29:14.371Z"
   },
   {
    "duration": 83,
    "start_time": "2023-02-28T03:29:14.462Z"
   },
   {
    "duration": 79,
    "start_time": "2023-02-28T03:29:14.547Z"
   },
   {
    "duration": 92,
    "start_time": "2023-02-28T03:29:14.628Z"
   },
   {
    "duration": 124,
    "start_time": "2023-02-28T03:29:14.722Z"
   },
   {
    "duration": 53,
    "start_time": "2023-02-28T22:25:03.270Z"
   },
   {
    "duration": 1327,
    "start_time": "2023-02-28T22:25:13.956Z"
   },
   {
    "duration": 17,
    "start_time": "2023-02-28T22:25:15.285Z"
   },
   {
    "duration": 541,
    "start_time": "2023-02-28T22:25:15.304Z"
   },
   {
    "duration": 13,
    "start_time": "2023-02-28T22:25:15.847Z"
   },
   {
    "duration": 155,
    "start_time": "2023-02-28T22:25:15.862Z"
   },
   {
    "duration": 6,
    "start_time": "2023-02-28T22:25:16.019Z"
   },
   {
    "duration": 21,
    "start_time": "2023-02-28T22:25:16.027Z"
   },
   {
    "duration": 62,
    "start_time": "2023-02-28T22:25:16.050Z"
   },
   {
    "duration": 85,
    "start_time": "2023-02-28T22:25:16.114Z"
   },
   {
    "duration": 89,
    "start_time": "2023-02-28T22:25:16.202Z"
   },
   {
    "duration": 24,
    "start_time": "2023-02-28T22:25:16.293Z"
   },
   {
    "duration": 59,
    "start_time": "2023-02-28T22:25:16.319Z"
   },
   {
    "duration": 65,
    "start_time": "2023-02-28T22:25:16.380Z"
   },
   {
    "duration": 6,
    "start_time": "2023-02-28T22:25:16.447Z"
   },
   {
    "duration": 1694,
    "start_time": "2023-02-28T22:25:16.455Z"
   },
   {
    "duration": 45,
    "start_time": "2023-02-28T22:25:18.152Z"
   },
   {
    "duration": 210,
    "start_time": "2023-02-28T22:25:18.198Z"
   },
   {
    "duration": 11,
    "start_time": "2023-02-28T22:25:18.410Z"
   },
   {
    "duration": 35,
    "start_time": "2023-02-28T22:25:18.423Z"
   },
   {
    "duration": 120,
    "start_time": "2023-02-28T22:25:18.461Z"
   },
   {
    "duration": 0,
    "start_time": "2023-02-28T22:25:18.582Z"
   },
   {
    "duration": 0,
    "start_time": "2023-02-28T22:25:18.583Z"
   },
   {
    "duration": 0,
    "start_time": "2023-02-28T22:25:18.585Z"
   },
   {
    "duration": 0,
    "start_time": "2023-02-28T22:25:18.586Z"
   },
   {
    "duration": 0,
    "start_time": "2023-02-28T22:25:18.587Z"
   },
   {
    "duration": 0,
    "start_time": "2023-02-28T22:25:18.589Z"
   },
   {
    "duration": 0,
    "start_time": "2023-02-28T22:25:18.590Z"
   },
   {
    "duration": 0,
    "start_time": "2023-02-28T22:25:18.591Z"
   },
   {
    "duration": 0,
    "start_time": "2023-02-28T22:25:18.593Z"
   },
   {
    "duration": 0,
    "start_time": "2023-02-28T22:25:18.594Z"
   },
   {
    "duration": 0,
    "start_time": "2023-02-28T22:25:18.595Z"
   },
   {
    "duration": 68,
    "start_time": "2023-02-28T22:26:45.001Z"
   },
   {
    "duration": 1513,
    "start_time": "2023-02-28T22:30:00.736Z"
   },
   {
    "duration": 1237,
    "start_time": "2023-02-28T22:30:20.128Z"
   },
   {
    "duration": 6,
    "start_time": "2023-02-28T22:30:21.367Z"
   },
   {
    "duration": 191,
    "start_time": "2023-02-28T22:30:21.374Z"
   },
   {
    "duration": 12,
    "start_time": "2023-02-28T22:30:21.567Z"
   },
   {
    "duration": 149,
    "start_time": "2023-02-28T22:30:21.581Z"
   },
   {
    "duration": 16,
    "start_time": "2023-02-28T22:30:21.731Z"
   },
   {
    "duration": 11,
    "start_time": "2023-02-28T22:30:21.748Z"
   },
   {
    "duration": 100,
    "start_time": "2023-02-28T22:30:21.761Z"
   },
   {
    "duration": 71,
    "start_time": "2023-02-28T22:30:21.863Z"
   },
   {
    "duration": 83,
    "start_time": "2023-02-28T22:30:21.937Z"
   },
   {
    "duration": 32,
    "start_time": "2023-02-28T22:30:22.022Z"
   },
   {
    "duration": 49,
    "start_time": "2023-02-28T22:30:22.055Z"
   },
   {
    "duration": 69,
    "start_time": "2023-02-28T22:30:22.105Z"
   },
   {
    "duration": 8,
    "start_time": "2023-02-28T22:30:22.176Z"
   },
   {
    "duration": 1710,
    "start_time": "2023-02-28T22:30:22.185Z"
   },
   {
    "duration": 49,
    "start_time": "2023-02-28T22:30:23.896Z"
   },
   {
    "duration": 222,
    "start_time": "2023-02-28T22:30:23.947Z"
   },
   {
    "duration": 12,
    "start_time": "2023-02-28T22:30:24.171Z"
   },
   {
    "duration": 28,
    "start_time": "2023-02-28T22:30:24.185Z"
   },
   {
    "duration": 1377,
    "start_time": "2023-02-28T22:30:24.215Z"
   },
   {
    "duration": 0,
    "start_time": "2023-02-28T22:30:25.594Z"
   },
   {
    "duration": 0,
    "start_time": "2023-02-28T22:30:25.595Z"
   },
   {
    "duration": 0,
    "start_time": "2023-02-28T22:30:25.596Z"
   },
   {
    "duration": 0,
    "start_time": "2023-02-28T22:30:25.597Z"
   },
   {
    "duration": 0,
    "start_time": "2023-02-28T22:30:25.598Z"
   },
   {
    "duration": 0,
    "start_time": "2023-02-28T22:30:25.599Z"
   },
   {
    "duration": 0,
    "start_time": "2023-02-28T22:30:25.600Z"
   },
   {
    "duration": 0,
    "start_time": "2023-02-28T22:30:25.601Z"
   },
   {
    "duration": 0,
    "start_time": "2023-02-28T22:30:25.602Z"
   },
   {
    "duration": 0,
    "start_time": "2023-02-28T22:30:25.603Z"
   },
   {
    "duration": 0,
    "start_time": "2023-02-28T22:30:25.604Z"
   },
   {
    "duration": 78,
    "start_time": "2023-02-28T22:32:28.592Z"
   },
   {
    "duration": 67,
    "start_time": "2023-02-28T22:33:06.835Z"
   },
   {
    "duration": 64,
    "start_time": "2023-02-28T22:34:48.538Z"
   },
   {
    "duration": 106,
    "start_time": "2023-02-28T22:35:17.785Z"
   },
   {
    "duration": 127,
    "start_time": "2023-02-28T22:35:30.362Z"
   },
   {
    "duration": 96,
    "start_time": "2023-02-28T22:35:52.921Z"
   },
   {
    "duration": 207,
    "start_time": "2023-02-28T22:43:45.233Z"
   },
   {
    "duration": 218,
    "start_time": "2023-02-28T22:43:57.722Z"
   },
   {
    "duration": 225,
    "start_time": "2023-02-28T22:44:05.042Z"
   },
   {
    "duration": 101,
    "start_time": "2023-02-28T22:49:28.608Z"
   },
   {
    "duration": 1185,
    "start_time": "2023-02-28T22:49:40.778Z"
   },
   {
    "duration": 5,
    "start_time": "2023-02-28T22:49:41.965Z"
   },
   {
    "duration": 185,
    "start_time": "2023-02-28T22:49:41.974Z"
   },
   {
    "duration": 13,
    "start_time": "2023-02-28T22:49:42.161Z"
   },
   {
    "duration": 156,
    "start_time": "2023-02-28T22:49:42.176Z"
   },
   {
    "duration": 13,
    "start_time": "2023-02-28T22:49:42.333Z"
   },
   {
    "duration": 19,
    "start_time": "2023-02-28T22:49:42.348Z"
   },
   {
    "duration": 82,
    "start_time": "2023-02-28T22:49:42.368Z"
   },
   {
    "duration": 74,
    "start_time": "2023-02-28T22:49:42.453Z"
   },
   {
    "duration": 103,
    "start_time": "2023-02-28T22:49:42.530Z"
   },
   {
    "duration": 18,
    "start_time": "2023-02-28T22:49:42.635Z"
   },
   {
    "duration": 46,
    "start_time": "2023-02-28T22:49:42.655Z"
   },
   {
    "duration": 63,
    "start_time": "2023-02-28T22:49:42.702Z"
   },
   {
    "duration": 9,
    "start_time": "2023-02-28T22:49:42.767Z"
   },
   {
    "duration": 1729,
    "start_time": "2023-02-28T22:49:42.778Z"
   },
   {
    "duration": 49,
    "start_time": "2023-02-28T22:49:44.509Z"
   },
   {
    "duration": 197,
    "start_time": "2023-02-28T22:49:44.560Z"
   },
   {
    "duration": 13,
    "start_time": "2023-02-28T22:49:44.759Z"
   },
   {
    "duration": 25,
    "start_time": "2023-02-28T22:49:44.773Z"
   },
   {
    "duration": 122,
    "start_time": "2023-02-28T22:49:44.800Z"
   },
   {
    "duration": 215,
    "start_time": "2023-02-28T22:49:44.924Z"
   },
   {
    "duration": 91,
    "start_time": "2023-02-28T22:49:45.144Z"
   },
   {
    "duration": 54,
    "start_time": "2023-02-28T22:49:45.236Z"
   },
   {
    "duration": 65,
    "start_time": "2023-02-28T22:49:45.291Z"
   },
   {
    "duration": 88,
    "start_time": "2023-02-28T22:49:45.358Z"
   },
   {
    "duration": 9,
    "start_time": "2023-02-28T22:49:45.448Z"
   },
   {
    "duration": 102,
    "start_time": "2023-02-28T22:49:45.461Z"
   },
   {
    "duration": 83,
    "start_time": "2023-02-28T22:49:45.565Z"
   },
   {
    "duration": 103,
    "start_time": "2023-02-28T22:49:45.650Z"
   },
   {
    "duration": 90,
    "start_time": "2023-02-28T22:49:45.755Z"
   },
   {
    "duration": 124,
    "start_time": "2023-02-28T22:49:45.846Z"
   },
   {
    "duration": 1203,
    "start_time": "2023-02-28T22:58:18.661Z"
   },
   {
    "duration": 4,
    "start_time": "2023-02-28T22:58:19.866Z"
   },
   {
    "duration": 174,
    "start_time": "2023-02-28T22:58:19.872Z"
   },
   {
    "duration": 11,
    "start_time": "2023-02-28T22:58:20.049Z"
   },
   {
    "duration": 153,
    "start_time": "2023-02-28T22:58:20.062Z"
   },
   {
    "duration": 6,
    "start_time": "2023-02-28T22:58:20.216Z"
   },
   {
    "duration": 28,
    "start_time": "2023-02-28T22:58:20.224Z"
   },
   {
    "duration": 65,
    "start_time": "2023-02-28T22:58:20.253Z"
   },
   {
    "duration": 94,
    "start_time": "2023-02-28T22:58:20.320Z"
   },
   {
    "duration": 104,
    "start_time": "2023-02-28T22:58:20.420Z"
   },
   {
    "duration": 30,
    "start_time": "2023-02-28T22:58:20.526Z"
   },
   {
    "duration": 61,
    "start_time": "2023-02-28T22:58:20.558Z"
   },
   {
    "duration": 65,
    "start_time": "2023-02-28T22:58:20.621Z"
   },
   {
    "duration": 8,
    "start_time": "2023-02-28T22:58:20.688Z"
   },
   {
    "duration": 1686,
    "start_time": "2023-02-28T22:58:20.697Z"
   },
   {
    "duration": 44,
    "start_time": "2023-02-28T22:58:22.386Z"
   },
   {
    "duration": 195,
    "start_time": "2023-02-28T22:58:22.431Z"
   },
   {
    "duration": 27,
    "start_time": "2023-02-28T22:58:22.627Z"
   },
   {
    "duration": 24,
    "start_time": "2023-02-28T22:58:22.656Z"
   },
   {
    "duration": 103,
    "start_time": "2023-02-28T22:58:22.681Z"
   },
   {
    "duration": 212,
    "start_time": "2023-02-28T22:58:22.785Z"
   },
   {
    "duration": 107,
    "start_time": "2023-02-28T22:58:22.998Z"
   },
   {
    "duration": 64,
    "start_time": "2023-02-28T22:58:23.108Z"
   },
   {
    "duration": 59,
    "start_time": "2023-02-28T22:58:23.174Z"
   },
   {
    "duration": 86,
    "start_time": "2023-02-28T22:58:23.245Z"
   },
   {
    "duration": 17,
    "start_time": "2023-02-28T22:58:23.333Z"
   },
   {
    "duration": 84,
    "start_time": "2023-02-28T22:58:23.352Z"
   },
   {
    "duration": 78,
    "start_time": "2023-02-28T22:58:23.446Z"
   },
   {
    "duration": 91,
    "start_time": "2023-02-28T22:58:23.526Z"
   },
   {
    "duration": 88,
    "start_time": "2023-02-28T22:58:23.618Z"
   },
   {
    "duration": 123,
    "start_time": "2023-02-28T22:58:23.708Z"
   }
  ],
  "kernelspec": {
   "display_name": "Python 3 (ipykernel)",
   "language": "python",
   "name": "python3"
  },
  "language_info": {
   "codemirror_mode": {
    "name": "ipython",
    "version": 3
   },
   "file_extension": ".py",
   "mimetype": "text/x-python",
   "name": "python",
   "nbconvert_exporter": "python",
   "pygments_lexer": "ipython3",
   "version": "3.9.7"
  },
  "toc": {
   "base_numbering": 1,
   "nav_menu": {},
   "number_sections": true,
   "sideBar": true,
   "skip_h1_title": true,
   "title_cell": "Table of Contents",
   "title_sidebar": "Contents",
   "toc_cell": false,
   "toc_position": {},
   "toc_section_display": true,
   "toc_window_display": false
  }
 },
 "nbformat": 4,
 "nbformat_minor": 2
}
