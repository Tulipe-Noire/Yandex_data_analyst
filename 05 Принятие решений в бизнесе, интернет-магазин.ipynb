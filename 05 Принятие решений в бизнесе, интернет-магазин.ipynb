{
 "cells": [
  {
   "cell_type": "markdown",
   "metadata": {},
   "source": [
    "# Принятие решений в бизнесе"
   ]
  },
  {
   "cell_type": "markdown",
   "metadata": {},
   "source": [
    "**Контекст**\n",
    "\n",
    "Вы — аналитик крупного интернет-магазина. Вместе с отделом маркетинга вы подготовили список гипотез для увеличения выручки.\n",
    "\n",
    "Приоритизируйте гипотезы, запустите A/B-тест и проанализируйте результаты. "
   ]
  },
  {
   "cell_type": "markdown",
   "metadata": {},
   "source": [
    "**Часть 1. Приоритизация гипотез.**\n",
    "\n",
    "В файле /datasets/hypothesis.csv 9 гипотез по увеличению выручки интернет-магазина с указанными параметрами:\n",
    "* Hypothesis — краткое описание гипотезы;\n",
    "* Reach — охват пользователей по 10-балльной шкале;\n",
    "* Impact — влияние на пользователей по 10-балльной шкале;\n",
    "* Confidence — уверенность в гипотезе по 10-балльной шкале;\n",
    "* Efforts — затраты ресурсов на проверку гипотезы по 10-балльной шкале. Чем больше значение Efforts, тем дороже проверка гипотезы.\n",
    "\n",
    "**Задача**\n",
    "* Примените фреймворк ICE для приоритизации гипотез. Отсортируйте их по убыванию приоритета.\n",
    "* Примените фреймворк RICE для приоритизации гипотез. Отсортируйте их по убыванию приоритета.\n",
    "* Укажите, как изменилась приоритизация гипотез при применении RICE вместо ICE. Объясните, почему так произошло."
   ]
  },
  {
   "cell_type": "markdown",
   "metadata": {},
   "source": [
    "**Часть 2. Анализ A/B-теста** \n",
    "\n",
    "Вы провели A/B-тест и получили результаты, которые описаны в файлах\n",
    "\n",
    "/datasets/orders.csv:\n",
    "* transactionId — идентификатор заказа;\n",
    "* visitorId — идентификатор пользователя, совершившего заказ;\n",
    "* date — дата, когда был совершён заказ;\n",
    "* revenue — выручка заказа;\n",
    "* group — группа A/B-теста, в которую попал заказ.\n",
    "\n",
    "/datasets/visitors.csv:\n",
    "* date — дата;\n",
    "* group — группа A/B-теста;\n",
    "* visitors — количество пользователей в указанную дату в указанной группе A/B-теста\n",
    "\n",
    "**Задача**\n",
    "\n",
    "Проанализируйте A/B-тест:\n",
    "\n",
    "1. Постройте график кумулятивной выручки по группам. Сделайте выводы и предположения.\n",
    "2. Постройте график кумулятивного среднего чека по группам. Сделайте выводы и предположения.\n",
    "3. Постройте график относительного изменения кумулятивного среднего чека группы B к группе A. Сделайте выводы и предположения.\n",
    "4. Постройте график кумулятивного среднего количества заказов на посетителя по группам. Сделайте выводы и предположения.\n",
    "5. Постройте график относительного изменения кумулятивного среднего количества заказов на посетителя группы B к группе A. Сделайте выводы и предположения.\n",
    "6. Постройте точечный график количества заказов по пользователям. Сделайте выводы и предположения.\n",
    "7. Посчитайте 95-й и 99-й перцентили количества заказов на пользователя. Выберите границу для определения аномальных пользователей.\n",
    "8. Постройте точечный график стоимостей заказов. Сделайте выводы и предположения.\n",
    "9. Посчитайте 95-й и 99-й перцентили стоимости заказов. Выберите границу для определения аномальных заказов.\n",
    "10. Посчитайте статистическую значимость различий в среднем количестве заказов на посетителя между группами по «сырым» данным. Сделайте выводы и предположения.\n",
    "11. Посчитайте статистическую значимость различий в среднем чеке заказа между группами по «сырым» данным. Сделайте выводы и предположения.\n",
    "12. Посчитайте статистическую значимость различий в среднем количестве заказов на посетителя между группами по «очищенным» данным. Сделайте выводы и предположения.\n",
    "13. Посчитайте статистическую значимость различий в среднем чеке заказа между группами по «очищенным» данным. Сделайте выводы и предположения.\n",
    "14. Примите решение по результатам теста и объясните его. Варианты решений:\n",
    "* Остановить тест, зафиксировать победу одной из групп.\n",
    "* Остановить тест, зафиксировать отсутствие различий между группами.\n",
    "* Продолжить тест."
   ]
  },
  {
   "cell_type": "code",
   "execution_count": 1,
   "metadata": {},
   "outputs": [],
   "source": [
    "import pandas as pd\n",
    "import matplotlib.pyplot as plt \n",
    "import seaborn as sns\n",
    "import numpy as np\n",
    "import math\n",
    "import scipy.stats as stats\n",
    "from scipy import stats as st\n",
    "from datetime import datetime, timedelta\n",
    "%matplotlib inline"
   ]
  },
  {
   "cell_type": "code",
   "execution_count": 2,
   "metadata": {},
   "outputs": [],
   "source": [
    "pd.set_option('display.max_columns', None)\n",
    "pd.set_option('display.max_rows', None)\n",
    "pd.set_option('display.max_colwidth', None)\n",
    "pd.options.display.float_format = '{:,.3f}'.format"
   ]
  },
  {
   "cell_type": "code",
   "execution_count": 3,
   "metadata": {},
   "outputs": [],
   "source": [
    "hypothesis = pd.read_csv('https://code.s3.yandex.net/datasets/hypothesis.csv')\n",
    "orders = pd.read_csv('https://code.s3.yandex.net/datasets/orders.csv')\n",
    "visitors = pd.read_csv('https://code.s3.yandex.net/datasets/visitors.csv')"
   ]
  },
  {
   "cell_type": "markdown",
   "metadata": {},
   "source": [
    "## Приоритизация гипотез"
   ]
  },
  {
   "cell_type": "code",
   "execution_count": 4,
   "metadata": {},
   "outputs": [
    {
     "name": "stdout",
     "output_type": "stream",
     "text": [
      "<class 'pandas.core.frame.DataFrame'>\n",
      "RangeIndex: 9 entries, 0 to 8\n",
      "Data columns (total 5 columns):\n",
      " #   Column      Non-Null Count  Dtype \n",
      "---  ------      --------------  ----- \n",
      " 0   Hypothesis  9 non-null      object\n",
      " 1   Reach       9 non-null      int64 \n",
      " 2   Impact      9 non-null      int64 \n",
      " 3   Confidence  9 non-null      int64 \n",
      " 4   Efforts     9 non-null      int64 \n",
      "dtypes: int64(4), object(1)\n",
      "memory usage: 488.0+ bytes\n"
     ]
    },
    {
     "data": {
      "text/html": [
       "<div>\n",
       "<style scoped>\n",
       "    .dataframe tbody tr th:only-of-type {\n",
       "        vertical-align: middle;\n",
       "    }\n",
       "\n",
       "    .dataframe tbody tr th {\n",
       "        vertical-align: top;\n",
       "    }\n",
       "\n",
       "    .dataframe thead th {\n",
       "        text-align: right;\n",
       "    }\n",
       "</style>\n",
       "<table border=\"1\" class=\"dataframe\">\n",
       "  <thead>\n",
       "    <tr style=\"text-align: right;\">\n",
       "      <th></th>\n",
       "      <th>Hypothesis</th>\n",
       "      <th>Reach</th>\n",
       "      <th>Impact</th>\n",
       "      <th>Confidence</th>\n",
       "      <th>Efforts</th>\n",
       "    </tr>\n",
       "  </thead>\n",
       "  <tbody>\n",
       "    <tr>\n",
       "      <th>0</th>\n",
       "      <td>Добавить два новых канала привлечения трафика, что позволит привлекать на 30% больше пользователей</td>\n",
       "      <td>3</td>\n",
       "      <td>10</td>\n",
       "      <td>8</td>\n",
       "      <td>6</td>\n",
       "    </tr>\n",
       "    <tr>\n",
       "      <th>1</th>\n",
       "      <td>Запустить собственную службу доставки, что сократит срок доставки заказов</td>\n",
       "      <td>2</td>\n",
       "      <td>5</td>\n",
       "      <td>4</td>\n",
       "      <td>10</td>\n",
       "    </tr>\n",
       "    <tr>\n",
       "      <th>2</th>\n",
       "      <td>Добавить блоки рекомендаций товаров на сайт интернет магазина, чтобы повысить конверсию и средний чек заказа</td>\n",
       "      <td>8</td>\n",
       "      <td>3</td>\n",
       "      <td>7</td>\n",
       "      <td>3</td>\n",
       "    </tr>\n",
       "    <tr>\n",
       "      <th>3</th>\n",
       "      <td>Изменить структура категорий, что увеличит конверсию, т.к. пользователи быстрее найдут нужный товар</td>\n",
       "      <td>8</td>\n",
       "      <td>3</td>\n",
       "      <td>3</td>\n",
       "      <td>8</td>\n",
       "    </tr>\n",
       "    <tr>\n",
       "      <th>4</th>\n",
       "      <td>Изменить цвет фона главной страницы, чтобы увеличить вовлеченность пользователей</td>\n",
       "      <td>3</td>\n",
       "      <td>1</td>\n",
       "      <td>1</td>\n",
       "      <td>1</td>\n",
       "    </tr>\n",
       "    <tr>\n",
       "      <th>5</th>\n",
       "      <td>Добавить страницу отзывов клиентов о магазине, что позволит увеличить количество заказов</td>\n",
       "      <td>3</td>\n",
       "      <td>2</td>\n",
       "      <td>2</td>\n",
       "      <td>3</td>\n",
       "    </tr>\n",
       "    <tr>\n",
       "      <th>6</th>\n",
       "      <td>Показать на главной странице баннеры с актуальными акциями и распродажами, чтобы увеличить конверсию</td>\n",
       "      <td>5</td>\n",
       "      <td>3</td>\n",
       "      <td>8</td>\n",
       "      <td>3</td>\n",
       "    </tr>\n",
       "    <tr>\n",
       "      <th>7</th>\n",
       "      <td>Добавить форму подписки на все основные страницы, чтобы собрать базу клиентов для email-рассылок</td>\n",
       "      <td>10</td>\n",
       "      <td>7</td>\n",
       "      <td>8</td>\n",
       "      <td>5</td>\n",
       "    </tr>\n",
       "    <tr>\n",
       "      <th>8</th>\n",
       "      <td>Запустить акцию, дающую скидку на товар в день рождения</td>\n",
       "      <td>1</td>\n",
       "      <td>9</td>\n",
       "      <td>9</td>\n",
       "      <td>5</td>\n",
       "    </tr>\n",
       "  </tbody>\n",
       "</table>\n",
       "</div>"
      ],
      "text/plain": [
       "                                                                                                     Hypothesis  \\\n",
       "0            Добавить два новых канала привлечения трафика, что позволит привлекать на 30% больше пользователей   \n",
       "1                                     Запустить собственную службу доставки, что сократит срок доставки заказов   \n",
       "2  Добавить блоки рекомендаций товаров на сайт интернет магазина, чтобы повысить конверсию и средний чек заказа   \n",
       "3           Изменить структура категорий, что увеличит конверсию, т.к. пользователи быстрее найдут нужный товар   \n",
       "4                              Изменить цвет фона главной страницы, чтобы увеличить вовлеченность пользователей   \n",
       "5                      Добавить страницу отзывов клиентов о магазине, что позволит увеличить количество заказов   \n",
       "6          Показать на главной странице баннеры с актуальными акциями и распродажами, чтобы увеличить конверсию   \n",
       "7              Добавить форму подписки на все основные страницы, чтобы собрать базу клиентов для email-рассылок   \n",
       "8                                                       Запустить акцию, дающую скидку на товар в день рождения   \n",
       "\n",
       "   Reach  Impact  Confidence  Efforts  \n",
       "0      3      10           8        6  \n",
       "1      2       5           4       10  \n",
       "2      8       3           7        3  \n",
       "3      8       3           3        8  \n",
       "4      3       1           1        1  \n",
       "5      3       2           2        3  \n",
       "6      5       3           8        3  \n",
       "7     10       7           8        5  \n",
       "8      1       9           9        5  "
      ]
     },
     "metadata": {},
     "output_type": "display_data"
    }
   ],
   "source": [
    "hypothesis.info()\n",
    "display(hypothesis)"
   ]
  },
  {
   "cell_type": "markdown",
   "metadata": {},
   "source": [
    "Приведем наименования столбцов к snake_case"
   ]
  },
  {
   "cell_type": "code",
   "execution_count": 5,
   "metadata": {},
   "outputs": [],
   "source": [
    "hypothesis.columns = hypothesis.columns.str.lower()"
   ]
  },
  {
   "cell_type": "markdown",
   "metadata": {},
   "source": [
    "Для приоритизации гипотез мы будем использовать фреймворки **ICE** (влияние, уверенность, усилия) и **RICE** (влияние, уверенность, усилия, охват)"
   ]
  },
  {
   "cell_type": "code",
   "execution_count": 6,
   "metadata": {},
   "outputs": [],
   "source": [
    "# ICE score = (Impact x Confidence) / Efforts\n",
    "hypothesis['ice'] = hypothesis['impact'] * hypothesis['confidence'] / hypothesis['efforts']\n",
    "\n",
    "# RICE score = (Reach x Impact x Confidence) / Efforts \n",
    "hypothesis['rice'] = hypothesis['reach'] * hypothesis['impact'] * hypothesis['confidence'] / hypothesis['efforts']"
   ]
  },
  {
   "cell_type": "markdown",
   "metadata": {},
   "source": [
    "### Фреймворк ICE для приоритизации гипотез: сортировка по убыванию"
   ]
  },
  {
   "cell_type": "code",
   "execution_count": 7,
   "metadata": {},
   "outputs": [
    {
     "data": {
      "text/html": [
       "<div>\n",
       "<style scoped>\n",
       "    .dataframe tbody tr th:only-of-type {\n",
       "        vertical-align: middle;\n",
       "    }\n",
       "\n",
       "    .dataframe tbody tr th {\n",
       "        vertical-align: top;\n",
       "    }\n",
       "\n",
       "    .dataframe thead th {\n",
       "        text-align: right;\n",
       "    }\n",
       "</style>\n",
       "<table border=\"1\" class=\"dataframe\">\n",
       "  <thead>\n",
       "    <tr style=\"text-align: right;\">\n",
       "      <th></th>\n",
       "      <th>hypothesis</th>\n",
       "      <th>ice</th>\n",
       "    </tr>\n",
       "  </thead>\n",
       "  <tbody>\n",
       "    <tr>\n",
       "      <th>8</th>\n",
       "      <td>Запустить акцию, дающую скидку на товар в день рождения</td>\n",
       "      <td>16.200</td>\n",
       "    </tr>\n",
       "    <tr>\n",
       "      <th>0</th>\n",
       "      <td>Добавить два новых канала привлечения трафика, что позволит привлекать на 30% больше пользователей</td>\n",
       "      <td>13.333</td>\n",
       "    </tr>\n",
       "    <tr>\n",
       "      <th>7</th>\n",
       "      <td>Добавить форму подписки на все основные страницы, чтобы собрать базу клиентов для email-рассылок</td>\n",
       "      <td>11.200</td>\n",
       "    </tr>\n",
       "    <tr>\n",
       "      <th>6</th>\n",
       "      <td>Показать на главной странице баннеры с актуальными акциями и распродажами, чтобы увеличить конверсию</td>\n",
       "      <td>8.000</td>\n",
       "    </tr>\n",
       "    <tr>\n",
       "      <th>2</th>\n",
       "      <td>Добавить блоки рекомендаций товаров на сайт интернет магазина, чтобы повысить конверсию и средний чек заказа</td>\n",
       "      <td>7.000</td>\n",
       "    </tr>\n",
       "    <tr>\n",
       "      <th>1</th>\n",
       "      <td>Запустить собственную службу доставки, что сократит срок доставки заказов</td>\n",
       "      <td>2.000</td>\n",
       "    </tr>\n",
       "    <tr>\n",
       "      <th>5</th>\n",
       "      <td>Добавить страницу отзывов клиентов о магазине, что позволит увеличить количество заказов</td>\n",
       "      <td>1.333</td>\n",
       "    </tr>\n",
       "    <tr>\n",
       "      <th>3</th>\n",
       "      <td>Изменить структура категорий, что увеличит конверсию, т.к. пользователи быстрее найдут нужный товар</td>\n",
       "      <td>1.125</td>\n",
       "    </tr>\n",
       "    <tr>\n",
       "      <th>4</th>\n",
       "      <td>Изменить цвет фона главной страницы, чтобы увеличить вовлеченность пользователей</td>\n",
       "      <td>1.000</td>\n",
       "    </tr>\n",
       "  </tbody>\n",
       "</table>\n",
       "</div>"
      ],
      "text/plain": [
       "                                                                                                     hypothesis  \\\n",
       "8                                                       Запустить акцию, дающую скидку на товар в день рождения   \n",
       "0            Добавить два новых канала привлечения трафика, что позволит привлекать на 30% больше пользователей   \n",
       "7              Добавить форму подписки на все основные страницы, чтобы собрать базу клиентов для email-рассылок   \n",
       "6          Показать на главной странице баннеры с актуальными акциями и распродажами, чтобы увеличить конверсию   \n",
       "2  Добавить блоки рекомендаций товаров на сайт интернет магазина, чтобы повысить конверсию и средний чек заказа   \n",
       "1                                     Запустить собственную службу доставки, что сократит срок доставки заказов   \n",
       "5                      Добавить страницу отзывов клиентов о магазине, что позволит увеличить количество заказов   \n",
       "3           Изменить структура категорий, что увеличит конверсию, т.к. пользователи быстрее найдут нужный товар   \n",
       "4                              Изменить цвет фона главной страницы, чтобы увеличить вовлеченность пользователей   \n",
       "\n",
       "     ice  \n",
       "8 16.200  \n",
       "0 13.333  \n",
       "7 11.200  \n",
       "6  8.000  \n",
       "2  7.000  \n",
       "1  2.000  \n",
       "5  1.333  \n",
       "3  1.125  \n",
       "4  1.000  "
      ]
     },
     "metadata": {},
     "output_type": "display_data"
    },
    {
     "data": {
      "image/png": "[encoded data removed]",
      "text/plain": [
       "<Figure size 432x288 with 1 Axes>"
      ]
     },
     "metadata": {
      "needs_background": "light"
     },
     "output_type": "display_data"
    }
   ],
   "source": [
    "display(hypothesis[['hypothesis', 'ice']].sort_values(by = 'ice', ascending=False))\n",
    "\n",
    "# визуализируем\n",
    "ax = (hypothesis[['hypothesis', 'ice']]\n",
    "      .set_index('hypothesis')\n",
    "      .sort_values('ice', ascending=True)\n",
    "      .plot(kind='barh', color='g', alpha=0.8)\n",
    "     )\n",
    "ax.grid(True)\n",
    "ax.set_ylabel(' ')\n",
    "ax.set_title('Приоритезация гипотез по методу ICE')\n",
    "plt.show()"
   ]
  },
  {
   "cell_type": "markdown",
   "metadata": {},
   "source": [
    "### Фреймворк RICE для приоритизации гипотез: сортировка по убыванию"
   ]
  },
  {
   "cell_type": "code",
   "execution_count": 8,
   "metadata": {},
   "outputs": [
    {
     "data": {
      "text/html": [
       "<div>\n",
       "<style scoped>\n",
       "    .dataframe tbody tr th:only-of-type {\n",
       "        vertical-align: middle;\n",
       "    }\n",
       "\n",
       "    .dataframe tbody tr th {\n",
       "        vertical-align: top;\n",
       "    }\n",
       "\n",
       "    .dataframe thead th {\n",
       "        text-align: right;\n",
       "    }\n",
       "</style>\n",
       "<table border=\"1\" class=\"dataframe\">\n",
       "  <thead>\n",
       "    <tr style=\"text-align: right;\">\n",
       "      <th></th>\n",
       "      <th>hypothesis</th>\n",
       "      <th>rice</th>\n",
       "    </tr>\n",
       "  </thead>\n",
       "  <tbody>\n",
       "    <tr>\n",
       "      <th>7</th>\n",
       "      <td>Добавить форму подписки на все основные страницы, чтобы собрать базу клиентов для email-рассылок</td>\n",
       "      <td>112.000</td>\n",
       "    </tr>\n",
       "    <tr>\n",
       "      <th>2</th>\n",
       "      <td>Добавить блоки рекомендаций товаров на сайт интернет магазина, чтобы повысить конверсию и средний чек заказа</td>\n",
       "      <td>56.000</td>\n",
       "    </tr>\n",
       "    <tr>\n",
       "      <th>0</th>\n",
       "      <td>Добавить два новых канала привлечения трафика, что позволит привлекать на 30% больше пользователей</td>\n",
       "      <td>40.000</td>\n",
       "    </tr>\n",
       "    <tr>\n",
       "      <th>6</th>\n",
       "      <td>Показать на главной странице баннеры с актуальными акциями и распродажами, чтобы увеличить конверсию</td>\n",
       "      <td>40.000</td>\n",
       "    </tr>\n",
       "    <tr>\n",
       "      <th>8</th>\n",
       "      <td>Запустить акцию, дающую скидку на товар в день рождения</td>\n",
       "      <td>16.200</td>\n",
       "    </tr>\n",
       "    <tr>\n",
       "      <th>3</th>\n",
       "      <td>Изменить структура категорий, что увеличит конверсию, т.к. пользователи быстрее найдут нужный товар</td>\n",
       "      <td>9.000</td>\n",
       "    </tr>\n",
       "    <tr>\n",
       "      <th>1</th>\n",
       "      <td>Запустить собственную службу доставки, что сократит срок доставки заказов</td>\n",
       "      <td>4.000</td>\n",
       "    </tr>\n",
       "    <tr>\n",
       "      <th>5</th>\n",
       "      <td>Добавить страницу отзывов клиентов о магазине, что позволит увеличить количество заказов</td>\n",
       "      <td>4.000</td>\n",
       "    </tr>\n",
       "    <tr>\n",
       "      <th>4</th>\n",
       "      <td>Изменить цвет фона главной страницы, чтобы увеличить вовлеченность пользователей</td>\n",
       "      <td>3.000</td>\n",
       "    </tr>\n",
       "  </tbody>\n",
       "</table>\n",
       "</div>"
      ],
      "text/plain": [
       "                                                                                                     hypothesis  \\\n",
       "7              Добавить форму подписки на все основные страницы, чтобы собрать базу клиентов для email-рассылок   \n",
       "2  Добавить блоки рекомендаций товаров на сайт интернет магазина, чтобы повысить конверсию и средний чек заказа   \n",
       "0            Добавить два новых канала привлечения трафика, что позволит привлекать на 30% больше пользователей   \n",
       "6          Показать на главной странице баннеры с актуальными акциями и распродажами, чтобы увеличить конверсию   \n",
       "8                                                       Запустить акцию, дающую скидку на товар в день рождения   \n",
       "3           Изменить структура категорий, что увеличит конверсию, т.к. пользователи быстрее найдут нужный товар   \n",
       "1                                     Запустить собственную службу доставки, что сократит срок доставки заказов   \n",
       "5                      Добавить страницу отзывов клиентов о магазине, что позволит увеличить количество заказов   \n",
       "4                              Изменить цвет фона главной страницы, чтобы увеличить вовлеченность пользователей   \n",
       "\n",
       "     rice  \n",
       "7 112.000  \n",
       "2  56.000  \n",
       "0  40.000  \n",
       "6  40.000  \n",
       "8  16.200  \n",
       "3   9.000  \n",
       "1   4.000  \n",
       "5   4.000  \n",
       "4   3.000  "
      ]
     },
     "metadata": {},
     "output_type": "display_data"
    },
    {
     "data": {
      "image/png": "[encoded data removed]",
      "text/plain": [
       "<Figure size 432x288 with 1 Axes>"
      ]
     },
     "metadata": {
      "needs_background": "light"
     },
     "output_type": "display_data"
    }
   ],
   "source": [
    "display(hypothesis[['hypothesis', 'rice']].sort_values(by = 'rice', ascending=False))\n",
    "\n",
    "# визуализируем\n",
    "ax = (hypothesis[['hypothesis', 'rice']]\n",
    "      .set_index('hypothesis')\n",
    "      .sort_values('rice', ascending=True)\n",
    "      .plot(kind='barh', color='g', alpha=0.8)\n",
    "     )\n",
    "ax.grid(True)\n",
    "ax.set_ylabel(' ')\n",
    "ax.set_title('Приоритезация гипотез по методу RICE')\n",
    "plt.show()"
   ]
  },
  {
   "cell_type": "markdown",
   "metadata": {},
   "source": [
    "### Как изменилась приоритизация гипотез при применении RICE вместо ICE"
   ]
  },
  {
   "cell_type": "markdown",
   "metadata": {},
   "source": [
    "**Наиболее перспективные гипотезы по ICE:**\n",
    "* 8 - Запустить акцию, дающую скидку на товар в день рождения\n",
    "* 0 - Добавить два новых канала привлечения трафика, что позволит привлекать на 30% больше пользователей\n",
    "* 7 - Добавить форму подписки на все основные страницы, чтобы собрать базу клиентов для email-рассылок\n",
    "* 6 - Показать на главной странице баннеры с актуальными акциями и распродажами, чтобы увеличить конверсию\n",
    "\n",
    "**Наиболее перспективные гипотезы по RICE:**\n",
    "* 7 - Добавить форму подписки на все основные страницы, чтобы собрать базу клиентов для email-рассылок\n",
    "* 2 - Добавить блоки рекомендаций товаров на сайт интернет магазина, чтобы повысить конверсию и средний чек заказа\n",
    "* 0 - Добавить два новых канала привлечения трафика, что позволит привлекать на 30% больше пользователей\n",
    "* 6 - Показать на главной странице баннеры с актуальными акциями и распродажами, чтобы увеличить конверсию\n",
    "\n",
    "**Вывод**\n",
    "\n",
    "Приоритет гипотез изменился после добавления в формулу расчёта показателя Reach (охват пользователей). Поэтому целесообразнее при определении приоритета гипотезы учитывать не только влияние на пользователей, затраты и степень уверенности в самой гипотезе, но и число пользователей, которых она затронет. Гипотеза 7 получается наиболее перспективна, т.к. помимо высоких impact и confidence, коснётся всех пользователей сайта."
   ]
  },
  {
   "cell_type": "markdown",
   "metadata": {},
   "source": [
    "## Анализ A/B-теста"
   ]
  },
  {
   "cell_type": "markdown",
   "metadata": {},
   "source": [
    "**orders и visitors: предобработка данных**"
   ]
  },
  {
   "cell_type": "code",
   "execution_count": 9,
   "metadata": {
    "scrolled": false
   },
   "outputs": [
    {
     "data": {
      "text/html": [
       "<div>\n",
       "<style scoped>\n",
       "    .dataframe tbody tr th:only-of-type {\n",
       "        vertical-align: middle;\n",
       "    }\n",
       "\n",
       "    .dataframe tbody tr th {\n",
       "        vertical-align: top;\n",
       "    }\n",
       "\n",
       "    .dataframe thead th {\n",
       "        text-align: right;\n",
       "    }\n",
       "</style>\n",
       "<table border=\"1\" class=\"dataframe\">\n",
       "  <thead>\n",
       "    <tr style=\"text-align: right;\">\n",
       "      <th></th>\n",
       "      <th>transactionId</th>\n",
       "      <th>visitorId</th>\n",
       "      <th>date</th>\n",
       "      <th>revenue</th>\n",
       "      <th>group</th>\n",
       "    </tr>\n",
       "  </thead>\n",
       "  <tbody>\n",
       "    <tr>\n",
       "      <th>0</th>\n",
       "      <td>3667963787</td>\n",
       "      <td>3312258926</td>\n",
       "      <td>2019-08-15</td>\n",
       "      <td>1650</td>\n",
       "      <td>B</td>\n",
       "    </tr>\n",
       "    <tr>\n",
       "      <th>1</th>\n",
       "      <td>2804400009</td>\n",
       "      <td>3642806036</td>\n",
       "      <td>2019-08-15</td>\n",
       "      <td>730</td>\n",
       "      <td>B</td>\n",
       "    </tr>\n",
       "    <tr>\n",
       "      <th>2</th>\n",
       "      <td>2961555356</td>\n",
       "      <td>4069496402</td>\n",
       "      <td>2019-08-15</td>\n",
       "      <td>400</td>\n",
       "      <td>A</td>\n",
       "    </tr>\n",
       "    <tr>\n",
       "      <th>3</th>\n",
       "      <td>3797467345</td>\n",
       "      <td>1196621759</td>\n",
       "      <td>2019-08-15</td>\n",
       "      <td>9759</td>\n",
       "      <td>B</td>\n",
       "    </tr>\n",
       "    <tr>\n",
       "      <th>4</th>\n",
       "      <td>2282983706</td>\n",
       "      <td>2322279887</td>\n",
       "      <td>2019-08-15</td>\n",
       "      <td>2308</td>\n",
       "      <td>B</td>\n",
       "    </tr>\n",
       "  </tbody>\n",
       "</table>\n",
       "</div>"
      ],
      "text/plain": [
       "   transactionId   visitorId        date  revenue group\n",
       "0     3667963787  3312258926  2019-08-15     1650     B\n",
       "1     2804400009  3642806036  2019-08-15      730     B\n",
       "2     2961555356  4069496402  2019-08-15      400     A\n",
       "3     3797467345  1196621759  2019-08-15     9759     B\n",
       "4     2282983706  2322279887  2019-08-15     2308     B"
      ]
     },
     "metadata": {},
     "output_type": "display_data"
    },
    {
     "name": "stdout",
     "output_type": "stream",
     "text": [
      "<class 'pandas.core.frame.DataFrame'>\n",
      "RangeIndex: 1197 entries, 0 to 1196\n",
      "Data columns (total 5 columns):\n",
      " #   Column         Non-Null Count  Dtype \n",
      "---  ------         --------------  ----- \n",
      " 0   transactionId  1197 non-null   int64 \n",
      " 1   visitorId      1197 non-null   int64 \n",
      " 2   date           1197 non-null   object\n",
      " 3   revenue        1197 non-null   int64 \n",
      " 4   group          1197 non-null   object\n",
      "dtypes: int64(3), object(2)\n",
      "memory usage: 46.9+ KB\n"
     ]
    },
    {
     "data": {
      "text/plain": [
       "None"
      ]
     },
     "metadata": {},
     "output_type": "display_data"
    },
    {
     "data": {
      "text/plain": [
       "transactionId    0\n",
       "visitorId        0\n",
       "date             0\n",
       "revenue          0\n",
       "group            0\n",
       "dtype: int64"
      ]
     },
     "metadata": {},
     "output_type": "display_data"
    },
    {
     "name": "stdout",
     "output_type": "stream",
     "text": [
      "Дубликаты: 0\n",
      "\n",
      "transactionId\n",
      "[3667963787 2804400009 2961555356 ... 1807773912 1947021204 3936777065]\n",
      "\n",
      "visitorId\n",
      "[3312258926 3642806036 4069496402 ...  370388673  573423106 2108080724]\n",
      "\n",
      "date\n",
      "['2019-08-15' '2019-08-16' '2019-08-01' '2019-08-22' '2019-08-17'\n",
      " '2019-08-23' '2019-08-02' '2019-08-18' '2019-08-24' '2019-08-03'\n",
      " '2019-08-25' '2019-08-28' '2019-08-19' '2019-08-06' '2019-08-26'\n",
      " '2019-08-29' '2019-08-04' '2019-08-20' '2019-08-09' '2019-08-07'\n",
      " '2019-08-30' '2019-08-05' '2019-08-27' '2019-08-21' '2019-08-08'\n",
      " '2019-08-10' '2019-08-31' '2019-08-11' '2019-08-12' '2019-08-13'\n",
      " '2019-08-14']\n",
      "\n",
      "revenue\n",
      "[   1650     730     400    9759    2308    2210    1860    1044   13710\n",
      "    1855    4008    4499    7370   11985   10980   15277    1060     990\n",
      "   16490    1190     300    1050     632   15185    7555    3488    7620\n",
      "    5280     700     190     383    1680   22785    2355    2470    6250\n",
      "   19260     610    2986    1090    9290    2480    3000    2140    3590\n",
      "    6990    1250    2970   18100     100    2750     570    2978    1440\n",
      "    7860   56650     790    1350    2540    1710    2350   14610    8999\n",
      "   10510   29499     780     890    4400   32350   40740    2490    2080\n",
      "    5400    5100    4020     690   12350    1290     382    2110    1490\n",
      "   17868    1940   26550    5970     987    9024    5555    7129    3240\n",
      "    2995    2550   17600     850    5365    8390    5870    5020   14489\n",
      "    8470    1630    5800     172    6230     760    3390    4480    1139\n",
      "   12336    1450    7990    5099    9400    6441    3070    6145   53904\n",
      "    6922    5190    6976    7690     426   28490     390     299    6329\n",
      "    8800    2990    9448    2920    9980    1790    4970    3760    8090\n",
      "   11990   18900    6420    1990     650     436    1038    1780    3564\n",
      "    3340    5480   38160    2800    3040     995    3210     310    2090\n",
      "    3468     778    5740    4580    1840    1550   17990     290    6940\n",
      "    1690    5369   11115     165    2646    2220    2190    2845    1799\n",
      "    1498    9850    6700     500    2640    4717   30649    5640    2820\n",
      "   17422   14155    4185   10960    1140    1310    1380   10791    9310\n",
      "    3470    2955   15850   27550   15485    6201    2320     599     660\n",
      "    6149    2938   10590     110   12810    9880     920   15417     950\n",
      "    2339    3190    2360   16950   34340    1620   14271    1920     380\n",
      "    8240     282   10970     170    1922   14400   19538   10450    2290\n",
      "    1830   33970    1100    4877   12680     860    3354    1000    6890\n",
      "    4299   12562     420   23750    6350     490   22040    2950    2342\n",
      "    5622    7485    1200    2057      76    1900    2690   20219    4195\n",
      "     830    2330    2526    1435    1460     250    6194    3460    5070\n",
      "    8850    1410    1758    1220    8000   15072   41450    1530    1390\n",
      "    4370    6000    2580    5160    6536    5000   14970    9080     910\n",
      "   16770    2500    1590    3990   20026   12470    4980   16680   16480\n",
      "    4780    3450    5415   16279    2385     120    1398   20990    5539\n",
      "     270   21220    1253   12550     880    9990    3890   19240    3080\n",
      "     460      70     870   26980   13990   24744    4500    8870     600\n",
      "     440     750    1950   37550   31680    9490   11249     470 1294500\n",
      "    2630    4930    3150   17650    5450    5770    1575   20450   11050\n",
      "    2000    2255    1999    7300   18464    6677    2890    6248    5270\n",
      "    4485    7349    3030      50    9232    9934    2840    8990    8780\n",
      "    4410     350   19280   13769    6681    6260    1130   11135   20100\n",
      "    2722    8885    8585    1980   10195   30990    2359     320    2590\n",
      "    8250     580    5350    3140    1910   17379    4840    6930    5690\n",
      "    6090     740   10440    4880    6590   21550   33405    3525   43990\n",
      "   13390     697    4495    8401    6382    2285   10485    6288   11711\n",
      "    3950   25080    1580   35485    9750   27490    1510    1850    4990\n",
      "    3650   33050    5530   27600    1893   31350     360    5249    6716\n",
      "    3559    5790     604    3550     240    2235   10550    4690   12888\n",
      "    7995    3220     495     265    4790     480    1721    2830     340\n",
      "    1870    2670    2420    3261    1634   39800   12990   25890   18990\n",
      "    3826   18010   10250   17030    5119    9870   13860    8877    4620\n",
      "   43690    1846      90    4190   34550   10765    7024    4698    2030\n",
      "   78990   10850     550   16990     620     654    6613   10160    6400\n",
      "    6440   27390    2050     540   42740    9680    5150     410    3680\n",
      "    5227     590    5776    2390   14495    2070    2555   19520   11688\n",
      "    4180    1399   45880    3050     295   17792   24381    1805   28350\n",
      "    6170    3270    2960    1020   10137   14490   67990   86620    4900\n",
      "   49495    3170   37150   19660   45780   24860    1737    1040    9690\n",
      "    1149    5490    1640     840   12490    4740    3480     785    7890\n",
      "    2600    3739     900    3888    1993   13770   20290    2578    5330\n",
      "    5719    2436    5030    4210    2400    8099    1540    6242   18560\n",
      "     150    4600   13740    2790   19990     980    1120   15416    3410\n",
      "    5840    4170   10170     985   22950    1180    1188    2674    4710\n",
      "   18270     770   93940    7110   12642    4920    3290   35890    4363\n",
      "    6445   58220    3740    3500    1600    1420    1729    3250     450\n",
      "   11440    4188     530   13354   17300    2180     160    1960     359\n",
      "     510   19386      75    1885    4040   25790   13203    2250   34990\n",
      "    3430   19490     720      60    7390    3910   58550     800    7240\n",
      "   18350   18463    3330    6660    4283   60450   24350    9050    5170\n",
      "   28750   11250    1730    5900    2348    3600    1320    3806    2907\n",
      "     971   14990     640    8290    5430     820    4685    2610   14250\n",
      "     130   52900    3490    4390    9800   13070   15500    6674    3404\n",
      "   18557    8439    8340   27985    6645    8640    6060    1720   15450\n",
      "    1800    8950    8280    1825    5688    4240    2061   12150    1280\n",
      "    8777    9300    8590    6015    1170    4650   39500    6585    5050\n",
      "   14000   32610   16920   65710     725    6438   66350    3320   11490\n",
      "    7500    7550   11565    2752   28060    1707    6780    5390    3260\n",
      "   17940   24990    3980    8529    5440    2510   18893   92550   52480\n",
      "    4140    3520    3180    4120     370    6385    9368    3780    1329\n",
      "    3020    6180   25250    4940   10380   15380     112   31550    8600\n",
      "    6490  202740]\n",
      "\n",
      "group\n",
      "['B' 'A']\n",
      "\n"
     ]
    },
    {
     "data": {
      "text/html": [
       "<div>\n",
       "<style scoped>\n",
       "    .dataframe tbody tr th:only-of-type {\n",
       "        vertical-align: middle;\n",
       "    }\n",
       "\n",
       "    .dataframe tbody tr th {\n",
       "        vertical-align: top;\n",
       "    }\n",
       "\n",
       "    .dataframe thead th {\n",
       "        text-align: right;\n",
       "    }\n",
       "</style>\n",
       "<table border=\"1\" class=\"dataframe\">\n",
       "  <thead>\n",
       "    <tr style=\"text-align: right;\">\n",
       "      <th></th>\n",
       "      <th>date</th>\n",
       "      <th>group</th>\n",
       "      <th>visitors</th>\n",
       "    </tr>\n",
       "  </thead>\n",
       "  <tbody>\n",
       "    <tr>\n",
       "      <th>0</th>\n",
       "      <td>2019-08-01</td>\n",
       "      <td>A</td>\n",
       "      <td>719</td>\n",
       "    </tr>\n",
       "    <tr>\n",
       "      <th>1</th>\n",
       "      <td>2019-08-02</td>\n",
       "      <td>A</td>\n",
       "      <td>619</td>\n",
       "    </tr>\n",
       "    <tr>\n",
       "      <th>2</th>\n",
       "      <td>2019-08-03</td>\n",
       "      <td>A</td>\n",
       "      <td>507</td>\n",
       "    </tr>\n",
       "    <tr>\n",
       "      <th>3</th>\n",
       "      <td>2019-08-04</td>\n",
       "      <td>A</td>\n",
       "      <td>717</td>\n",
       "    </tr>\n",
       "    <tr>\n",
       "      <th>4</th>\n",
       "      <td>2019-08-05</td>\n",
       "      <td>A</td>\n",
       "      <td>756</td>\n",
       "    </tr>\n",
       "  </tbody>\n",
       "</table>\n",
       "</div>"
      ],
      "text/plain": [
       "         date group  visitors\n",
       "0  2019-08-01     A       719\n",
       "1  2019-08-02     A       619\n",
       "2  2019-08-03     A       507\n",
       "3  2019-08-04     A       717\n",
       "4  2019-08-05     A       756"
      ]
     },
     "metadata": {},
     "output_type": "display_data"
    },
    {
     "name": "stdout",
     "output_type": "stream",
     "text": [
      "<class 'pandas.core.frame.DataFrame'>\n",
      "RangeIndex: 62 entries, 0 to 61\n",
      "Data columns (total 3 columns):\n",
      " #   Column    Non-Null Count  Dtype \n",
      "---  ------    --------------  ----- \n",
      " 0   date      62 non-null     object\n",
      " 1   group     62 non-null     object\n",
      " 2   visitors  62 non-null     int64 \n",
      "dtypes: int64(1), object(2)\n",
      "memory usage: 1.6+ KB\n"
     ]
    },
    {
     "data": {
      "text/plain": [
       "None"
      ]
     },
     "metadata": {},
     "output_type": "display_data"
    },
    {
     "data": {
      "text/plain": [
       "date        0\n",
       "group       0\n",
       "visitors    0\n",
       "dtype: int64"
      ]
     },
     "metadata": {},
     "output_type": "display_data"
    },
    {
     "name": "stdout",
     "output_type": "stream",
     "text": [
      "Дубликаты: 0\n",
      "\n",
      "date\n",
      "['2019-08-01' '2019-08-02' '2019-08-03' '2019-08-04' '2019-08-05'\n",
      " '2019-08-06' '2019-08-07' '2019-08-08' '2019-08-09' '2019-08-10'\n",
      " '2019-08-11' '2019-08-12' '2019-08-13' '2019-08-14' '2019-08-15'\n",
      " '2019-08-16' '2019-08-17' '2019-08-18' '2019-08-19' '2019-08-20'\n",
      " '2019-08-21' '2019-08-22' '2019-08-23' '2019-08-24' '2019-08-25'\n",
      " '2019-08-26' '2019-08-27' '2019-08-28' '2019-08-29' '2019-08-30'\n",
      " '2019-08-31']\n",
      "\n",
      "group\n",
      "['A' 'B']\n",
      "\n",
      "visitors\n",
      "[719 619 507 717 756 667 644 610 617 406 718 595 748 735 628 361 412 668\n",
      " 502 575 646 609 468 395 621 722 711 594 577 490 699 713 581 509 770 707\n",
      " 655 709 654 369 721 543 769 746 544 413 421 737 487 560 656 650 546 378\n",
      " 679 676 720 531]\n",
      "\n"
     ]
    }
   ],
   "source": [
    "for i in [orders, visitors]:\n",
    "    display(i.head())\n",
    "    display(i.info())\n",
    "    display(i.isna().sum())\n",
    "    print('Дубликаты:', i.duplicated().sum())\n",
    "    print()\n",
    "    for column in i.columns:\n",
    "        print(column)\n",
    "        print(i[column].unique())\n",
    "        print()"
   ]
  },
  {
   "cell_type": "markdown",
   "metadata": {},
   "source": [
    "Пропусков и дубликатов нет, необходима легкая \"косметика\""
   ]
  },
  {
   "cell_type": "code",
   "execution_count": 10,
   "metadata": {},
   "outputs": [],
   "source": [
    "# преобразование типа данных в date\n",
    "orders['date'] = pd.to_datetime(orders['date'])\n",
    "visitors['date'] = pd.to_datetime(visitors['date'])\n",
    "\n",
    "# переименование в стиле snake_case\n",
    "orders.columns = [x.replace('Id', '_id') for x in orders.columns.values]"
   ]
  },
  {
   "cell_type": "markdown",
   "metadata": {},
   "source": [
    "Перед началом анализа результа A/B-теста проверим пользователей на одновременное нахождение в обеих группах"
   ]
  },
  {
   "cell_type": "code",
   "execution_count": 11,
   "metadata": {},
   "outputs": [
    {
     "name": "stdout",
     "output_type": "stream",
     "text": [
      "Пользователей, попавших в обе группы: 58\n",
      "Сумма заказов этих пользователей    : 1558935\n",
      "Количество их заказов               : 181\n"
     ]
    }
   ],
   "source": [
    "doubles = orders.groupby(['visitor_id']).agg({'group' : 'nunique', 'transaction_id' : 'count', 'revenue' : 'sum'}).reset_index()\n",
    "print(f'Пользователей, попавших в обе группы: {doubles[doubles.group != 1][\"visitor_id\"].count()}')\n",
    "print(f\"Сумма заказов этих пользователей    : {doubles[doubles.group != 1]['revenue'].sum()}\")\n",
    "print(f\"Количество их заказов               : {doubles[doubles.group != 1]['transaction_id'].sum()}\")"
   ]
  },
  {
   "cell_type": "markdown",
   "metadata": {},
   "source": [
    "Итого: **58** пользователей находятся сразу **в двух группах** тестирования, они совершили 181 заказ на общую сумму более 1,5 млн"
   ]
  },
  {
   "cell_type": "code",
   "execution_count": 12,
   "metadata": {},
   "outputs": [
    {
     "data": {
      "text/plain": [
       "4.85"
      ]
     },
     "metadata": {},
     "output_type": "display_data"
    }
   ],
   "source": [
    "display(round(doubles[doubles.group != 1][\"visitor_id\"].count() / orders['visitor_id'].count() * 100, 2))"
   ]
  },
  {
   "cell_type": "markdown",
   "metadata": {},
   "source": [
    "Это **менее 5%** от общего количества пользователей - можем их далее не учитывать, **дропаем**"
   ]
  },
  {
   "cell_type": "code",
   "execution_count": 13,
   "metadata": {},
   "outputs": [],
   "source": [
    "drop_list = list(doubles[doubles.group != 1]['visitor_id'])\n",
    "orders = orders.query('visitor_id not in @drop_list')"
   ]
  },
  {
   "cell_type": "markdown",
   "metadata": {},
   "source": [
    "### График кумулятивной выручки по группам"
   ]
  },
  {
   "cell_type": "code",
   "execution_count": 14,
   "metadata": {},
   "outputs": [
    {
     "data": {
      "text/html": [
       "<div>\n",
       "<style scoped>\n",
       "    .dataframe tbody tr th:only-of-type {\n",
       "        vertical-align: middle;\n",
       "    }\n",
       "\n",
       "    .dataframe tbody tr th {\n",
       "        vertical-align: top;\n",
       "    }\n",
       "\n",
       "    .dataframe thead th {\n",
       "        text-align: right;\n",
       "    }\n",
       "</style>\n",
       "<table border=\"1\" class=\"dataframe\">\n",
       "  <thead>\n",
       "    <tr style=\"text-align: right;\">\n",
       "      <th></th>\n",
       "      <th>date</th>\n",
       "      <th>group</th>\n",
       "      <th>orders</th>\n",
       "      <th>buyers</th>\n",
       "      <th>revenue</th>\n",
       "      <th>visitors</th>\n",
       "    </tr>\n",
       "  </thead>\n",
       "  <tbody>\n",
       "    <tr>\n",
       "      <th>0</th>\n",
       "      <td>2019-08-01</td>\n",
       "      <td>A</td>\n",
       "      <td>23</td>\n",
       "      <td>19</td>\n",
       "      <td>142779</td>\n",
       "      <td>719</td>\n",
       "    </tr>\n",
       "    <tr>\n",
       "      <th>1</th>\n",
       "      <td>2019-08-01</td>\n",
       "      <td>B</td>\n",
       "      <td>17</td>\n",
       "      <td>17</td>\n",
       "      <td>59758</td>\n",
       "      <td>713</td>\n",
       "    </tr>\n",
       "    <tr>\n",
       "      <th>2</th>\n",
       "      <td>2019-08-02</td>\n",
       "      <td>A</td>\n",
       "      <td>42</td>\n",
       "      <td>36</td>\n",
       "      <td>234381</td>\n",
       "      <td>1338</td>\n",
       "    </tr>\n",
       "    <tr>\n",
       "      <th>3</th>\n",
       "      <td>2019-08-02</td>\n",
       "      <td>B</td>\n",
       "      <td>40</td>\n",
       "      <td>39</td>\n",
       "      <td>221801</td>\n",
       "      <td>1294</td>\n",
       "    </tr>\n",
       "    <tr>\n",
       "      <th>4</th>\n",
       "      <td>2019-08-03</td>\n",
       "      <td>A</td>\n",
       "      <td>66</td>\n",
       "      <td>60</td>\n",
       "      <td>346854</td>\n",
       "      <td>1845</td>\n",
       "    </tr>\n",
       "  </tbody>\n",
       "</table>\n",
       "</div>"
      ],
      "text/plain": [
       "        date group  orders  buyers  revenue  visitors\n",
       "0 2019-08-01     A      23      19   142779       719\n",
       "1 2019-08-01     B      17      17    59758       713\n",
       "2 2019-08-02     A      42      36   234381      1338\n",
       "3 2019-08-02     B      40      39   221801      1294\n",
       "4 2019-08-03     A      66      60   346854      1845"
      ]
     },
     "metadata": {},
     "output_type": "display_data"
    }
   ],
   "source": [
    "# создаем массив уникальных пар значений дат и групп теста\n",
    "datesGroups = orders[['date','group']].drop_duplicates()\n",
    "\n",
    "# получаем агрегированные кумулятивные по дням данные о заказах \n",
    "ordersAggregated = datesGroups.apply(lambda x: orders[np.logical_and(orders['date'] <= x['date'], orders['group'] == x['group'])].agg({'date' : 'max', 'group' : 'max', 'transaction_id' : 'nunique', 'visitor_id' : 'nunique', 'revenue' : 'sum'}), axis=1).sort_values(by=['date','group'])\n",
    "\n",
    "# получаем агрегированные кумулятивные по дням данные о посетителях интернет-магазина \n",
    "visitorsAggregated = datesGroups.apply(lambda x: visitors[np.logical_and(visitors['date'] <= x['date'], visitors['group'] == x['group'])].agg({'date' : 'max', 'group' : 'max', 'visitors' : 'sum'}), axis=1).sort_values(by=['date','group'])\n",
    "\n",
    "# объединяем кумулятивные данные в одной таблице и присваиваем ее столбцам понятные названия\n",
    "cumulativeData = ordersAggregated.merge(visitorsAggregated, left_on=['date', 'group'], right_on=['date', 'group'])\n",
    "cumulativeData.columns = ['date', 'group', 'orders', 'buyers', 'revenue', 'visitors']\n",
    "\n",
    "display(cumulativeData.head(5))"
   ]
  },
  {
   "cell_type": "code",
   "execution_count": 15,
   "metadata": {},
   "outputs": [
    {
     "data": {
      "image/png": "[encoded data removed]",
      "text/plain": [
       "<Figure size 1080x360 with 1 Axes>"
      ]
     },
     "metadata": {
      "needs_background": "light"
     },
     "output_type": "display_data"
    }
   ],
   "source": [
    "# датафрейм с кумулятивным количеством заказов и кумулятивной выручкой по дням в группе А\n",
    "cumulativeRevenueA = cumulativeData[cumulativeData['group']=='A'][['date','revenue', 'orders']]\n",
    "\n",
    "# датафрейм с кумулятивным количеством заказов и кумулятивной выручкой по дням в группе B\n",
    "cumulativeRevenueB = cumulativeData[cumulativeData['group']=='B'][['date','revenue', 'orders']]\n",
    "\n",
    "plt.figure(figsize=(15,5))\n",
    "\n",
    "# Строим график выручки группы А\n",
    "plt.plot(cumulativeRevenueA['date'], cumulativeRevenueA['revenue'], label='A')\n",
    "\n",
    "# Строим график выручки группы B\n",
    "plt.plot(cumulativeRevenueB['date'], cumulativeRevenueB['revenue'], label='B')\n",
    "\n",
    "plt.title('График кумулятивной выручки по группам', fontsize=15)\n",
    "plt.ylabel(\"Выручка, млн.\", fontsize=15)\n",
    "plt.xticks(rotation=30)\n",
    "plt.legend()\n",
    "plt.show()"
   ]
  },
  {
   "cell_type": "markdown",
   "metadata": {},
   "source": [
    "Из графика видно, что А/В-тест длился весь август 2019г.\n",
    "\n",
    "В первой половине месяца выручка по группам росла примерно равными темпами, и группа В показывала незначительно лучшие результаты. После 17 августа в группе В наблюдается резкий скачок вверх, эта группа существенно оторвалась от А и далее до конца теста темпы прироста выручки практически одинаковы. Возможно, аномальные (крупные) заказы: принимать решение рано, требуется анализ выбросов."
   ]
  },
  {
   "cell_type": "markdown",
   "metadata": {},
   "source": [
    "### График кумулятивного среднего чека по группам"
   ]
  },
  {
   "cell_type": "code",
   "execution_count": 16,
   "metadata": {
    "scrolled": false
   },
   "outputs": [
    {
     "data": {
      "image/png": "[encoded data removed]",
      "text/plain": [
       "<Figure size 1080x360 with 1 Axes>"
      ]
     },
     "metadata": {
      "needs_background": "light"
     },
     "output_type": "display_data"
    }
   ],
   "source": [
    "plt.figure(figsize=(15,5))\n",
    "\n",
    "plt.plot(cumulativeRevenueA['date'], cumulativeRevenueA['revenue']/cumulativeRevenueA['orders'], label='A')\n",
    "\n",
    "plt.plot(cumulativeRevenueB['date'], cumulativeRevenueB['revenue']/cumulativeRevenueB['orders'], label='B')\n",
    "\n",
    "plt.title('График кумулятивного среднего чека по группам', fontsize=15)\n",
    "plt.ylabel('Средний чек', fontsize=15)\n",
    "plt.xticks(rotation=30)\n",
    "plt.legend() \n",
    "plt.show()"
   ]
  },
  {
   "cell_type": "markdown",
   "metadata": {},
   "source": [
    "Средний чек до 17го августа скачет и далее стабилизируется. Видим тот же гигантский скачок в группе В: аномально крупные заказы"
   ]
  },
  {
   "cell_type": "markdown",
   "metadata": {},
   "source": [
    "### График относительного изменения кумулятивного среднего чека группы B к группе A"
   ]
  },
  {
   "cell_type": "code",
   "execution_count": 17,
   "metadata": {
    "scrolled": true
   },
   "outputs": [
    {
     "data": {
      "image/png": "[encoded data removed]",
      "text/plain": [
       "<Figure size 1080x360 with 1 Axes>"
      ]
     },
     "metadata": {
      "needs_background": "light"
     },
     "output_type": "display_data"
    }
   ],
   "source": [
    "# собираем данные в одном датафрейме\n",
    "mergedCumulativeRevenue = cumulativeRevenueA.merge(cumulativeRevenueB, left_on='date', right_on='date', how='left', suffixes=['A', 'B'])\n",
    "\n",
    "plt.figure(figsize=(15,5))\n",
    "\n",
    "# cтроим отношение средних чеков\n",
    "plt.plot(mergedCumulativeRevenue['date'], (mergedCumulativeRevenue['revenueB']/mergedCumulativeRevenue['ordersB'])/(mergedCumulativeRevenue['revenueA']/mergedCumulativeRevenue['ordersA'])-1)\n",
    "\n",
    "# добавляем ось X\n",
    "plt.axhline(y=0, color='black', linestyle='--') \n",
    "\n",
    "plt.title('График относительного различия для среднего чека', fontsize=15)\n",
    "plt.ylabel('(Чек В / Чек А) -1', fontsize=15)\n",
    "plt.xticks(rotation=30)\n",
    "plt.show()"
   ]
  },
  {
   "cell_type": "markdown",
   "metadata": {},
   "source": [
    "Ярко выражены два пика, когда средний чек группы B значительно превосходил показатель группы А, и далее быстро шел на снижение"
   ]
  },
  {
   "cell_type": "markdown",
   "metadata": {},
   "source": [
    "### График кумулятивного среднего количества заказов на посетителя по группам"
   ]
  },
  {
   "cell_type": "code",
   "execution_count": 18,
   "metadata": {},
   "outputs": [
    {
     "data": {
      "image/png": "[encoded data removed]",
      "text/plain": [
       "<Figure size 1080x360 with 1 Axes>"
      ]
     },
     "metadata": {
      "needs_background": "light"
     },
     "output_type": "display_data"
    }
   ],
   "source": [
    "# считаем кумулятивную конверсию\n",
    "cumulativeData['conversion'] = cumulativeData['orders']/cumulativeData['visitors']\n",
    "\n",
    "# отделяем данные по группе A\n",
    "cumulativeDataA = cumulativeData[cumulativeData['group']=='A']\n",
    "\n",
    "# отделяем данные по группе B\n",
    "cumulativeDataB = cumulativeData[cumulativeData['group']=='B']\n",
    "\n",
    "plt.figure(figsize=(15,5))\n",
    "\n",
    "# строим графики\n",
    "plt.plot(cumulativeDataA['date'], cumulativeDataA['conversion'], label='A')\n",
    "plt.plot(cumulativeDataB['date'], cumulativeDataB['conversion'], label='B')\n",
    "\n",
    "plt.title('Кумулятивная конверсия по группам', fontsize=15)\n",
    "plt.ylabel('Конверсия', fontsize=15)\n",
    "plt.xticks(rotation=30)\n",
    "plt.legend()\n",
    "plt.show()\n",
    "\n",
    "# задаем масштаб осей\n",
    "# plt.axis([\"2019-08-01\", '2019-09-01', 0, 0.015]) "
   ]
  },
  {
   "cell_type": "markdown",
   "metadata": {},
   "source": [
    "После 6го августа видим переломный момент: сперва лучше конверсия группы А, но позже резкий скачек выводит на лучшие показатели группу В"
   ]
  },
  {
   "cell_type": "markdown",
   "metadata": {},
   "source": [
    "### График относительного изменения кумулятивного среднего количества заказов на посетителя группы B к группе A"
   ]
  },
  {
   "cell_type": "code",
   "execution_count": 19,
   "metadata": {},
   "outputs": [
    {
     "data": {
      "image/png": "[encoded data removed]",
      "text/plain": [
       "<Figure size 1080x360 with 1 Axes>"
      ]
     },
     "metadata": {
      "needs_background": "light"
     },
     "output_type": "display_data"
    }
   ],
   "source": [
    "mergedCumulativeConversions = cumulativeDataA[['date','conversion']].merge(cumulativeDataB[['date','conversion']], left_on='date', right_on='date', how='left', suffixes=['A', 'B'])\n",
    "\n",
    "plt.figure(figsize=(15,5))\n",
    "\n",
    "plt.plot(mergedCumulativeConversions['date'], mergedCumulativeConversions['conversionB']/mergedCumulativeConversions['conversionA']-1, label=\"Относительный прирост конверсии группы B относительно группы A\")\n",
    "\n",
    "plt.axhline(y=0, color='black', linestyle='--')\n",
    "plt.axhline(y=0.15, color='grey', linestyle='--')\n",
    "\n",
    "plt.title('Относительное изменение кумулятивной конверсии В к А', fontsize=15)\n",
    "plt.ylabel('(конверсия В / конверсия А) -1', fontsize=15)\n",
    "plt.xticks(rotation=30)\n",
    "plt.legend()\n",
    "plt.show()\n",
    "\n",
    "# plt.axis([\"2019-08-01\", '2019-09-01', -0.6, 0.6])"
   ]
  },
  {
   "cell_type": "markdown",
   "metadata": {},
   "source": [
    "Конверсия группы В вскоре после начала теста опередила конверсию А и до конца теста оставалась выше. На графике видны скачки, что может говорить о наличии выбросов в данных"
   ]
  },
  {
   "cell_type": "markdown",
   "metadata": {},
   "source": [
    "### Точечный график количества заказов по пользователям"
   ]
  },
  {
   "cell_type": "code",
   "execution_count": 20,
   "metadata": {},
   "outputs": [
    {
     "data": {
      "text/plain": [
       "count   973.000\n",
       "mean      1.044\n",
       "std       0.238\n",
       "min       1.000\n",
       "25%       1.000\n",
       "50%       1.000\n",
       "75%       1.000\n",
       "max       3.000\n",
       "Name: orders, dtype: float64"
      ]
     },
     "metadata": {},
     "output_type": "display_data"
    },
    {
     "data": {
      "image/png": "[encoded data removed]",
      "text/plain": [
       "<Figure size 1080x360 with 1 Axes>"
      ]
     },
     "metadata": {
      "needs_background": "light"
     },
     "output_type": "display_data"
    }
   ],
   "source": [
    "# Датафрейм с количеством заказов по пользователям:\n",
    "ordersByUsers = orders.drop(['group', 'revenue', 'date'], axis=1).groupby('visitor_id', as_index=False).agg({'transaction_id' : pd.Series.nunique})\n",
    "ordersByUsers.columns = ['visitor_id','orders']\n",
    "\n",
    "display(ordersByUsers['orders'].describe())\n",
    "\n",
    "plt.figure(figsize=(15,5))\n",
    "\n",
    "plt.hist(ordersByUsers['orders']) \n",
    "plt.title('Количество заказов по пользователям', fontsize=12, fontweight='bold')\n",
    "plt.xlabel('Заказы', fontsize=15)\n",
    "plt.ylabel('Количество пользователей', fontsize=15)\n",
    "plt.show()"
   ]
  },
  {
   "cell_type": "code",
   "execution_count": 21,
   "metadata": {},
   "outputs": [
    {
     "data": {
      "image/png": "[encoded data removed]",
      "text/plain": [
       "<Figure size 1080x360 with 1 Axes>"
      ]
     },
     "metadata": {
      "needs_background": "light"
     },
     "output_type": "display_data"
    }
   ],
   "source": [
    "# Построим точечную диаграмму числа заказов на одного пользователя:\n",
    "x_values = pd.Series(range(0, len(ordersByUsers)))\n",
    "\n",
    "plt.figure(figsize=(15,5))\n",
    "plt.title('Количество заказов по пользователям', fontsize=15)\n",
    "plt.scatter(x_values, ordersByUsers['orders']) \n",
    "plt.show()"
   ]
  },
  {
   "cell_type": "markdown",
   "metadata": {},
   "source": [
    "Большинство пользователей совершали 1 заказ (непрерывная линия показывает это), оставшиеся значения 2 и 3 больше похожи на выбросы"
   ]
  },
  {
   "cell_type": "markdown",
   "metadata": {},
   "source": [
    "### 95-й и 99-й перцентили количества заказов на пользователя, граница для определения аномальных пользователей"
   ]
  },
  {
   "cell_type": "code",
   "execution_count": 22,
   "metadata": {},
   "outputs": [
    {
     "data": {
      "text/plain": [
       "array([1., 2.])"
      ]
     },
     "metadata": {},
     "output_type": "display_data"
    }
   ],
   "source": [
    "display(np.percentile(ordersByUsers['orders'], [95,99]))"
   ]
  },
  {
   "cell_type": "markdown",
   "metadata": {},
   "source": [
    "5% пользователей сделали больше 1 заказов, и 1% пользователей сделали больше 2х. Разумно выбрать 1 заказа на одного пользователя за нижнюю границу числа заказов, и убрать аномальных пользователей по ней."
   ]
  },
  {
   "cell_type": "markdown",
   "metadata": {},
   "source": [
    "### Точечный график стоимостей заказов"
   ]
  },
  {
   "cell_type": "code",
   "execution_count": 23,
   "metadata": {},
   "outputs": [
    {
     "data": {
      "text/plain": [
       "count       1,016.000\n",
       "mean        8,300.815\n",
       "std        42,121.992\n",
       "min            50.000\n",
       "25%         1,190.000\n",
       "50%         2,955.000\n",
       "75%         8,134.250\n",
       "max     1,294,500.000\n",
       "Name: revenue, dtype: float64"
      ]
     },
     "metadata": {},
     "output_type": "display_data"
    },
    {
     "data": {
      "image/png": "[encoded data removed]",
      "text/plain": [
       "<Figure size 1080x360 with 1 Axes>"
      ]
     },
     "metadata": {
      "needs_background": "light"
     },
     "output_type": "display_data"
    }
   ],
   "source": [
    "display(orders['revenue'].describe())\n",
    "\n",
    "x_values = pd.Series(range(0,len(orders['revenue'])))\n",
    "\n",
    "plt.figure(figsize=(15,5))\n",
    "\n",
    "plt.scatter(x_values, orders['revenue']) \n",
    "plt.title('Точечный график стоимостей заказов', fontsize=15)\n",
    "plt.xlabel('Количество заказов', fontsize=15)\n",
    "plt.ylabel('Стоимость заказа', fontsize=15)\n",
    "plt.show()"
   ]
  },
  {
   "cell_type": "markdown",
   "metadata": {},
   "source": [
    "Видим выброс - заказ стоимость 1,3 млн. Также немного выбивается заказ стоимость 200 тысяч, в среднем, даже большие заказы не превышают 100 тысяч"
   ]
  },
  {
   "cell_type": "code",
   "execution_count": 24,
   "metadata": {},
   "outputs": [
    {
     "data": {
      "image/png": "[encoded data removed]",
      "text/plain": [
       "<Figure size 1080x360 with 1 Axes>"
      ]
     },
     "metadata": {
      "needs_background": "light"
     },
     "output_type": "display_data"
    }
   ],
   "source": [
    "x_values = pd.Series(range(0,len(orders['revenue'])))\n",
    "\n",
    "plt.figure(figsize=(15,5))\n",
    "\n",
    "plt.title('Точечный график стоимостей заказов', fontsize=15)\n",
    "plt.xlabel('Количество заказов', fontsize=15)\n",
    "plt.ylabel('Стоимость заказа', fontsize=15)\n",
    "\n",
    "# детализируем заказы до 100 000\n",
    "plt.ylim([0,100000])\n",
    "plt.scatter(x_values, orders['revenue'], c=orders['group'].map({'A': 'blue', 'B': 'green'}), alpha=0.4);"
   ]
  },
  {
   "cell_type": "markdown",
   "metadata": {},
   "source": [
    "Заказы укладываются в отметку до 20 000"
   ]
  },
  {
   "cell_type": "markdown",
   "metadata": {},
   "source": [
    "### 95-й и 99-й перцентили стоимости заказов, граница для определения аномальных заказов"
   ]
  },
  {
   "cell_type": "code",
   "execution_count": 25,
   "metadata": {},
   "outputs": [
    {
     "data": {
      "text/plain": [
       "array([26785., 53904.])"
      ]
     },
     "metadata": {},
     "output_type": "display_data"
    }
   ],
   "source": [
    "display(np.percentile(orders['revenue'], [95,99]))"
   ]
  },
  {
   "cell_type": "markdown",
   "metadata": {},
   "source": [
    "Лишь 5% пользователей совершают покупку на сумму больше 26 785, и лишь 1% - на сумму больше 53 904.\n",
    "\n",
    "Все заказы, дороже 27 000 - считаем аномалией"
   ]
  },
  {
   "cell_type": "markdown",
   "metadata": {},
   "source": [
    "### Статистическая значимость различий в среднем количестве заказов на посетителя между группами по «сырым» данным"
   ]
  },
  {
   "cell_type": "code",
   "execution_count": 26,
   "metadata": {},
   "outputs": [
    {
     "data": {
      "text/html": [
       "<div>\n",
       "<style scoped>\n",
       "    .dataframe tbody tr th:only-of-type {\n",
       "        vertical-align: middle;\n",
       "    }\n",
       "\n",
       "    .dataframe tbody tr th {\n",
       "        vertical-align: top;\n",
       "    }\n",
       "\n",
       "    .dataframe thead th {\n",
       "        text-align: right;\n",
       "    }\n",
       "</style>\n",
       "<table border=\"1\" class=\"dataframe\">\n",
       "  <thead>\n",
       "    <tr style=\"text-align: right;\">\n",
       "      <th></th>\n",
       "      <th>date</th>\n",
       "      <th>ordersPerDateA</th>\n",
       "      <th>revenuePerDateA</th>\n",
       "      <th>ordersPerDateB</th>\n",
       "      <th>revenuePerDateB</th>\n",
       "      <th>ordersCummulativeA</th>\n",
       "      <th>revenueCummulativeA</th>\n",
       "      <th>ordersCummulativeB</th>\n",
       "      <th>revenueCummulativeB</th>\n",
       "      <th>visitorsPerDateA</th>\n",
       "      <th>visitorsPerDateB</th>\n",
       "      <th>visitorsCummulativeA</th>\n",
       "      <th>visitorsCummulativeB</th>\n",
       "    </tr>\n",
       "  </thead>\n",
       "  <tbody>\n",
       "    <tr>\n",
       "      <th>0</th>\n",
       "      <td>2019-08-01</td>\n",
       "      <td>23</td>\n",
       "      <td>142779</td>\n",
       "      <td>17</td>\n",
       "      <td>59758</td>\n",
       "      <td>23</td>\n",
       "      <td>142779</td>\n",
       "      <td>17</td>\n",
       "      <td>59758</td>\n",
       "      <td>719</td>\n",
       "      <td>713</td>\n",
       "      <td>719</td>\n",
       "      <td>713</td>\n",
       "    </tr>\n",
       "    <tr>\n",
       "      <th>1</th>\n",
       "      <td>2019-08-02</td>\n",
       "      <td>19</td>\n",
       "      <td>91602</td>\n",
       "      <td>23</td>\n",
       "      <td>162043</td>\n",
       "      <td>42</td>\n",
       "      <td>234381</td>\n",
       "      <td>40</td>\n",
       "      <td>221801</td>\n",
       "      <td>619</td>\n",
       "      <td>581</td>\n",
       "      <td>1338</td>\n",
       "      <td>1294</td>\n",
       "    </tr>\n",
       "    <tr>\n",
       "      <th>2</th>\n",
       "      <td>2019-08-03</td>\n",
       "      <td>24</td>\n",
       "      <td>112473</td>\n",
       "      <td>14</td>\n",
       "      <td>67049</td>\n",
       "      <td>66</td>\n",
       "      <td>346854</td>\n",
       "      <td>54</td>\n",
       "      <td>288850</td>\n",
       "      <td>507</td>\n",
       "      <td>509</td>\n",
       "      <td>1845</td>\n",
       "      <td>1803</td>\n",
       "    </tr>\n",
       "    <tr>\n",
       "      <th>3</th>\n",
       "      <td>2019-08-04</td>\n",
       "      <td>11</td>\n",
       "      <td>41176</td>\n",
       "      <td>14</td>\n",
       "      <td>96890</td>\n",
       "      <td>77</td>\n",
       "      <td>388030</td>\n",
       "      <td>68</td>\n",
       "      <td>385740</td>\n",
       "      <td>717</td>\n",
       "      <td>770</td>\n",
       "      <td>2562</td>\n",
       "      <td>2573</td>\n",
       "    </tr>\n",
       "    <tr>\n",
       "      <th>4</th>\n",
       "      <td>2019-08-05</td>\n",
       "      <td>22</td>\n",
       "      <td>86383</td>\n",
       "      <td>21</td>\n",
       "      <td>89908</td>\n",
       "      <td>99</td>\n",
       "      <td>474413</td>\n",
       "      <td>89</td>\n",
       "      <td>475648</td>\n",
       "      <td>756</td>\n",
       "      <td>707</td>\n",
       "      <td>3318</td>\n",
       "      <td>3280</td>\n",
       "    </tr>\n",
       "  </tbody>\n",
       "</table>\n",
       "</div>"
      ],
      "text/plain": [
       "        date  ordersPerDateA  revenuePerDateA  ordersPerDateB  \\\n",
       "0 2019-08-01              23           142779              17   \n",
       "1 2019-08-02              19            91602              23   \n",
       "2 2019-08-03              24           112473              14   \n",
       "3 2019-08-04              11            41176              14   \n",
       "4 2019-08-05              22            86383              21   \n",
       "\n",
       "   revenuePerDateB  ordersCummulativeA  revenueCummulativeA  \\\n",
       "0            59758                  23               142779   \n",
       "1           162043                  42               234381   \n",
       "2            67049                  66               346854   \n",
       "3            96890                  77               388030   \n",
       "4            89908                  99               474413   \n",
       "\n",
       "   ordersCummulativeB  revenueCummulativeB  visitorsPerDateA  \\\n",
       "0                  17                59758               719   \n",
       "1                  40               221801               619   \n",
       "2                  54               288850               507   \n",
       "3                  68               385740               717   \n",
       "4                  89               475648               756   \n",
       "\n",
       "   visitorsPerDateB  visitorsCummulativeA  visitorsCummulativeB  \n",
       "0               713                   719                   713  \n",
       "1               581                  1338                  1294  \n",
       "2               509                  1845                  1803  \n",
       "3               770                  2562                  2573  \n",
       "4               707                  3318                  3280  "
      ]
     },
     "metadata": {},
     "output_type": "display_data"
    }
   ],
   "source": [
    "# Подготовим датафрейм с фактическими и кумулятивными данными по дням\n",
    "\n",
    "visitorsADaily = visitors[visitors['group']=='A'][['date', 'visitors']]\n",
    "visitorsADaily.columns = ['date', 'visitorsPerDateA']\n",
    "\n",
    "visitorsACummulative = (visitorsADaily\n",
    "                        .apply(lambda x: visitorsADaily[visitorsADaily['date'] <= x['date']]\n",
    "                               .agg({'date':'max', 'visitorsPerDateA':'sum'}), axis=1)\n",
    "                       )\n",
    "visitorsACummulative.columns = ['date', 'visitorsCummulativeA']\n",
    "\n",
    "visitorsBDaily = visitors[visitors['group']=='B'][['date', 'visitors']]\n",
    "visitorsBDaily.columns = ['date', 'visitorsPerDateB']\n",
    "\n",
    "visitorsBCummulative = (visitorsBDaily\n",
    "                        .apply(lambda x: visitorsBDaily[visitorsBDaily['date'] <= x['date']]\n",
    "                               .agg({'date':'max', 'visitorsPerDateB':'sum'}), axis=1)\n",
    "                       )\n",
    "visitorsBCummulative.columns = ['date', 'visitorsCummulativeB']\n",
    "\n",
    "ordersADaily = (orders[orders['group']=='A'][['date', 'transaction_id', 'visitor_id', 'revenue']]\n",
    "                .groupby('date', as_index=False)\n",
    "                .agg({'transaction_id':pd.Series.nunique, 'revenue':'sum'})\n",
    "               )\n",
    "ordersADaily.columns = ['date', 'ordersPerDateA', 'revenuePerDateA']\n",
    "\n",
    "ordersACummulative = (ordersADaily\n",
    "                      .apply(lambda x:ordersADaily[ordersADaily['date'] <= x['date']]\n",
    "                             .agg({\n",
    "                                    'date':'max',\n",
    "                                    'ordersPerDateA':'sum',\n",
    "                                    'revenuePerDateA':'sum'}), axis=1)\n",
    "                      .sort_values(by=['date'])\n",
    "                     )\n",
    "ordersACummulative.columns = ['date', 'ordersCummulativeA', 'revenueCummulativeA']\n",
    "\n",
    "ordersBDaily = (orders[orders['group']=='B'][['date', 'transaction_id', 'visitor_id', 'revenue']]\n",
    "                .groupby('date', as_index=False)\n",
    "                .agg({'transaction_id':pd.Series.nunique, 'revenue':'sum'})\n",
    "               )\n",
    "ordersBDaily.columns = ['date', 'ordersPerDateB', 'revenuePerDateB']\n",
    "\n",
    "ordersBCummulative = (ordersBDaily\n",
    "                      .apply(lambda x: ordersBDaily[ordersBDaily['date'] <= x['date']]\n",
    "                             .agg({\n",
    "                                    'date':'max',\n",
    "                                    'ordersPerDateB':'sum',\n",
    "                                    'revenuePerDateB' : 'sum'}), axis=1)\n",
    "                      .sort_values(by=['date'])\n",
    "                     )\n",
    "ordersBCummulative.columns = ['date', 'ordersCummulativeB', 'revenueCummulativeB']\n",
    "\n",
    "data = (ordersADaily\n",
    "        .merge(ordersBDaily, left_on='date', right_on='date', how='left')\n",
    "        .merge(ordersACummulative, left_on='date', right_on='date', how='left')\n",
    "        .merge(ordersBCummulative, left_on='date', right_on='date', how='left')\n",
    "        .merge(visitorsADaily, left_on='date', right_on='date', how='left')\n",
    "        .merge(visitorsBDaily, left_on='date', right_on='date', how='left')\n",
    "        .merge(visitorsACummulative, left_on='date', right_on='date', how='left')\n",
    "        .merge(visitorsBCummulative, left_on='date', right_on='date', how='left')\n",
    "       )\n",
    "\n",
    "display(data.head(5))"
   ]
  },
  {
   "cell_type": "code",
   "execution_count": 27,
   "metadata": {},
   "outputs": [],
   "source": [
    "# Создадим для каждой группы датафрейм с количеством заказов на пользователя\n",
    "\n",
    "ordersByUsersA = orders[orders['group']=='A'].groupby('visitor_id', as_index=False).agg({'transaction_id':pd.Series.nunique})\n",
    "ordersByUsersA.columns = ['visitor_id', 'orders']\n",
    "\n",
    "ordersByUsersB = orders[orders['group']=='B'].groupby('visitor_id', as_index=False).agg({'transaction_id':pd.Series.nunique})\n",
    "ordersByUsersB.columns = ['visitor_id', 'orders']\n",
    "\n",
    "# Создадим списки с числом заказов каждого пользователя, включая нули:\n",
    "\n",
    "sampleA = pd.concat([ordersByUsersA['orders'],\n",
    "                     pd.Series(0, index=np.arange(data['visitorsPerDateA'].sum() - len(ordersByUsersA['orders'])), name='orders')],axis=0)\n",
    "sampleB = pd.concat([ordersByUsersB['orders'],\n",
    "                     pd.Series(0, index=np.arange(data['visitorsPerDateB'].sum() - len(ordersByUsersB['orders'])), name='orders')],axis=0)"
   ]
  },
  {
   "cell_type": "markdown",
   "metadata": {},
   "source": [
    "Определим гипотезы:\n",
    "\n",
    "**H₀** - статистически значимых различий в конверсии между группами нет\n",
    "\n",
    "**H₁** - статистически значимые различия в конверсии между группами есть"
   ]
  },
  {
   "cell_type": "markdown",
   "metadata": {},
   "source": [
    "**alpha = 0.05**"
   ]
  },
  {
   "cell_type": "code",
   "execution_count": 28,
   "metadata": {},
   "outputs": [
    {
     "name": "stdout",
     "output_type": "stream",
     "text": [
      "p-value                  = 0.011\n",
      "Относительный показатель = 0.160\n"
     ]
    }
   ],
   "source": [
    "# Применим статистический критерий Манна-Уитни\n",
    "\n",
    "print(\"p-value                  = {0:.3f}\".format(stats.mannwhitneyu(sampleA, sampleB)[1]))\n",
    "print(\"Относительный показатель = {0:.3f}\".format(sampleB.mean() / sampleA.mean() - 1))"
   ]
  },
  {
   "cell_type": "markdown",
   "metadata": {},
   "source": [
    "p-value (0.011) меньше 0.05: отвергаем нулевую гипотезу об отсутствии значимых различий в конверсии между группами.\n",
    "\n",
    "По «сырым» данным различия в конверсии групп A и B есть, относительное преимущество группы B над A равно 16%."
   ]
  },
  {
   "cell_type": "markdown",
   "metadata": {},
   "source": [
    "### Статистическая значимость различий в среднем чеке заказа между группами по «сырым» данным"
   ]
  },
  {
   "cell_type": "markdown",
   "metadata": {},
   "source": [
    "**H₀** - статистически значимых различий в среднем чеке между группами нет\n",
    "\n",
    "**H₁** - статистически значимые различия в среднем чеке между группами есть"
   ]
  },
  {
   "cell_type": "code",
   "execution_count": 29,
   "metadata": {},
   "outputs": [
    {
     "name": "stdout",
     "output_type": "stream",
     "text": [
      "p-value                  = 0.829\n",
      "Относительный показатель = 0.287\n"
     ]
    }
   ],
   "source": [
    "print(\"p-value                  = {0:.3f}\".format(stats.mannwhitneyu(orders[orders['group']=='A']['revenue'], orders[orders['group']=='B']['revenue'])[1], alternative=\"two-sided\"))\n",
    "print(\"Относительный показатель = {0:.3f}\".format(orders[orders['group']=='B']['revenue'].mean()/orders[orders['group']=='A']['revenue'].mean()-1))"
   ]
  },
  {
   "cell_type": "markdown",
   "metadata": {},
   "source": [
    "p-value больше alpha: не можем отвергнуть нулевую гипотезу об отсутствии значимых различий в среднем чеке между группами.\n",
    "\n",
    "По «сырым» данным чеки групп A и B схожи, относительное преимущество группы B над A равно 28,7%."
   ]
  },
  {
   "cell_type": "markdown",
   "metadata": {},
   "source": [
    "### Статистическая значимость различий в среднем количестве заказов на посетителя между группами по «очищенным» данным"
   ]
  },
  {
   "cell_type": "markdown",
   "metadata": {},
   "source": [
    "Выделим из базы аномальных пользователей: совершивших более 1-го заказа или сумма заказа которых превышает 27 000"
   ]
  },
  {
   "cell_type": "code",
   "execution_count": 30,
   "metadata": {},
   "outputs": [
    {
     "name": "stdout",
     "output_type": "stream",
     "text": [
      "Количество аномальных пользователей: 58\n"
     ]
    }
   ],
   "source": [
    "usersWithManyOrders = pd.concat([ordersByUsersA[ordersByUsersA['orders'] > (np.percentile(ordersByUsers['orders'], [95, 99])[0]+1)]['visitor_id'], ordersByUsersB[ordersByUsersB['orders'] > (np.percentile(ordersByUsers['orders'], [95, 99])[0]+1)]['visitor_id']], axis = 0)\n",
    "usersWithExpensiveOrders = orders[orders['revenue'] > np.percentile(orders['revenue'], [95, 99])[0]]['visitor_id']\n",
    "abnormalUsers = pd.concat([usersWithManyOrders, usersWithExpensiveOrders], axis = 0).drop_duplicates().sort_values()\n",
    "print('Количество аномальных пользователей:', abnormalUsers.shape[0])"
   ]
  },
  {
   "cell_type": "code",
   "execution_count": 31,
   "metadata": {},
   "outputs": [],
   "source": [
    "# Создадим списки с числом заказов каждого пользователя по очищенным данным:\n",
    "\n",
    "sampleAFiltered = pd.concat([ordersByUsersA[~(ordersByUsersA['visitor_id'].isin(abnormalUsers))]['orders'],pd.Series(0, index=np.arange(data['visitorsPerDateA'].sum() - len(ordersByUsersA['orders'])),name='orders')],axis=0)\n",
    "sampleBFiltered = pd.concat([ordersByUsersB[~(ordersByUsersB['visitor_id'].isin(abnormalUsers))]['orders'],pd.Series(0, index=np.arange(data['visitorsPerDateB'].sum() - len(ordersByUsersB['orders'])),name='orders')],axis=0)"
   ]
  },
  {
   "cell_type": "markdown",
   "metadata": {},
   "source": [
    "**H₀** - статистически значимых различий в конверсии между группами нет\n",
    "\n",
    "**H₁** - статистически значимые различия в конверсии между группами есть"
   ]
  },
  {
   "cell_type": "code",
   "execution_count": 32,
   "metadata": {},
   "outputs": [
    {
     "name": "stdout",
     "output_type": "stream",
     "text": [
      "p-value                  = 0.012\n",
      "Относительный показатель = 0.182\n"
     ]
    }
   ],
   "source": [
    "print(\"p-value                  = {0:.3f}\".format(stats.mannwhitneyu(sampleAFiltered, sampleBFiltered)[1]))\n",
    "print(\"Относительный показатель = {0:.3f}\".format(sampleBFiltered.mean() / sampleAFiltered.mean() - 1))"
   ]
  },
  {
   "cell_type": "markdown",
   "metadata": {},
   "source": [
    "p-value меньше alpha: отвергаем нулевую гипотезу об отсутствии значимых различий в конверсии между группами.\n",
    "\n",
    "По «чистым» данным различия в конверсии групп A и B есть, относительное преимущество группы B над A равно 18,2%."
   ]
  },
  {
   "cell_type": "markdown",
   "metadata": {},
   "source": [
    "### Статистическая значимость различий в среднем чеке заказа между группами по «очищенным» данным"
   ]
  },
  {
   "cell_type": "markdown",
   "metadata": {},
   "source": [
    "**H₀** - статистически значимых различий в средних чеках между группами нет\n",
    "\n",
    "**H₁** - статистически значимые различия в средних чеках между группами есть"
   ]
  },
  {
   "cell_type": "code",
   "execution_count": 33,
   "metadata": {},
   "outputs": [
    {
     "name": "stdout",
     "output_type": "stream",
     "text": [
      "p-value                  = 0.646\n",
      "Относительный показатель = -0.048\n"
     ]
    }
   ],
   "source": [
    "print(\"p-value                  = {0:.3f}\".format(stats.mannwhitneyu(orders[(orders['group']=='A') & ~(orders['visitor_id'].isin(abnormalUsers))]['revenue'], orders[(orders['group']=='B') & ~(orders['visitor_id'].isin(abnormalUsers))]['revenue'])[1], alternative=\"two-sided\"))\n",
    "print(\"Относительный показатель = {0:.3f}\".format(orders[(orders['group']=='B') & ~(orders['visitor_id'].isin(abnormalUsers))]['revenue'].mean()/orders[(orders['group']=='A') & ~(orders['visitor_id'].isin(abnormalUsers))]['revenue'].mean()-1))"
   ]
  },
  {
   "cell_type": "markdown",
   "metadata": {},
   "source": [
    "p-value больше alpha: не можем отвергнуть нулевую гипотезу об отсутствии значимых различий в среднем чеке между группами.\n",
    "\n",
    "По «чистым» данным чеки групп A и B схожи, относительное преимущество группы А над В равно 48%."
   ]
  },
  {
   "cell_type": "markdown",
   "metadata": {},
   "source": [
    "### Решение по результатам теста"
   ]
  },
  {
   "cell_type": "markdown",
   "metadata": {},
   "source": [
    "**По сырым данным**\n",
    "\n",
    "Среднее количество заказов на посетителя между группами\n",
    "* различия - есть\n",
    "* преимущество группы В над А - 16%\n",
    "\n",
    "Средний чек заказа между группами\n",
    "* различия - нет\n",
    "* преимущество группы В над А - 28.7%\n",
    "\n",
    "**По очищенным данным**\n",
    "\n",
    "Среднее количество заказов на посетителя между группами\n",
    "* различия - есть\n",
    "* преимущество группы В над А - 18.2\n",
    "\n",
    "Средний чек заказа между группами\n",
    "* различия - нет\n",
    "* преимущество группы А над В - 48%\n",
    "\n",
    "**Решение по А/В тесту**\n",
    "\n",
    "Остановить тестирование: признать группу В победителем."
   ]
  }
 ],
 "metadata": {
  "ExecuteTimeLog": [
   {
    "duration": 1351,
    "start_time": "2023-02-19T23:34:39.760Z"
   },
   {
    "duration": 3,
    "start_time": "2023-02-19T23:34:52.828Z"
   },
   {
    "duration": 2,
    "start_time": "2023-02-19T23:36:51.458Z"
   },
   {
    "duration": 4,
    "start_time": "2023-02-19T23:37:32.506Z"
   },
   {
    "duration": 285,
    "start_time": "2023-02-19T23:39:38.322Z"
   },
   {
    "duration": 26,
    "start_time": "2023-02-19T23:40:03.082Z"
   },
   {
    "duration": 21,
    "start_time": "2023-02-19T23:40:21.586Z"
   },
   {
    "duration": 5,
    "start_time": "2023-02-19T23:42:33.990Z"
   },
   {
    "duration": 13,
    "start_time": "2023-02-19T23:42:37.463Z"
   },
   {
    "duration": 4,
    "start_time": "2023-02-19T23:43:06.103Z"
   },
   {
    "duration": 15,
    "start_time": "2023-02-19T23:43:09.327Z"
   },
   {
    "duration": 3,
    "start_time": "2023-02-20T00:26:51.018Z"
   },
   {
    "duration": 9,
    "start_time": "2023-02-20T00:27:00.929Z"
   },
   {
    "duration": 6,
    "start_time": "2023-02-20T00:30:15.278Z"
   },
   {
    "duration": 10,
    "start_time": "2023-02-20T00:31:54.156Z"
   },
   {
    "duration": 9,
    "start_time": "2023-02-20T00:32:22.907Z"
   },
   {
    "duration": 4,
    "start_time": "2023-02-20T00:37:14.591Z"
   },
   {
    "duration": 5,
    "start_time": "2023-02-20T00:38:04.135Z"
   },
   {
    "duration": 8,
    "start_time": "2023-02-20T00:38:08.016Z"
   },
   {
    "duration": 5,
    "start_time": "2023-02-20T00:38:38.846Z"
   },
   {
    "duration": 8,
    "start_time": "2023-02-20T00:38:42.047Z"
   },
   {
    "duration": 5,
    "start_time": "2023-02-20T00:38:55.951Z"
   },
   {
    "duration": 9,
    "start_time": "2023-02-20T00:38:58.407Z"
   },
   {
    "duration": 9,
    "start_time": "2023-02-20T00:39:05.430Z"
   },
   {
    "duration": 259,
    "start_time": "2023-02-20T00:44:19.396Z"
   },
   {
    "duration": 121,
    "start_time": "2023-02-20T00:44:58.683Z"
   },
   {
    "duration": 21,
    "start_time": "2023-02-20T00:45:02.419Z"
   },
   {
    "duration": 271,
    "start_time": "2023-02-20T00:45:11.802Z"
   },
   {
    "duration": 256,
    "start_time": "2023-02-20T00:46:26.962Z"
   },
   {
    "duration": 278,
    "start_time": "2023-02-20T00:46:53.289Z"
   },
   {
    "duration": 246,
    "start_time": "2023-02-20T00:47:13.384Z"
   },
   {
    "duration": 244,
    "start_time": "2023-02-20T00:47:28.720Z"
   },
   {
    "duration": 317,
    "start_time": "2023-02-20T00:47:50.495Z"
   },
   {
    "duration": 252,
    "start_time": "2023-02-20T00:48:02.216Z"
   },
   {
    "duration": 272,
    "start_time": "2023-02-20T00:48:24.497Z"
   },
   {
    "duration": 246,
    "start_time": "2023-02-20T00:49:10.079Z"
   },
   {
    "duration": 154,
    "start_time": "2023-02-20T00:49:51.703Z"
   },
   {
    "duration": 233,
    "start_time": "2023-02-20T00:50:03.350Z"
   },
   {
    "duration": 244,
    "start_time": "2023-02-20T00:50:16.998Z"
   },
   {
    "duration": 246,
    "start_time": "2023-02-20T00:50:28.888Z"
   },
   {
    "duration": 248,
    "start_time": "2023-02-20T00:50:38.502Z"
   },
   {
    "duration": 272,
    "start_time": "2023-02-20T00:50:51.910Z"
   },
   {
    "duration": 240,
    "start_time": "2023-02-20T00:51:04.205Z"
   },
   {
    "duration": 352,
    "start_time": "2023-02-20T00:51:25.509Z"
   },
   {
    "duration": 255,
    "start_time": "2023-02-20T00:51:35.893Z"
   },
   {
    "duration": 248,
    "start_time": "2023-02-20T00:51:47.261Z"
   },
   {
    "duration": 267,
    "start_time": "2023-02-20T00:51:52.980Z"
   },
   {
    "duration": 229,
    "start_time": "2023-02-20T00:52:39.276Z"
   },
   {
    "duration": 244,
    "start_time": "2023-02-20T00:52:57.212Z"
   },
   {
    "duration": 10,
    "start_time": "2023-02-20T00:54:36.737Z"
   },
   {
    "duration": 9,
    "start_time": "2023-02-20T00:54:53.170Z"
   },
   {
    "duration": 8,
    "start_time": "2023-02-20T00:55:21.997Z"
   },
   {
    "duration": 1108,
    "start_time": "2023-02-20T01:07:29.533Z"
   },
   {
    "duration": 4,
    "start_time": "2023-02-20T01:07:30.642Z"
   },
   {
    "duration": 86,
    "start_time": "2023-02-20T01:07:30.647Z"
   },
   {
    "duration": 18,
    "start_time": "2023-02-20T01:07:30.735Z"
   },
   {
    "duration": 5,
    "start_time": "2023-02-20T01:07:30.755Z"
   },
   {
    "duration": 26,
    "start_time": "2023-02-20T01:07:30.761Z"
   },
   {
    "duration": 281,
    "start_time": "2023-02-20T01:07:30.789Z"
   },
   {
    "duration": 260,
    "start_time": "2023-02-20T01:07:31.071Z"
   },
   {
    "duration": 52,
    "start_time": "2023-02-21T09:52:50.414Z"
   },
   {
    "duration": 2604,
    "start_time": "2023-02-21T09:53:15.063Z"
   },
   {
    "duration": 3,
    "start_time": "2023-02-21T09:53:17.669Z"
   },
   {
    "duration": 267,
    "start_time": "2023-02-21T09:53:17.673Z"
   },
   {
    "duration": 19,
    "start_time": "2023-02-21T09:53:17.942Z"
   },
   {
    "duration": 3,
    "start_time": "2023-02-21T09:53:17.963Z"
   },
   {
    "duration": 9,
    "start_time": "2023-02-21T09:53:17.968Z"
   },
   {
    "duration": 350,
    "start_time": "2023-02-21T09:53:17.978Z"
   },
   {
    "duration": 291,
    "start_time": "2023-02-21T09:53:18.329Z"
   },
   {
    "duration": 39,
    "start_time": "2023-02-21T09:53:18.622Z"
   },
   {
    "duration": 13,
    "start_time": "2023-02-21T09:56:47.483Z"
   },
   {
    "duration": 47,
    "start_time": "2023-02-21T09:57:14.501Z"
   },
   {
    "duration": 15,
    "start_time": "2023-02-21T09:59:09.013Z"
   },
   {
    "duration": 9,
    "start_time": "2023-02-21T10:00:19.405Z"
   },
   {
    "duration": 16,
    "start_time": "2023-02-21T10:00:22.160Z"
   },
   {
    "duration": 6,
    "start_time": "2023-02-21T10:00:36.816Z"
   },
   {
    "duration": 16,
    "start_time": "2023-02-21T10:00:39.119Z"
   },
   {
    "duration": 8,
    "start_time": "2023-02-21T10:01:15.761Z"
   },
   {
    "duration": 18,
    "start_time": "2023-02-21T10:01:18.719Z"
   },
   {
    "duration": 1174,
    "start_time": "2023-02-21T10:02:51.270Z"
   },
   {
    "duration": 3,
    "start_time": "2023-02-21T10:02:52.446Z"
   },
   {
    "duration": 99,
    "start_time": "2023-02-21T10:02:52.451Z"
   },
   {
    "duration": 21,
    "start_time": "2023-02-21T10:02:52.552Z"
   },
   {
    "duration": 3,
    "start_time": "2023-02-21T10:02:52.575Z"
   },
   {
    "duration": 40,
    "start_time": "2023-02-21T10:02:52.579Z"
   },
   {
    "duration": 311,
    "start_time": "2023-02-21T10:02:52.621Z"
   },
   {
    "duration": 327,
    "start_time": "2023-02-21T10:02:52.933Z"
   },
   {
    "duration": 68,
    "start_time": "2023-02-21T10:02:53.261Z"
   },
   {
    "duration": 7,
    "start_time": "2023-02-21T10:02:53.331Z"
   },
   {
    "duration": 13,
    "start_time": "2023-02-21T10:02:53.340Z"
   },
   {
    "duration": 8,
    "start_time": "2023-02-21T11:21:43.834Z"
   },
   {
    "duration": 10,
    "start_time": "2023-02-21T11:22:01.562Z"
   },
   {
    "duration": 20,
    "start_time": "2023-02-21T11:22:46.283Z"
   },
   {
    "duration": 4,
    "start_time": "2023-02-21T11:34:41.802Z"
   },
   {
    "duration": 5,
    "start_time": "2023-02-21T11:38:05.561Z"
   },
   {
    "duration": 6,
    "start_time": "2023-02-21T11:38:15.163Z"
   },
   {
    "duration": 6,
    "start_time": "2023-02-21T11:38:34.799Z"
   },
   {
    "duration": 5,
    "start_time": "2023-02-21T11:39:14.302Z"
   },
   {
    "duration": 135,
    "start_time": "2023-02-21T11:41:20.213Z"
   },
   {
    "duration": 10,
    "start_time": "2023-02-21T11:41:30.001Z"
   },
   {
    "duration": 13,
    "start_time": "2023-02-21T11:43:16.901Z"
   },
   {
    "duration": 14,
    "start_time": "2023-02-21T11:44:28.610Z"
   },
   {
    "duration": 1117,
    "start_time": "2023-02-21T11:45:04.604Z"
   },
   {
    "duration": 3,
    "start_time": "2023-02-21T11:45:05.725Z"
   },
   {
    "duration": 158,
    "start_time": "2023-02-21T11:45:05.730Z"
   },
   {
    "duration": 25,
    "start_time": "2023-02-21T11:45:05.893Z"
   },
   {
    "duration": 10,
    "start_time": "2023-02-21T11:45:05.920Z"
   },
   {
    "duration": 16,
    "start_time": "2023-02-21T11:45:05.932Z"
   },
   {
    "duration": 289,
    "start_time": "2023-02-21T11:45:05.949Z"
   },
   {
    "duration": 277,
    "start_time": "2023-02-21T11:45:06.239Z"
   },
   {
    "duration": 39,
    "start_time": "2023-02-21T11:45:06.518Z"
   },
   {
    "duration": 6,
    "start_time": "2023-02-21T11:45:06.559Z"
   },
   {
    "duration": 60,
    "start_time": "2023-02-21T11:45:06.566Z"
   },
   {
    "duration": 25,
    "start_time": "2023-02-21T11:45:06.628Z"
   },
   {
    "duration": 7,
    "start_time": "2023-02-21T11:45:06.654Z"
   },
   {
    "duration": 62,
    "start_time": "2023-02-21T11:45:06.663Z"
   },
   {
    "duration": 1118,
    "start_time": "2023-02-21T11:50:56.266Z"
   },
   {
    "duration": 4,
    "start_time": "2023-02-21T11:50:57.386Z"
   },
   {
    "duration": 140,
    "start_time": "2023-02-21T11:50:57.392Z"
   },
   {
    "duration": 18,
    "start_time": "2023-02-21T11:50:57.534Z"
   },
   {
    "duration": 9,
    "start_time": "2023-02-21T11:50:57.554Z"
   },
   {
    "duration": 11,
    "start_time": "2023-02-21T11:50:57.564Z"
   },
   {
    "duration": 292,
    "start_time": "2023-02-21T11:50:57.576Z"
   },
   {
    "duration": 283,
    "start_time": "2023-02-21T11:50:57.870Z"
   },
   {
    "duration": 66,
    "start_time": "2023-02-21T11:50:58.155Z"
   },
   {
    "duration": 5,
    "start_time": "2023-02-21T11:50:58.223Z"
   },
   {
    "duration": 45,
    "start_time": "2023-02-21T11:50:58.230Z"
   },
   {
    "duration": 18,
    "start_time": "2023-02-21T11:50:58.276Z"
   },
   {
    "duration": 30,
    "start_time": "2023-02-21T11:50:58.297Z"
   },
   {
    "duration": 9,
    "start_time": "2023-02-21T11:50:58.329Z"
   },
   {
    "duration": 1197,
    "start_time": "2023-02-21T12:03:35.722Z"
   },
   {
    "duration": 3,
    "start_time": "2023-02-21T12:03:36.921Z"
   },
   {
    "duration": 100,
    "start_time": "2023-02-21T12:03:36.926Z"
   },
   {
    "duration": 21,
    "start_time": "2023-02-21T12:03:37.028Z"
   },
   {
    "duration": 3,
    "start_time": "2023-02-21T12:03:37.050Z"
   },
   {
    "duration": 19,
    "start_time": "2023-02-21T12:03:37.055Z"
   },
   {
    "duration": 353,
    "start_time": "2023-02-21T12:03:37.076Z"
   },
   {
    "duration": 300,
    "start_time": "2023-02-21T12:03:37.431Z"
   },
   {
    "duration": 80,
    "start_time": "2023-02-21T12:03:37.732Z"
   },
   {
    "duration": 7,
    "start_time": "2023-02-21T12:03:37.815Z"
   },
   {
    "duration": 24,
    "start_time": "2023-02-21T12:03:37.824Z"
   },
   {
    "duration": 43,
    "start_time": "2023-02-21T12:03:37.850Z"
   },
   {
    "duration": 29,
    "start_time": "2023-02-21T12:03:37.895Z"
   },
   {
    "duration": 24,
    "start_time": "2023-02-21T12:03:37.926Z"
   },
   {
    "duration": 1150,
    "start_time": "2023-02-21T12:06:35.575Z"
   },
   {
    "duration": 3,
    "start_time": "2023-02-21T12:06:36.727Z"
   },
   {
    "duration": 108,
    "start_time": "2023-02-21T12:06:36.731Z"
   },
   {
    "duration": 19,
    "start_time": "2023-02-21T12:06:36.840Z"
   },
   {
    "duration": 8,
    "start_time": "2023-02-21T12:06:36.860Z"
   },
   {
    "duration": 18,
    "start_time": "2023-02-21T12:06:36.870Z"
   },
   {
    "duration": 331,
    "start_time": "2023-02-21T12:06:36.890Z"
   },
   {
    "duration": 253,
    "start_time": "2023-02-21T12:06:37.222Z"
   },
   {
    "duration": 61,
    "start_time": "2023-02-21T12:06:37.477Z"
   },
   {
    "duration": 7,
    "start_time": "2023-02-21T12:06:37.540Z"
   },
   {
    "duration": 13,
    "start_time": "2023-02-21T12:06:37.549Z"
   },
   {
    "duration": 17,
    "start_time": "2023-02-21T12:06:37.563Z"
   },
   {
    "duration": 30,
    "start_time": "2023-02-21T12:06:37.585Z"
   },
   {
    "duration": 14,
    "start_time": "2023-02-21T12:06:37.617Z"
   },
   {
    "duration": 141,
    "start_time": "2023-02-21T12:24:01.761Z"
   },
   {
    "duration": 27,
    "start_time": "2023-02-21T12:26:27.850Z"
   },
   {
    "duration": 28,
    "start_time": "2023-02-21T12:28:25.052Z"
   },
   {
    "duration": 293,
    "start_time": "2023-02-21T12:30:59.577Z"
   },
   {
    "duration": 288,
    "start_time": "2023-02-21T12:31:12.100Z"
   },
   {
    "duration": 1070,
    "start_time": "2023-02-21T12:31:49.910Z"
   },
   {
    "duration": 6,
    "start_time": "2023-02-21T12:31:50.982Z"
   },
   {
    "duration": 82,
    "start_time": "2023-02-21T12:31:50.989Z"
   },
   {
    "duration": 26,
    "start_time": "2023-02-21T12:31:51.072Z"
   },
   {
    "duration": 15,
    "start_time": "2023-02-21T12:31:51.099Z"
   },
   {
    "duration": 25,
    "start_time": "2023-02-21T12:31:51.115Z"
   },
   {
    "duration": 278,
    "start_time": "2023-02-21T12:31:51.142Z"
   },
   {
    "duration": 256,
    "start_time": "2023-02-21T12:31:51.422Z"
   },
   {
    "duration": 47,
    "start_time": "2023-02-21T12:31:51.686Z"
   },
   {
    "duration": 5,
    "start_time": "2023-02-21T12:31:51.735Z"
   },
   {
    "duration": 9,
    "start_time": "2023-02-21T12:31:51.742Z"
   },
   {
    "duration": 12,
    "start_time": "2023-02-21T12:31:51.753Z"
   },
   {
    "duration": 33,
    "start_time": "2023-02-21T12:31:51.767Z"
   },
   {
    "duration": 26,
    "start_time": "2023-02-21T12:31:51.801Z"
   },
   {
    "duration": 6,
    "start_time": "2023-02-21T12:31:51.828Z"
   },
   {
    "duration": 293,
    "start_time": "2023-02-21T12:31:51.835Z"
   },
   {
    "duration": 260,
    "start_time": "2023-02-21T12:33:58.042Z"
   },
   {
    "duration": 164,
    "start_time": "2023-02-21T12:36:05.297Z"
   },
   {
    "duration": 179,
    "start_time": "2023-02-21T12:36:14.097Z"
   },
   {
    "duration": 181,
    "start_time": "2023-02-21T12:36:41.272Z"
   },
   {
    "duration": 246,
    "start_time": "2023-02-21T12:37:01.432Z"
   },
   {
    "duration": 172,
    "start_time": "2023-02-21T12:37:08.576Z"
   },
   {
    "duration": 197,
    "start_time": "2023-02-21T12:38:13.504Z"
   },
   {
    "duration": 53,
    "start_time": "2023-02-21T12:39:14.062Z"
   },
   {
    "duration": 208,
    "start_time": "2023-02-21T12:39:22.309Z"
   },
   {
    "duration": 200,
    "start_time": "2023-02-21T12:40:06.423Z"
   },
   {
    "duration": 199,
    "start_time": "2023-02-21T12:40:16.958Z"
   },
   {
    "duration": 217,
    "start_time": "2023-02-21T12:48:10.409Z"
   },
   {
    "duration": 330,
    "start_time": "2023-02-21T12:52:53.581Z"
   },
   {
    "duration": 331,
    "start_time": "2023-02-21T12:54:29.902Z"
   },
   {
    "duration": 317,
    "start_time": "2023-02-21T12:54:44.283Z"
   },
   {
    "duration": 282,
    "start_time": "2023-02-21T12:59:51.717Z"
   },
   {
    "duration": 315,
    "start_time": "2023-02-21T13:07:36.566Z"
   },
   {
    "duration": 403,
    "start_time": "2023-02-21T13:09:24.485Z"
   },
   {
    "duration": 311,
    "start_time": "2023-02-21T13:09:39.911Z"
   },
   {
    "duration": 226,
    "start_time": "2023-02-21T13:09:55.202Z"
   },
   {
    "duration": 344,
    "start_time": "2023-02-21T13:17:37.253Z"
   },
   {
    "duration": 340,
    "start_time": "2023-02-21T13:19:28.060Z"
   },
   {
    "duration": 1109,
    "start_time": "2023-02-21T13:23:28.748Z"
   },
   {
    "duration": 3,
    "start_time": "2023-02-21T13:23:29.859Z"
   },
   {
    "duration": 80,
    "start_time": "2023-02-21T13:23:29.864Z"
   },
   {
    "duration": 20,
    "start_time": "2023-02-21T13:23:29.946Z"
   },
   {
    "duration": 4,
    "start_time": "2023-02-21T13:23:29.968Z"
   },
   {
    "duration": 9,
    "start_time": "2023-02-21T13:23:29.974Z"
   },
   {
    "duration": 339,
    "start_time": "2023-02-21T13:23:29.985Z"
   },
   {
    "duration": 279,
    "start_time": "2023-02-21T13:23:30.325Z"
   },
   {
    "duration": 45,
    "start_time": "2023-02-21T13:23:30.606Z"
   },
   {
    "duration": 7,
    "start_time": "2023-02-21T13:23:30.654Z"
   },
   {
    "duration": 66,
    "start_time": "2023-02-21T13:23:30.662Z"
   },
   {
    "duration": 49,
    "start_time": "2023-02-21T13:23:30.730Z"
   },
   {
    "duration": 82,
    "start_time": "2023-02-21T13:23:30.780Z"
   },
   {
    "duration": 48,
    "start_time": "2023-02-21T13:23:30.863Z"
   },
   {
    "duration": 30,
    "start_time": "2023-02-21T13:23:30.913Z"
   },
   {
    "duration": 358,
    "start_time": "2023-02-21T13:23:30.945Z"
   },
   {
    "duration": 284,
    "start_time": "2023-02-21T13:23:31.310Z"
   },
   {
    "duration": 225,
    "start_time": "2023-02-21T13:23:31.595Z"
   },
   {
    "duration": 310,
    "start_time": "2023-02-21T13:23:31.822Z"
   },
   {
    "duration": 263,
    "start_time": "2023-02-21T13:23:32.134Z"
   },
   {
    "duration": 447,
    "start_time": "2023-02-21T13:23:32.404Z"
   },
   {
    "duration": 1153,
    "start_time": "2023-02-21T13:25:06.941Z"
   },
   {
    "duration": 4,
    "start_time": "2023-02-21T13:25:08.103Z"
   },
   {
    "duration": 95,
    "start_time": "2023-02-21T13:25:08.109Z"
   },
   {
    "duration": 19,
    "start_time": "2023-02-21T13:25:08.207Z"
   },
   {
    "duration": 14,
    "start_time": "2023-02-21T13:25:08.228Z"
   },
   {
    "duration": 23,
    "start_time": "2023-02-21T13:25:08.244Z"
   },
   {
    "duration": 312,
    "start_time": "2023-02-21T13:25:08.268Z"
   },
   {
    "duration": 274,
    "start_time": "2023-02-21T13:25:08.581Z"
   },
   {
    "duration": 70,
    "start_time": "2023-02-21T13:25:08.857Z"
   },
   {
    "duration": 8,
    "start_time": "2023-02-21T13:25:08.929Z"
   },
   {
    "duration": 31,
    "start_time": "2023-02-21T13:25:08.938Z"
   },
   {
    "duration": 44,
    "start_time": "2023-02-21T13:25:08.971Z"
   },
   {
    "duration": 12,
    "start_time": "2023-02-21T13:25:09.017Z"
   },
   {
    "duration": 312,
    "start_time": "2023-02-21T13:25:09.030Z"
   },
   {
    "duration": 292,
    "start_time": "2023-02-21T13:25:09.344Z"
   },
   {
    "duration": 213,
    "start_time": "2023-02-21T13:25:09.637Z"
   },
   {
    "duration": 351,
    "start_time": "2023-02-21T13:25:09.852Z"
   },
   {
    "duration": 217,
    "start_time": "2023-02-21T13:25:10.204Z"
   },
   {
    "duration": 453,
    "start_time": "2023-02-21T13:25:10.423Z"
   },
   {
    "duration": 337,
    "start_time": "2023-02-21T13:30:08.601Z"
   },
   {
    "duration": 155,
    "start_time": "2023-02-21T13:31:28.413Z"
   },
   {
    "duration": 117,
    "start_time": "2023-02-21T13:39:24.077Z"
   },
   {
    "duration": 132,
    "start_time": "2023-02-21T13:39:46.022Z"
   },
   {
    "duration": 6,
    "start_time": "2023-02-21T13:43:14.304Z"
   },
   {
    "duration": 5,
    "start_time": "2023-02-21T13:44:07.546Z"
   },
   {
    "duration": 142,
    "start_time": "2023-02-21T13:47:04.300Z"
   },
   {
    "duration": 208,
    "start_time": "2023-02-21T13:49:55.857Z"
   },
   {
    "duration": 159,
    "start_time": "2023-02-21T13:50:11.714Z"
   },
   {
    "duration": 158,
    "start_time": "2023-02-21T13:50:28.819Z"
   },
   {
    "duration": 6,
    "start_time": "2023-02-21T13:52:51.540Z"
   },
   {
    "duration": 189,
    "start_time": "2023-02-21T13:56:36.724Z"
   },
   {
    "duration": 174,
    "start_time": "2023-02-21T13:58:03.734Z"
   },
   {
    "duration": 154,
    "start_time": "2023-02-21T13:58:13.784Z"
   },
   {
    "duration": 178,
    "start_time": "2023-02-21T13:58:29.801Z"
   },
   {
    "duration": 259,
    "start_time": "2023-02-21T13:58:43.751Z"
   },
   {
    "duration": 210,
    "start_time": "2023-02-21T13:58:55.743Z"
   },
   {
    "duration": 178,
    "start_time": "2023-02-21T13:59:50.680Z"
   },
   {
    "duration": 215,
    "start_time": "2023-02-21T14:16:45.037Z"
   },
   {
    "duration": 225,
    "start_time": "2023-02-21T14:17:18.047Z"
   },
   {
    "duration": 129,
    "start_time": "2023-02-21T14:18:14.610Z"
   },
   {
    "duration": 15,
    "start_time": "2023-02-21T14:24:16.285Z"
   },
   {
    "duration": 4,
    "start_time": "2023-02-21T14:25:23.843Z"
   },
   {
    "duration": 20,
    "start_time": "2023-02-21T14:25:32.533Z"
   },
   {
    "duration": 19,
    "start_time": "2023-02-21T14:29:57.706Z"
   },
   {
    "duration": 12,
    "start_time": "2023-02-21T14:37:16.611Z"
   },
   {
    "duration": 17,
    "start_time": "2023-02-21T14:38:19.889Z"
   },
   {
    "duration": 9,
    "start_time": "2023-02-21T14:38:31.600Z"
   },
   {
    "duration": 10,
    "start_time": "2023-02-21T14:45:41.672Z"
   },
   {
    "duration": 10,
    "start_time": "2023-02-21T14:46:20.200Z"
   },
   {
    "duration": 7,
    "start_time": "2023-02-21T14:47:48.999Z"
   },
   {
    "duration": 23,
    "start_time": "2023-02-21T14:48:59.288Z"
   },
   {
    "duration": 766,
    "start_time": "2023-02-21T15:01:29.020Z"
   },
   {
    "duration": 10,
    "start_time": "2023-02-21T15:01:47.743Z"
   },
   {
    "duration": 19,
    "start_time": "2023-02-21T15:02:28.374Z"
   },
   {
    "duration": 14,
    "start_time": "2023-02-21T15:09:57.300Z"
   },
   {
    "duration": 1187,
    "start_time": "2023-02-21T15:31:29.987Z"
   },
   {
    "duration": 8,
    "start_time": "2023-02-21T15:31:31.177Z"
   },
   {
    "duration": 213,
    "start_time": "2023-02-21T15:31:31.196Z"
   },
   {
    "duration": 18,
    "start_time": "2023-02-21T15:31:31.411Z"
   },
   {
    "duration": 12,
    "start_time": "2023-02-21T15:31:31.431Z"
   },
   {
    "duration": 36,
    "start_time": "2023-02-21T15:31:31.445Z"
   },
   {
    "duration": 333,
    "start_time": "2023-02-21T15:31:31.483Z"
   },
   {
    "duration": 291,
    "start_time": "2023-02-21T15:31:31.817Z"
   },
   {
    "duration": 47,
    "start_time": "2023-02-21T15:31:32.109Z"
   },
   {
    "duration": 8,
    "start_time": "2023-02-21T15:31:32.186Z"
   },
   {
    "duration": 53,
    "start_time": "2023-02-21T15:31:32.196Z"
   },
   {
    "duration": 10,
    "start_time": "2023-02-21T15:31:32.251Z"
   },
   {
    "duration": 11,
    "start_time": "2023-02-21T15:31:32.262Z"
   },
   {
    "duration": 334,
    "start_time": "2023-02-21T15:31:32.275Z"
   },
   {
    "duration": 314,
    "start_time": "2023-02-21T15:31:32.611Z"
   },
   {
    "duration": 238,
    "start_time": "2023-02-21T15:31:32.927Z"
   },
   {
    "duration": 334,
    "start_time": "2023-02-21T15:31:33.167Z"
   },
   {
    "duration": 237,
    "start_time": "2023-02-21T15:31:33.503Z"
   },
   {
    "duration": 418,
    "start_time": "2023-02-21T15:31:33.742Z"
   },
   {
    "duration": 332,
    "start_time": "2023-02-21T15:31:34.162Z"
   },
   {
    "duration": 169,
    "start_time": "2023-02-21T15:31:34.495Z"
   },
   {
    "duration": 5,
    "start_time": "2023-02-21T15:31:34.666Z"
   },
   {
    "duration": 176,
    "start_time": "2023-02-21T15:31:34.673Z"
   },
   {
    "duration": 206,
    "start_time": "2023-02-21T15:31:34.850Z"
   },
   {
    "duration": 5,
    "start_time": "2023-02-21T15:31:35.058Z"
   },
   {
    "duration": 286,
    "start_time": "2023-02-21T15:31:35.065Z"
   },
   {
    "duration": 162,
    "start_time": "2023-02-21T15:31:35.353Z"
   },
   {
    "duration": 34,
    "start_time": "2023-02-21T15:31:35.519Z"
   },
   {
    "duration": 14,
    "start_time": "2023-02-21T15:31:35.555Z"
   },
   {
    "duration": 23,
    "start_time": "2023-02-21T15:31:35.571Z"
   },
   {
    "duration": 38,
    "start_time": "2023-02-21T15:31:35.596Z"
   },
   {
    "duration": 36,
    "start_time": "2023-02-21T15:31:35.636Z"
   },
   {
    "duration": 18,
    "start_time": "2023-02-21T15:31:35.675Z"
   }
  ],
  "kernelspec": {
   "display_name": "Python 3 (ipykernel)",
   "language": "python",
   "name": "python3"
  },
  "language_info": {
   "codemirror_mode": {
    "name": "ipython",
    "version": 3
   },
   "file_extension": ".py",
   "mimetype": "text/x-python",
   "name": "python",
   "nbconvert_exporter": "python",
   "pygments_lexer": "ipython3",
   "version": "3.9.7"
  },
  "toc": {
   "base_numbering": 1,
   "nav_menu": {},
   "number_sections": true,
   "sideBar": true,
   "skip_h1_title": true,
   "title_cell": "Table of Contents",
   "title_sidebar": "Contents",
   "toc_cell": false,
   "toc_position": {},
   "toc_section_display": true,
   "toc_window_display": false
  }
 },
 "nbformat": 4,
 "nbformat_minor": 2
}
